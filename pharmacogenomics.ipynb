{
  "cells": [
    {
      "cell_type": "markdown",
      "metadata": {
        "id": "4dzuhQOgOn3Y"
      },
      "source": [
        "## Introduction to working with pharmacogenomic data and Jupyter notebooks\n",
        "\n",
        "### *A short hands-on guide for exploring pharmacogenomic databases using python scripts*\n",
        "\n",
        "In today's workshop we will have a quick overview on how to extract data from public ressources in the field of pharmacogenomics and how to explore aggregated and individual information with Jupyter notebooks.\n",
        "\n",
        "The workshop will be divided in roughly 3 parts:\n",
        "\n",
        "- Introduction to Jupyter notebooks and PharmGKB drug label data (20 min)\n",
        "- Data preparation and data exploration of clinical variants (20 min)\n",
        "- Focused assessment of mutations in a specific protein family (20 min)\n",
        "\n",
        "These are the learning objectives of today's workshop:\n",
        "\n",
        "- General data handling concepts including data aggregation and visualization through a glimpse into Jupyter Notebooks\n",
        "- Overview of the publicly available pharmacogenomic data landscape\n",
        "- Understanding the different types of variations and their possible effect on drug response\n",
        "\n",
        "\n",
        "To make things easier you find a range of icons througout this notebook. They roughly correspond to the following:\n",
        "\n",
        "- 🎯: Plan of action\n",
        "- 💡: Useful information\n",
        "- 💥: Action point or own reflections required\n",
        "- 📌: Interpretations of results\n",
        "- ❗️: Watch out!"
      ]
    },
    {
      "cell_type": "markdown",
      "metadata": {
        "id": "gs8PvgYjOn3a"
      },
      "source": [
        "## Jupyter Notebooks\n",
        "\n",
        "💡 The Jupyter Notebook is an open-source web application that allows data scientists to create and share documents that integrate live code, equations, computational output, visualizations, and other multimedia resources, along with explanatory text in a single document.\n",
        "\n",
        "❗️ This is an interactive notebook, which means you are able to run the code that is written in each of the cells.\n",
        "\n",
        "There are two types od cells:\n",
        "1. **Markdown**, which is a lightweight markup language for creating formatted text\n",
        "2. **Code**, executable python code\n",
        "\n",
        "❗️ Wheneve ryou see a **#** in a **Code** cell, then this is not excecuted, but rather serves as documentation to explain the code\n",
        "\n",
        "\n",
        "#### Running python code in this notebook\n",
        "\n",
        "<div class=\"alert alert-info\" role=\"alert\">\n",
        "\n",
        "❗️ **To run the code in a cell, you should:**\n",
        "- Place your mouse cursor in the cell, and click (this gives the cell *focus*) to make it active \n",
        "- Hold down the <b>Shift</b> key, and press the <b>Return</b> key.\n",
        "\n",
        "If this is successful, you should see the input marker to the left of the cell change from\n",
        "\n",
        "```\n",
        "In [ ]:\n",
        "```\n",
        "\n",
        "to (for example)\n",
        "\n",
        "```\n",
        "In [1]:\n",
        "```\n",
        "\n",
        "and you may see output appear below the cell."
      ]
    },
    {
      "cell_type": "markdown",
      "metadata": {
        "id": "Wv8Y7c44On3c"
      },
      "source": [
        "## PharmGKB\n",
        "\n",
        "🎯 Lets start by looking into PharmGKB, a publicly available online knowledge base responsible for the aggregation, curation, integration and dissemination of knowledge regarding the impact of human genetic variation on drug response.\n",
        "\n",
        "[<img src=\"data:image/png;base64,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\" style=\"width:150px;\">](https://www.pharmgkb.org/)\n",
        "\n",
        "We are going to look at two files from [PharmGKB](https://www.pharmgkb.org/downloads):\n",
        "1. The \"[drugLabels.zip](https://www.pharmgkb.org/page/downloadLabelHelp)\", which contains drug label annotations form major drug agencies (e.g the FDA, EMA etc.)\n",
        "2. The \"[clinicalVariants.zip](https://www.pharmgkb.org/page/downloadClinicalVariantHelp)\", which contains a list of variant-drug pairs and level of evidence for all clinical annotations\n",
        "\n",
        "A file with additional information on the drug compounds has been prepared with information available from\n",
        "[<img src=\"https://go.drugbank.com/assets/logo-white-dd185d748ee0164b8ee8f88df29235cd8cfc7936a3c974589262c667e9294219.svg\">](https://go.drugbank.com/)\n",
        "\n",
        "🎯 We start by loading the **drugLabels** data into a pandas dataframe and start exploring!\n",
        "\n",
        "❗️But before we can start, we need to pull some necessary data file and load (and install) additional packages and modules into our Jupyter notebook:"
      ]
    },
    {
      "cell_type": "code",
      "execution_count": null,
      "metadata": {},
      "outputs": [],
      "source": [
        "!git clone https://github.com/AlexanderHauser/PGx-workshop"
      ]
    },
    {
      "cell_type": "code",
      "execution_count": 723,
      "metadata": {
        "id": "ykVDxyZAOn3d"
      },
      "outputs": [],
      "source": [
        "import pandas as pd # data manipulation and analysis\n",
        "import re # regular expressions\n",
        "import numpy as np # support for high-level mathematical functions\n",
        "\n",
        "import matplotlib.pyplot as plt # plotting library\n",
        "import seaborn as sns # API on top of Matplotlib\n",
        "\n",
        "# Pandas custom display options:\n",
        "pd.options.display.max_columns = None\n",
        "pd.set_option('display.max_colwidth', 40)"
      ]
    },
    {
      "cell_type": "code",
      "execution_count": 724,
      "metadata": {
        "colab": {
          "base_uri": "https://localhost:8080/"
        },
        "id": "PvVe5dd3QP31",
        "outputId": "633202be-bbdb-4c3e-dece-b1c7b644afa1"
      },
      "outputs": [
        {
          "name": "stdout",
          "output_type": "stream",
          "text": [
            "Requirement already satisfied: py3Dmol in /Users/vzw960/opt/anaconda3/lib/python3.8/site-packages (1.8.0)\n"
          ]
        }
      ],
      "source": [
        "!pip install py3Dmol\n",
        "\n",
        "import py3Dmol\n",
        "from ipywidgets import interact, IntSlider, widgets # allows interactive widgets\n",
        "from IPython.display import display"
      ]
    },
    {
      "cell_type": "markdown",
      "metadata": {
        "id": "0yMIbWeBOn3e"
      },
      "source": [
        "## 1. **Drug Label annotations**"
      ]
    },
    {
      "cell_type": "code",
      "execution_count": 725,
      "metadata": {
        "colab": {
          "base_uri": "https://localhost:8080/",
          "height": 652
        },
        "id": "Ia0ppALJOn3e",
        "outputId": "44272756-3727-4212-e92a-e3f262a58c58"
      },
      "outputs": [
        {
          "ename": "FileNotFoundError",
          "evalue": "[Errno 2] No such file or directory: '/content/PGx-workshop/data/drugLabels_drugbank.csv'",
          "output_type": "error",
          "traceback": [
            "\u001b[0;31m---------------------------------------------------------------------------\u001b[0m",
            "\u001b[0;31mFileNotFoundError\u001b[0m                         Traceback (most recent call last)",
            "\u001b[0;32m/var/folders/7f/8zy1ngcj4911m17qc1ksby_m0000gp/T/ipykernel_3800/2237958172.py\u001b[0m in \u001b[0;36m<module>\u001b[0;34m\u001b[0m\n\u001b[1;32m      1\u001b[0m \u001b[0;31m# Load data and take a look\u001b[0m\u001b[0;34m\u001b[0m\u001b[0;34m\u001b[0m\u001b[0;34m\u001b[0m\u001b[0m\n\u001b[0;32m----> 2\u001b[0;31m \u001b[0mdl_merge\u001b[0m \u001b[0;34m=\u001b[0m \u001b[0mpd\u001b[0m\u001b[0;34m.\u001b[0m\u001b[0mread_csv\u001b[0m\u001b[0;34m(\u001b[0m\u001b[0;34m\"/content/PGx-workshop/data/drugLabels_drugbank.csv\"\u001b[0m\u001b[0;34m)\u001b[0m\u001b[0;34m\u001b[0m\u001b[0;34m\u001b[0m\u001b[0m\n\u001b[0m\u001b[1;32m      3\u001b[0m \u001b[0mdl_merge\u001b[0m\u001b[0;34m.\u001b[0m\u001b[0mhead\u001b[0m\u001b[0;34m(\u001b[0m\u001b[0;34m)\u001b[0m\u001b[0;34m\u001b[0m\u001b[0;34m\u001b[0m\u001b[0m\n",
            "\u001b[0;32m~/opt/anaconda3/lib/python3.8/site-packages/pandas/util/_decorators.py\u001b[0m in \u001b[0;36mwrapper\u001b[0;34m(*args, **kwargs)\u001b[0m\n\u001b[1;32m    309\u001b[0m                     \u001b[0mstacklevel\u001b[0m\u001b[0;34m=\u001b[0m\u001b[0mstacklevel\u001b[0m\u001b[0;34m,\u001b[0m\u001b[0;34m\u001b[0m\u001b[0;34m\u001b[0m\u001b[0m\n\u001b[1;32m    310\u001b[0m                 )\n\u001b[0;32m--> 311\u001b[0;31m             \u001b[0;32mreturn\u001b[0m \u001b[0mfunc\u001b[0m\u001b[0;34m(\u001b[0m\u001b[0;34m*\u001b[0m\u001b[0margs\u001b[0m\u001b[0;34m,\u001b[0m \u001b[0;34m**\u001b[0m\u001b[0mkwargs\u001b[0m\u001b[0;34m)\u001b[0m\u001b[0;34m\u001b[0m\u001b[0;34m\u001b[0m\u001b[0m\n\u001b[0m\u001b[1;32m    312\u001b[0m \u001b[0;34m\u001b[0m\u001b[0m\n\u001b[1;32m    313\u001b[0m         \u001b[0;32mreturn\u001b[0m \u001b[0mwrapper\u001b[0m\u001b[0;34m\u001b[0m\u001b[0;34m\u001b[0m\u001b[0m\n",
            "\u001b[0;32m~/opt/anaconda3/lib/python3.8/site-packages/pandas/io/parsers/readers.py\u001b[0m in \u001b[0;36mread_csv\u001b[0;34m(filepath_or_buffer, sep, delimiter, header, names, index_col, usecols, squeeze, prefix, mangle_dupe_cols, dtype, engine, converters, true_values, false_values, skipinitialspace, skiprows, skipfooter, nrows, na_values, keep_default_na, na_filter, verbose, skip_blank_lines, parse_dates, infer_datetime_format, keep_date_col, date_parser, dayfirst, cache_dates, iterator, chunksize, compression, thousands, decimal, lineterminator, quotechar, quoting, doublequote, escapechar, comment, encoding, encoding_errors, dialect, error_bad_lines, warn_bad_lines, on_bad_lines, delim_whitespace, low_memory, memory_map, float_precision, storage_options)\u001b[0m\n\u001b[1;32m    678\u001b[0m     \u001b[0mkwds\u001b[0m\u001b[0;34m.\u001b[0m\u001b[0mupdate\u001b[0m\u001b[0;34m(\u001b[0m\u001b[0mkwds_defaults\u001b[0m\u001b[0;34m)\u001b[0m\u001b[0;34m\u001b[0m\u001b[0;34m\u001b[0m\u001b[0m\n\u001b[1;32m    679\u001b[0m \u001b[0;34m\u001b[0m\u001b[0m\n\u001b[0;32m--> 680\u001b[0;31m     \u001b[0;32mreturn\u001b[0m \u001b[0m_read\u001b[0m\u001b[0;34m(\u001b[0m\u001b[0mfilepath_or_buffer\u001b[0m\u001b[0;34m,\u001b[0m \u001b[0mkwds\u001b[0m\u001b[0;34m)\u001b[0m\u001b[0;34m\u001b[0m\u001b[0;34m\u001b[0m\u001b[0m\n\u001b[0m\u001b[1;32m    681\u001b[0m \u001b[0;34m\u001b[0m\u001b[0m\n\u001b[1;32m    682\u001b[0m \u001b[0;34m\u001b[0m\u001b[0m\n",
            "\u001b[0;32m~/opt/anaconda3/lib/python3.8/site-packages/pandas/io/parsers/readers.py\u001b[0m in \u001b[0;36m_read\u001b[0;34m(filepath_or_buffer, kwds)\u001b[0m\n\u001b[1;32m    573\u001b[0m \u001b[0;34m\u001b[0m\u001b[0m\n\u001b[1;32m    574\u001b[0m     \u001b[0;31m# Create the parser.\u001b[0m\u001b[0;34m\u001b[0m\u001b[0;34m\u001b[0m\u001b[0;34m\u001b[0m\u001b[0m\n\u001b[0;32m--> 575\u001b[0;31m     \u001b[0mparser\u001b[0m \u001b[0;34m=\u001b[0m \u001b[0mTextFileReader\u001b[0m\u001b[0;34m(\u001b[0m\u001b[0mfilepath_or_buffer\u001b[0m\u001b[0;34m,\u001b[0m \u001b[0;34m**\u001b[0m\u001b[0mkwds\u001b[0m\u001b[0;34m)\u001b[0m\u001b[0;34m\u001b[0m\u001b[0;34m\u001b[0m\u001b[0m\n\u001b[0m\u001b[1;32m    576\u001b[0m \u001b[0;34m\u001b[0m\u001b[0m\n\u001b[1;32m    577\u001b[0m     \u001b[0;32mif\u001b[0m \u001b[0mchunksize\u001b[0m \u001b[0;32mor\u001b[0m \u001b[0miterator\u001b[0m\u001b[0;34m:\u001b[0m\u001b[0;34m\u001b[0m\u001b[0;34m\u001b[0m\u001b[0m\n",
            "\u001b[0;32m~/opt/anaconda3/lib/python3.8/site-packages/pandas/io/parsers/readers.py\u001b[0m in \u001b[0;36m__init__\u001b[0;34m(self, f, engine, **kwds)\u001b[0m\n\u001b[1;32m    931\u001b[0m \u001b[0;34m\u001b[0m\u001b[0m\n\u001b[1;32m    932\u001b[0m         \u001b[0mself\u001b[0m\u001b[0;34m.\u001b[0m\u001b[0mhandles\u001b[0m\u001b[0;34m:\u001b[0m \u001b[0mIOHandles\u001b[0m \u001b[0;34m|\u001b[0m \u001b[0;32mNone\u001b[0m \u001b[0;34m=\u001b[0m \u001b[0;32mNone\u001b[0m\u001b[0;34m\u001b[0m\u001b[0;34m\u001b[0m\u001b[0m\n\u001b[0;32m--> 933\u001b[0;31m         \u001b[0mself\u001b[0m\u001b[0;34m.\u001b[0m\u001b[0m_engine\u001b[0m \u001b[0;34m=\u001b[0m \u001b[0mself\u001b[0m\u001b[0;34m.\u001b[0m\u001b[0m_make_engine\u001b[0m\u001b[0;34m(\u001b[0m\u001b[0mf\u001b[0m\u001b[0;34m,\u001b[0m \u001b[0mself\u001b[0m\u001b[0;34m.\u001b[0m\u001b[0mengine\u001b[0m\u001b[0;34m)\u001b[0m\u001b[0;34m\u001b[0m\u001b[0;34m\u001b[0m\u001b[0m\n\u001b[0m\u001b[1;32m    934\u001b[0m \u001b[0;34m\u001b[0m\u001b[0m\n\u001b[1;32m    935\u001b[0m     \u001b[0;32mdef\u001b[0m \u001b[0mclose\u001b[0m\u001b[0;34m(\u001b[0m\u001b[0mself\u001b[0m\u001b[0;34m)\u001b[0m\u001b[0;34m:\u001b[0m\u001b[0;34m\u001b[0m\u001b[0;34m\u001b[0m\u001b[0m\n",
            "\u001b[0;32m~/opt/anaconda3/lib/python3.8/site-packages/pandas/io/parsers/readers.py\u001b[0m in \u001b[0;36m_make_engine\u001b[0;34m(self, f, engine)\u001b[0m\n\u001b[1;32m   1215\u001b[0m             \u001b[0;31m# \"Union[str, PathLike[str], ReadCsvBuffer[bytes], ReadCsvBuffer[str]]\"\u001b[0m\u001b[0;34m\u001b[0m\u001b[0;34m\u001b[0m\u001b[0;34m\u001b[0m\u001b[0m\n\u001b[1;32m   1216\u001b[0m             \u001b[0;31m# , \"str\", \"bool\", \"Any\", \"Any\", \"Any\", \"Any\", \"Any\"\u001b[0m\u001b[0;34m\u001b[0m\u001b[0;34m\u001b[0m\u001b[0;34m\u001b[0m\u001b[0m\n\u001b[0;32m-> 1217\u001b[0;31m             self.handles = get_handle(  # type: ignore[call-overload]\n\u001b[0m\u001b[1;32m   1218\u001b[0m                 \u001b[0mf\u001b[0m\u001b[0;34m,\u001b[0m\u001b[0;34m\u001b[0m\u001b[0;34m\u001b[0m\u001b[0m\n\u001b[1;32m   1219\u001b[0m                 \u001b[0mmode\u001b[0m\u001b[0;34m,\u001b[0m\u001b[0;34m\u001b[0m\u001b[0;34m\u001b[0m\u001b[0m\n",
            "\u001b[0;32m~/opt/anaconda3/lib/python3.8/site-packages/pandas/io/common.py\u001b[0m in \u001b[0;36mget_handle\u001b[0;34m(path_or_buf, mode, encoding, compression, memory_map, is_text, errors, storage_options)\u001b[0m\n\u001b[1;32m    787\u001b[0m         \u001b[0;32mif\u001b[0m \u001b[0mioargs\u001b[0m\u001b[0;34m.\u001b[0m\u001b[0mencoding\u001b[0m \u001b[0;32mand\u001b[0m \u001b[0;34m\"b\"\u001b[0m \u001b[0;32mnot\u001b[0m \u001b[0;32min\u001b[0m \u001b[0mioargs\u001b[0m\u001b[0;34m.\u001b[0m\u001b[0mmode\u001b[0m\u001b[0;34m:\u001b[0m\u001b[0;34m\u001b[0m\u001b[0;34m\u001b[0m\u001b[0m\n\u001b[1;32m    788\u001b[0m             \u001b[0;31m# Encoding\u001b[0m\u001b[0;34m\u001b[0m\u001b[0;34m\u001b[0m\u001b[0;34m\u001b[0m\u001b[0m\n\u001b[0;32m--> 789\u001b[0;31m             handle = open(\n\u001b[0m\u001b[1;32m    790\u001b[0m                 \u001b[0mhandle\u001b[0m\u001b[0;34m,\u001b[0m\u001b[0;34m\u001b[0m\u001b[0;34m\u001b[0m\u001b[0m\n\u001b[1;32m    791\u001b[0m                 \u001b[0mioargs\u001b[0m\u001b[0;34m.\u001b[0m\u001b[0mmode\u001b[0m\u001b[0;34m,\u001b[0m\u001b[0;34m\u001b[0m\u001b[0;34m\u001b[0m\u001b[0m\n",
            "\u001b[0;31mFileNotFoundError\u001b[0m: [Errno 2] No such file or directory: '/content/PGx-workshop/data/drugLabels_drugbank.csv'"
          ]
        }
      ],
      "source": [
        "# Load data and take a look\n",
        "dl_merge = pd.read_csv(\"/content/PGx-workshop/data/drugLabels_drugbank.csv\")\n",
        "dl_merge.head()"
      ]
    },
    {
      "cell_type": "markdown",
      "metadata": {
        "id": "mLNfXVbHOn3f"
      },
      "source": [
        "📌 ➙ We see that there is a lot of information for a lot of drugs with annotations in PharmGKB. We want to start by looking at all the drugs with *Informative PGx*, *Actionable PGx*, *Testing required*, or *Testing recommended* from the different drug agencies."
      ]
    },
    {
      "cell_type": "code",
      "execution_count": 12,
      "metadata": {
        "colab": {
          "base_uri": "https://localhost:8080/",
          "height": 366
        },
        "id": "KMWID2D4On3g",
        "outputId": "9dd00593-bf5e-476d-aa73-76d39863a77a"
      },
      "outputs": [
        {
          "data": {
            "text/plain": [
              "Text(0, 0.5, 'Number of drugs')"
            ]
          },
          "execution_count": 12,
          "metadata": {},
          "output_type": "execute_result"
        },
        {
          "data": {
            "image/png": "[encoded data removed]",
            "text/plain": [
              "<Figure size 432x288 with 1 Axes>"
            ]
          },
          "metadata": {},
          "output_type": "display_data"
        }
      ],
      "source": [
        "sns.set(font_scale=1.4)\n",
        "dl_merge[['Source', 'name']].drop_duplicates()['Source'].value_counts().plot(kind='bar')\n",
        "plt.ylabel(\"Number of drugs\", labelpad=14)"
      ]
    },
    {
      "cell_type": "markdown",
      "metadata": {
        "id": "4RHtyoK5On3h"
      },
      "source": [
        "💡\n",
        "**FDA**: U.S. Food and Drug Administration\n",
        "**EMA**: European Medicines Agency\n",
        "**PMDA**: Japanese Pharmaceuticals and Medical Devices Agency\n",
        "**HCSC**: Health Canada (Sant  Canada)\n",
        "**Swissmedic**, Swiss Agency of Therapeutic Products.\n",
        "\n",
        "📌 ➙  We see that most pharmacogenetic information is provided by the FDA.\n",
        "\n",
        "💡 There are different testing \"levels\" for a given drug, i.e.\n",
        "\n",
        "**1. Testing required:**\n",
        "The label states or implies that some sort of gene, protein or chromosomal testing, including genetic testing, functional protein assays, cytogenetic studies, etc., should be conducted before using this drug. This requirement may only be for a particular subset of patients. PharmGKB considers labels that state the variant is an indication for the drug, as implying a test requirement. If the label states a test \"should be\" performed, this is also interpreted as a requirement.\n",
        "\n",
        "**2. Testing recommended:**\n",
        "The label states or implies that some sort of gene, protein or chromosomal testing, including genetic testing, functional protein assays, cytogenetic studies, etc., is recommended before using this drug. This recommendation may only be for a particular subset of patients. PharmGKB considers labels that say testing \"should be considered\" or \"Consider genotyping or phenotyping\" to be recommending testing.\n",
        "\n",
        "**3. Actionable PGx:**\n",
        "The label may contain information about changes in efficacy, dosage, metabolism or toxicity due to gene/protein/chromosomal variants or phenotypes (e.g. \"poor metabolizers\"). Or the label may mention contraindication of the drug in a particular subset of patients with particular variants/genotypes/phenotypes. However, the label does not require or recommend gene, protein or chromosomal testing.\n",
        "\n",
        "**4. Informative PGx:**\n",
        "The label contains information stating that particular gene/protein/chromosomal variants or metabolizer phenotypes do not affect a drug’s efficacy, dosage, metabolism or toxicity. Or, the label states that particular variants or phenotypes affect a drug’s efficacy, dosage, metabolism or toxicity, but this e💡ffect is not “clinically” significant OR The label appears or appeared on the FDA Biomarker List but does not currently meet the requirements to be assigned as “Testing required”, “Testing recommended” or “Actionable PGx”. PharmGKB annotates every label that appears on the FDA Biomarker list, regardless of whether we would otherwise annotate the label.\n",
        "\n",
        "\n",
        "\n",
        "🎯 So let's look how many drugs fall into which category:\n"
      ]
    },
    {
      "cell_type": "code",
      "execution_count": null,
      "metadata": {
        "id": "tA_cDPw1On3j",
        "outputId": "d429a26a-1e6f-45c5-fb04-3c9850f679db"
      },
      "outputs": [
        {
          "data": {
            "text/plain": [
              "<AxesSubplot:xlabel='Number of drugs', ylabel='Testing Level'>"
            ]
          },
          "execution_count": 702,
          "metadata": {},
          "output_type": "execute_result"
        },
        {
          "data": {
            "image/png": "[encoded data removed]",
            "text/plain": [
              "<Figure size 432x288 with 1 Axes>"
            ]
          },
          "metadata": {},
          "output_type": "display_data"
        }
      ],
      "source": [
        "sns.set(font_scale=1.0)\n",
        "df_action = dl_merge[['Testing Level', 'Source', 'name']].drop_duplicates().groupby(['Testing Level', 'Source']).size().reset_index(name='Number of drugs')\n",
        "\n",
        "sns.barplot(y='Testing Level', x='Number of drugs', hue='Source', data=df_action)"
      ]
    },
    {
      "cell_type": "markdown",
      "metadata": {
        "id": "Vz0v-YKFOn3j"
      },
      "source": [
        "📌 ➙  There seems to be a lot of actionable and informative PGx drug labels, with just about 100 drugs with required PGx testing for (sometimes a particular subset of) patients."
      ]
    },
    {
      "cell_type": "code",
      "execution_count": 13,
      "metadata": {
        "colab": {
          "base_uri": "https://localhost:8080/",
          "height": 303
        },
        "id": "sVJaNYRKOn3k",
        "outputId": "847969fa-042c-4a56-a8e6-cb738a726c60"
      },
      "outputs": [
        {
          "data": {
            "text/plain": [
              "<matplotlib.axes._subplots.AxesSubplot at 0x7f314d443190>"
            ]
          },
          "execution_count": 13,
          "metadata": {},
          "output_type": "execute_result"
        },
        {
          "data": {
            "image/png": "[encoded data removed]",
            "text/plain": [
              "<Figure size 432x288 with 1 Axes>"
            ]
          },
          "metadata": {},
          "output_type": "display_data"
        }
      ],
      "source": [
        "atc = pd.read_csv(\"/content/PGx-workshop/data/ATC_system.csv\")\n",
        "atc['atc'] =  atc['Class ID'].str.split('/', expand=True)[5]\n",
        "\n",
        "# Use only the high level ATC code, i.e. the first 3 characters\n",
        "dl_merge['atc_3'] = dl_merge.atc_codes.apply(eval).apply(lambda x: x[0][:3] if len(x) >0 else 'nan')\n",
        "\n",
        "# Focus on 'Testing required' here for now\n",
        "atc_counts = dl_merge[dl_merge['Testing Level']=='Testing required'][['Chemicals', 'atc_3']].drop_duplicates()['atc_3'].value_counts().head(20).rename_axis('atc_3').to_frame('counts')\n",
        "\n",
        "atc_df = atc_counts.merge(atc[['Preferred Label', 'atc']], left_index=True, right_on = 'atc')\n",
        "\n",
        "sns.set(font_scale=1.0)\n",
        "sns.barplot(y='Preferred Label', x='counts', data=atc_df)"
      ]
    },
    {
      "cell_type": "markdown",
      "metadata": {
        "id": "ucewrultOn3k"
      },
      "source": [
        "📌 ➙ A great majority of PGx required tests are for cancer medications.\n",
        "\n",
        "💥 What are the most common disease areas for informative or actionable PGx labels? To investigate this, you should change the code above to \"Informative PGx\" and/or \"Actionable PGx\" at the right place\n",
        "\n",
        "🎯 Let's look at the most common variants with *Testing required* labels:"
      ]
    },
    {
      "cell_type": "code",
      "execution_count": 728,
      "metadata": {
        "colab": {
          "base_uri": "https://localhost:8080/"
        },
        "id": "JZrJkJ51On3l",
        "outputId": "7a764fc1-92bf-4f3e-90af-b358567ebaa2"
      },
      "outputs": [
        {
          "data": {
            "text/plain": [
              "rs113488022    7\n",
              "rs121434568    4\n",
              "Name: Variants/Haplotypes, dtype: int64"
            ]
          },
          "execution_count": 728,
          "metadata": {},
          "output_type": "execute_result"
        }
      ],
      "source": [
        "# Output only the top 2 results with the most drug-variant associations\n",
        "dl_merge[dl_merge['Testing Level']=='Testing required'][['Chemicals', 'Variants/Haplotypes']].drop_duplicates()['Variants/Haplotypes'].value_counts().head(2)"
      ]
    },
    {
      "cell_type": "markdown",
      "metadata": {
        "id": "8qCXhGg9On3l"
      },
      "source": [
        "📌💡 ➙ the **rs113488022** variant (V600E) is a mutation of the BRAF gene in which valine (V) is substituted by glutamic acid (E) at amino acid 600. It is a well known driver mutation in melanoma and an important diagnostic variant for cancer PGx. The V600E variant protein has elevated kinase activity that transforms cells and generates tumors [(Davies et al, 2002; Nature)](dx.doi.org/10.1038%2Fnature00766). This discovery led to the development and approval of the BRAF V600E inhibitor vemurafenib.\n",
        "\n",
        "💥 Can you identify some non-cancer related variant-drug annotations? Let's share some interesting ones here. You can change the \".head(2)\" filter in the above code and could search for variant/haplotype identifiers directly in [PharmGKB](https://www.pharmgkb.org/) or e.g. in [SNPedia](https://www.snpedia.com/index.php/SNPedia)"
      ]
    },
    {
      "cell_type": "markdown",
      "metadata": {
        "id": "6zYarVQbOn3m"
      },
      "source": [
        "## 2. **Clinical Variant annotations**\n",
        "\n",
        "🎯 Let's look at all annotated variant-drug pairs alongside their level of evidence"
      ]
    },
    {
      "cell_type": "code",
      "execution_count": 16,
      "metadata": {
        "colab": {
          "base_uri": "https://localhost:8080/",
          "height": 206
        },
        "id": "2cW5xrcxOn3m",
        "outputId": "9ab0d54d-d7a2-4325-c794-f6a8372f7de7"
      },
      "outputs": [
        {
          "data": {
            "text/html": [
              "\n",
              "  <div id=\"df-3a392cd0-e4c1-4b2b-a367-b91b3e7bfe3e\">\n",
              "    <div class=\"colab-df-container\">\n",
              "      <div>\n",
              "<style scoped>\n",
              "    .dataframe tbody tr th:only-of-type {\n",
              "        vertical-align: middle;\n",
              "    }\n",
              "\n",
              "    .dataframe tbody tr th {\n",
              "        vertical-align: top;\n",
              "    }\n",
              "\n",
              "    .dataframe thead th {\n",
              "        text-align: right;\n",
              "    }\n",
              "</style>\n",
              "<table border=\"1\" class=\"dataframe\">\n",
              "  <thead>\n",
              "    <tr style=\"text-align: right;\">\n",
              "      <th></th>\n",
              "      <th>variant</th>\n",
              "      <th>gene</th>\n",
              "      <th>type</th>\n",
              "      <th>level of evidence</th>\n",
              "      <th>chemicals</th>\n",
              "      <th>phenotypes</th>\n",
              "    </tr>\n",
              "  </thead>\n",
              "  <tbody>\n",
              "    <tr>\n",
              "      <th>0</th>\n",
              "      <td>CYP2C9*1, CYP2C9*2, CYP2C9*3, CYP2C9*13</td>\n",
              "      <td>CYP2C9</td>\n",
              "      <td>Metabolism/PK</td>\n",
              "      <td>1A</td>\n",
              "      <td>meloxicam</td>\n",
              "      <td>NaN</td>\n",
              "    </tr>\n",
              "    <tr>\n",
              "      <th>1</th>\n",
              "      <td>CYP2C9*1, CYP2C9*3, CYP2C9*13</td>\n",
              "      <td>CYP2C9</td>\n",
              "      <td>Metabolism/PK</td>\n",
              "      <td>1A</td>\n",
              "      <td>lornoxicam</td>\n",
              "      <td>NaN</td>\n",
              "    </tr>\n",
              "    <tr>\n",
              "      <th>2</th>\n",
              "      <td>CYP2C9*1, CYP2C9*2, CYP2C9*3</td>\n",
              "      <td>CYP2C9</td>\n",
              "      <td>Metabolism/PK</td>\n",
              "      <td>1A</td>\n",
              "      <td>siponimod</td>\n",
              "      <td>NaN</td>\n",
              "    </tr>\n",
              "    <tr>\n",
              "      <th>3</th>\n",
              "      <td>rs17376848</td>\n",
              "      <td>DPYD</td>\n",
              "      <td>Toxicity</td>\n",
              "      <td>1A</td>\n",
              "      <td>capecitabine</td>\n",
              "      <td>Neoplasms</td>\n",
              "    </tr>\n",
              "    <tr>\n",
              "      <th>4</th>\n",
              "      <td>rs2297595</td>\n",
              "      <td>DPYD</td>\n",
              "      <td>Toxicity</td>\n",
              "      <td>1A</td>\n",
              "      <td>capecitabine</td>\n",
              "      <td>Neoplasms</td>\n",
              "    </tr>\n",
              "  </tbody>\n",
              "</table>\n",
              "</div>\n",
              "      <button class=\"colab-df-convert\" onclick=\"convertToInteractive('df-3a392cd0-e4c1-4b2b-a367-b91b3e7bfe3e')\"\n",
              "              title=\"Convert this dataframe to an interactive table.\"\n",
              "              style=\"display:none;\">\n",
              "        \n",
              "  <svg xmlns=\"http://www.w3.org/2000/svg\" height=\"24px\"viewBox=\"0 0 24 24\"\n",
              "       width=\"24px\">\n",
              "    <path d=\"M0 0h24v24H0V0z\" fill=\"none\"/>\n",
              "    <path d=\"M18.56 5.44l.94 2.06.94-2.06 2.06-.94-2.06-.94-.94-2.06-.94 2.06-2.06.94zm-11 1L8.5 8.5l.94-2.06 2.06-.94-2.06-.94L8.5 2.5l-.94 2.06-2.06.94zm10 10l.94 2.06.94-2.06 2.06-.94-2.06-.94-.94-2.06-.94 2.06-2.06.94z\"/><path d=\"M17.41 7.96l-1.37-1.37c-.4-.4-.92-.59-1.43-.59-.52 0-1.04.2-1.43.59L10.3 9.45l-7.72 7.72c-.78.78-.78 2.05 0 2.83L4 21.41c.39.39.9.59 1.41.59.51 0 1.02-.2 1.41-.59l7.78-7.78 2.81-2.81c.8-.78.8-2.07 0-2.86zM5.41 20L4 18.59l7.72-7.72 1.47 1.35L5.41 20z\"/>\n",
              "  </svg>\n",
              "      </button>\n",
              "      \n",
              "  <style>\n",
              "    .colab-df-container {\n",
              "      display:flex;\n",
              "      flex-wrap:wrap;\n",
              "      gap: 12px;\n",
              "    }\n",
              "\n",
              "    .colab-df-convert {\n",
              "      background-color: #E8F0FE;\n",
              "      border: none;\n",
              "      border-radius: 50%;\n",
              "      cursor: pointer;\n",
              "      display: none;\n",
              "      fill: #1967D2;\n",
              "      height: 32px;\n",
              "      padding: 0 0 0 0;\n",
              "      width: 32px;\n",
              "    }\n",
              "\n",
              "    .colab-df-convert:hover {\n",
              "      background-color: #E2EBFA;\n",
              "      box-shadow: 0px 1px 2px rgba(60, 64, 67, 0.3), 0px 1px 3px 1px rgba(60, 64, 67, 0.15);\n",
              "      fill: #174EA6;\n",
              "    }\n",
              "\n",
              "    [theme=dark] .colab-df-convert {\n",
              "      background-color: #3B4455;\n",
              "      fill: #D2E3FC;\n",
              "    }\n",
              "\n",
              "    [theme=dark] .colab-df-convert:hover {\n",
              "      background-color: #434B5C;\n",
              "      box-shadow: 0px 1px 3px 1px rgba(0, 0, 0, 0.15);\n",
              "      filter: drop-shadow(0px 1px 2px rgba(0, 0, 0, 0.3));\n",
              "      fill: #FFFFFF;\n",
              "    }\n",
              "  </style>\n",
              "\n",
              "      <script>\n",
              "        const buttonEl =\n",
              "          document.querySelector('#df-3a392cd0-e4c1-4b2b-a367-b91b3e7bfe3e button.colab-df-convert');\n",
              "        buttonEl.style.display =\n",
              "          google.colab.kernel.accessAllowed ? 'block' : 'none';\n",
              "\n",
              "        async function convertToInteractive(key) {\n",
              "          const element = document.querySelector('#df-3a392cd0-e4c1-4b2b-a367-b91b3e7bfe3e');\n",
              "          const dataTable =\n",
              "            await google.colab.kernel.invokeFunction('convertToInteractive',\n",
              "                                                     [key], {});\n",
              "          if (!dataTable) return;\n",
              "\n",
              "          const docLinkHtml = 'Like what you see? Visit the ' +\n",
              "            '<a target=\"_blank\" href=https://colab.research.google.com/notebooks/data_table.ipynb>data table notebook</a>'\n",
              "            + ' to learn more about interactive tables.';\n",
              "          element.innerHTML = '';\n",
              "          dataTable['output_type'] = 'display_data';\n",
              "          await google.colab.output.renderOutput(dataTable, element);\n",
              "          const docLink = document.createElement('div');\n",
              "          docLink.innerHTML = docLinkHtml;\n",
              "          element.appendChild(docLink);\n",
              "        }\n",
              "      </script>\n",
              "    </div>\n",
              "  </div>\n",
              "  "
            ],
            "text/plain": [
              "                                   variant    gene           type  \\\n",
              "0  CYP2C9*1, CYP2C9*2, CYP2C9*3, CYP2C9*13  CYP2C9  Metabolism/PK   \n",
              "1            CYP2C9*1, CYP2C9*3, CYP2C9*13  CYP2C9  Metabolism/PK   \n",
              "2             CYP2C9*1, CYP2C9*2, CYP2C9*3  CYP2C9  Metabolism/PK   \n",
              "3                               rs17376848    DPYD       Toxicity   \n",
              "4                                rs2297595    DPYD       Toxicity   \n",
              "\n",
              "  level of evidence     chemicals phenotypes  \n",
              "0                1A     meloxicam        NaN  \n",
              "1                1A    lornoxicam        NaN  \n",
              "2                1A     siponimod        NaN  \n",
              "3                1A  capecitabine  Neoplasms  \n",
              "4                1A  capecitabine  Neoplasms  "
            ]
          },
          "execution_count": 16,
          "metadata": {},
          "output_type": "execute_result"
        }
      ],
      "source": [
        "df_clinicalraw = pd.read_csv(\"/content/PGx-workshop/data/clinicalVariants.tsv\", sep='\\t')\n",
        "df_clinicalraw.head()"
      ]
    },
    {
      "cell_type": "markdown",
      "metadata": {
        "id": "M1mjl76FOn3n"
      },
      "source": [
        "📌 ➙ for each row we find information on every annotated variant/haplotype pair with information on the level of evidence\n",
        "\n",
        "💡 PharmGKBs assigns [clinical annotation levels of evidence](https://www.pharmgkb.org/page/clinAnnLevels) (LOE)\n",
        "\n",
        "[<img src=\"https://s3.pgkb.org/attachment/CA_Levels_of_Evidence.svg\" style=\"width:300px;\">](https://www.pharmgkb.org/page/clinAnnLevels)\n",
        "\n",
        "🎯 Let's take a look at the level of evidence for different protein targets:"
      ]
    },
    {
      "cell_type": "code",
      "execution_count": 733,
      "metadata": {
        "colab": {
          "base_uri": "https://localhost:8080/",
          "height": 325
        },
        "id": "yK3dTFWOOn3n",
        "outputId": "8268e243-ff61-4831-bbbf-bbca78c9d5e8"
      },
      "outputs": [
        {
          "name": "stdout",
          "output_type": "stream",
          "text": [
            "Number of genes with PGx drug-variant information: 1052\n",
            "Number of unique variant/haplotypes: 3005\n",
            "\n",
            "Top 5 genes with the highest number of drug-gene annotations:\n",
            "       gene  count\n",
            "5    CYP2D6     24\n",
            "3   CYP2C19     14\n",
            "4    CYP2C9     10\n",
            "0   CACNA1S      7\n",
            "13    HLA-B      6\n"
          ]
        },
        {
          "data": {
            "text/html": [
              "<div>\n",
              "<style scoped>\n",
              "    .dataframe tbody tr th:only-of-type {\n",
              "        vertical-align: middle;\n",
              "    }\n",
              "\n",
              "    .dataframe tbody tr th {\n",
              "        vertical-align: top;\n",
              "    }\n",
              "\n",
              "    .dataframe thead th {\n",
              "        text-align: right;\n",
              "    }\n",
              "</style>\n",
              "<table border=\"1\" class=\"dataframe\">\n",
              "  <thead>\n",
              "    <tr style=\"text-align: right;\">\n",
              "      <th></th>\n",
              "      <th>variant</th>\n",
              "      <th>gene</th>\n",
              "      <th>type</th>\n",
              "      <th>level of evidence</th>\n",
              "      <th>chemicals</th>\n",
              "      <th>phenotypes</th>\n",
              "    </tr>\n",
              "  </thead>\n",
              "  <tbody>\n",
              "    <tr>\n",
              "      <th>25</th>\n",
              "      <td>CYP2D6*1, CYP2D6*2, CYP2D6*4, CYP2D6...</td>\n",
              "      <td>CYP2D6</td>\n",
              "      <td>Metabolism/PK</td>\n",
              "      <td>1A</td>\n",
              "      <td>hydrocodone</td>\n",
              "      <td>NaN</td>\n",
              "    </tr>\n",
              "    <tr>\n",
              "      <th>26</th>\n",
              "      <td>CYP2D6*1, CYP2D6*1xN, CYP2D6*2, CYP2...</td>\n",
              "      <td>CYP2D6</td>\n",
              "      <td>Efficacy</td>\n",
              "      <td>1A</td>\n",
              "      <td>ondansetron</td>\n",
              "      <td>Vomiting</td>\n",
              "    </tr>\n",
              "    <tr>\n",
              "      <th>27</th>\n",
              "      <td>CYP2D6*1, CYP2D6*1xN, CYP2D6*2xN</td>\n",
              "      <td>CYP2D6</td>\n",
              "      <td>Efficacy</td>\n",
              "      <td>1A</td>\n",
              "      <td>tropisetron</td>\n",
              "      <td>Vomiting</td>\n",
              "    </tr>\n",
              "  </tbody>\n",
              "</table>\n",
              "</div>"
            ],
            "text/plain": [
              "                                    variant    gene           type  \\\n",
              "25  CYP2D6*1, CYP2D6*2, CYP2D6*4, CYP2D6...  CYP2D6  Metabolism/PK   \n",
              "26  CYP2D6*1, CYP2D6*1xN, CYP2D6*2, CYP2...  CYP2D6       Efficacy   \n",
              "27         CYP2D6*1, CYP2D6*1xN, CYP2D6*2xN  CYP2D6       Efficacy   \n",
              "\n",
              "   level of evidence    chemicals phenotypes  \n",
              "25                1A  hydrocodone        NaN  \n",
              "26                1A  ondansetron   Vomiting  \n",
              "27                1A  tropisetron   Vomiting  "
            ]
          },
          "execution_count": 733,
          "metadata": {},
          "output_type": "execute_result"
        }
      ],
      "source": [
        "print(f'Number of genes with PGx drug-variant information: {df_clinicalraw.gene.nunique()}')\n",
        "\n",
        "print(f'Number of unique variant/haplotypes: {df_clinicalraw.variant.nunique()}')\n",
        "\n",
        "\n",
        "print('\\nTop 5 genes with the highest number of drug-gene annotations:')\n",
        "print(df_clinicalraw[(df_clinicalraw['level of evidence'] == '1A')].groupby('gene')['chemicals'].nunique().reset_index(name='count').sort_values(by='count', ascending=False).head(5))\n",
        "\n",
        "# preview some data (top 3) for the most prevelant CYP2D6 gene:\n",
        "df_clinicalraw[(df_clinicalraw['gene'] == 'CYP2D6')].head(3)"
      ]
    },
    {
      "cell_type": "markdown",
      "metadata": {
        "id": "9H_PSsiJOn3n"
      },
      "source": [
        "📌 ➙ There are a number of genes and variants for which there is some evidence to support alternative drug response for carriers of a specific genotype\n",
        "\n",
        "💥 Can you reuse/modify the above code to find the number of unique reoported **chemicals** with at least some annotated evidence for drug response variability?\n",
        "\n",
        "💥 Do you have a favourite gene/protein? Maybe a gene/protein you work wit?. Is there any reported pharmacogenomic evidence for this gene/protein? Change the code at the bottom of the section above!\n",
        "\n",
        "🎯 After you have looked at your own genes/proteins of interest. Let's now look at the aggregated gene/protein landscape. Which protein families are most often implicated in pharmacogenomics? In order to do so, we need information on the protein family, which we can obtain from  [<img src=\"https://www.uniprot.org/images/logos/Logo_medium.png\" style=\"width:50px;\">](https://www.uniprot.org/)."
      ]
    },
    {
      "cell_type": "code",
      "execution_count": 18,
      "metadata": {
        "colab": {
          "base_uri": "https://localhost:8080/",
          "height": 303
        },
        "id": "YOC26yyWOn3o",
        "outputId": "91e999bf-3dda-4716-d457-007a39e739a2"
      },
      "outputs": [
        {
          "data": {
            "text/plain": [
              "<matplotlib.axes._subplots.AxesSubplot at 0x7f314dd1f050>"
            ]
          },
          "execution_count": 18,
          "metadata": {},
          "output_type": "execute_result"
        },
        {
          "data": {
            "image/png": "[encoded data removed]",
            "text/plain": [
              "<Figure size 432x288 with 1 Axes>"
            ]
          },
          "metadata": {},
          "output_type": "display_data"
        }
      ],
      "source": [
        "uniprot_df = pd.read_csv(\"/content/PGx-workshop/data/uniprot-proteome.tsv\", sep=\"\\t\")\n",
        "\n",
        "# Merge the uniprot information with the PharmGKB data frame. Use only variants that can be mapped to a specific gene:\n",
        "df_clinicalraw_uniprot = df_clinicalraw[df_clinicalraw.gene.notnull()].merge(uniprot_df, left_on='gene', right_on='Gene names  (primary )')\n",
        "\n",
        "top_families = df_clinicalraw_uniprot['Protein families'].value_counts().head(20).rename_axis('name').to_frame('counts').reset_index()\n",
        "\n",
        "sns.set(font_scale=1.0)\n",
        "sns.barplot(y='name', x='counts', data=top_families)"
      ]
    },
    {
      "cell_type": "code",
      "execution_count": 19,
      "metadata": {
        "colab": {
          "base_uri": "https://localhost:8080/",
          "height": 582
        },
        "id": "8doSJC8_On3o",
        "outputId": "ab9ec87d-83b1-461a-84f7-8fcd36bfd95f"
      },
      "outputs": [
        {
          "data": {
            "text/html": [
              "\n",
              "  <div id=\"df-c37fac74-19b5-4cfa-a23a-3f24137e1c47\">\n",
              "    <div class=\"colab-df-container\">\n",
              "      <div>\n",
              "<style scoped>\n",
              "    .dataframe tbody tr th:only-of-type {\n",
              "        vertical-align: middle;\n",
              "    }\n",
              "\n",
              "    .dataframe tbody tr th {\n",
              "        vertical-align: top;\n",
              "    }\n",
              "\n",
              "    .dataframe thead th {\n",
              "        text-align: right;\n",
              "    }\n",
              "</style>\n",
              "<table border=\"1\" class=\"dataframe\">\n",
              "  <thead>\n",
              "    <tr style=\"text-align: right;\">\n",
              "      <th></th>\n",
              "      <th>Protein families</th>\n",
              "      <th>level of evidence</th>\n",
              "      <th>counts</th>\n",
              "    </tr>\n",
              "  </thead>\n",
              "  <tbody>\n",
              "    <tr>\n",
              "      <th>138</th>\n",
              "      <td>Nudix hydrolase family</td>\n",
              "      <td>1A</td>\n",
              "      <td>4</td>\n",
              "    </tr>\n",
              "    <tr>\n",
              "      <th>143</th>\n",
              "      <td>Class I-like SAM-binding methyltrans...</td>\n",
              "      <td>1A</td>\n",
              "      <td>4</td>\n",
              "    </tr>\n",
              "    <tr>\n",
              "      <th>131</th>\n",
              "      <td>VKOR family</td>\n",
              "      <td>1A</td>\n",
              "      <td>3</td>\n",
              "    </tr>\n",
              "    <tr>\n",
              "      <th>121</th>\n",
              "      <td>Organo anion transporter (TC 2.A.60)...</td>\n",
              "      <td>1A</td>\n",
              "      <td>2</td>\n",
              "    </tr>\n",
              "    <tr>\n",
              "      <th>140</th>\n",
              "      <td>VKOR family</td>\n",
              "      <td>1B</td>\n",
              "      <td>4</td>\n",
              "    </tr>\n",
              "    <tr>\n",
              "      <th>168</th>\n",
              "      <td>VKOR family</td>\n",
              "      <td>2A</td>\n",
              "      <td>8</td>\n",
              "    </tr>\n",
              "    <tr>\n",
              "      <th>151</th>\n",
              "      <td>Organo anion transporter (TC 2.A.60)...</td>\n",
              "      <td>2A</td>\n",
              "      <td>5</td>\n",
              "    </tr>\n",
              "    <tr>\n",
              "      <th>1</th>\n",
              "      <td>PurH family</td>\n",
              "      <td>2B</td>\n",
              "      <td>1</td>\n",
              "    </tr>\n",
              "    <tr>\n",
              "      <th>52</th>\n",
              "      <td>Sodium channel (TC 1.A.1.10) family,...</td>\n",
              "      <td>2B</td>\n",
              "      <td>1</td>\n",
              "    </tr>\n",
              "    <tr>\n",
              "      <th>183</th>\n",
              "      <td>Organo anion transporter (TC 2.A.60)...</td>\n",
              "      <td>3</td>\n",
              "      <td>72</td>\n",
              "    </tr>\n",
              "    <tr>\n",
              "      <th>182</th>\n",
              "      <td>Sulfotransferase 1 family</td>\n",
              "      <td>3</td>\n",
              "      <td>59</td>\n",
              "    </tr>\n",
              "    <tr>\n",
              "      <th>181</th>\n",
              "      <td>Nuclear hormone receptor family, NR1...</td>\n",
              "      <td>3</td>\n",
              "      <td>48</td>\n",
              "    </tr>\n",
              "    <tr>\n",
              "      <th>180</th>\n",
              "      <td>G-protein coupled receptor 1 family</td>\n",
              "      <td>3</td>\n",
              "      <td>46</td>\n",
              "    </tr>\n",
              "    <tr>\n",
              "      <th>166</th>\n",
              "      <td>Organo anion transporter (TC 2.A.60)...</td>\n",
              "      <td>4</td>\n",
              "      <td>7</td>\n",
              "    </tr>\n",
              "    <tr>\n",
              "      <th>152</th>\n",
              "      <td>Glucose-6-phosphate dehydrogenase fa...</td>\n",
              "      <td>4</td>\n",
              "      <td>5</td>\n",
              "    </tr>\n",
              "    <tr>\n",
              "      <th>141</th>\n",
              "      <td>G-protein coupled receptor 1 family</td>\n",
              "      <td>4</td>\n",
              "      <td>4</td>\n",
              "    </tr>\n",
              "    <tr>\n",
              "      <th>125</th>\n",
              "      <td>UDP-glycosyltransferase family</td>\n",
              "      <td>4</td>\n",
              "      <td>3</td>\n",
              "    </tr>\n",
              "  </tbody>\n",
              "</table>\n",
              "</div>\n",
              "      <button class=\"colab-df-convert\" onclick=\"convertToInteractive('df-c37fac74-19b5-4cfa-a23a-3f24137e1c47')\"\n",
              "              title=\"Convert this dataframe to an interactive table.\"\n",
              "              style=\"display:none;\">\n",
              "        \n",
              "  <svg xmlns=\"http://www.w3.org/2000/svg\" height=\"24px\"viewBox=\"0 0 24 24\"\n",
              "       width=\"24px\">\n",
              "    <path d=\"M0 0h24v24H0V0z\" fill=\"none\"/>\n",
              "    <path d=\"M18.56 5.44l.94 2.06.94-2.06 2.06-.94-2.06-.94-.94-2.06-.94 2.06-2.06.94zm-11 1L8.5 8.5l.94-2.06 2.06-.94-2.06-.94L8.5 2.5l-.94 2.06-2.06.94zm10 10l.94 2.06.94-2.06 2.06-.94-2.06-.94-.94-2.06-.94 2.06-2.06.94z\"/><path d=\"M17.41 7.96l-1.37-1.37c-.4-.4-.92-.59-1.43-.59-.52 0-1.04.2-1.43.59L10.3 9.45l-7.72 7.72c-.78.78-.78 2.05 0 2.83L4 21.41c.39.39.9.59 1.41.59.51 0 1.02-.2 1.41-.59l7.78-7.78 2.81-2.81c.8-.78.8-2.07 0-2.86zM5.41 20L4 18.59l7.72-7.72 1.47 1.35L5.41 20z\"/>\n",
              "  </svg>\n",
              "      </button>\n",
              "      \n",
              "  <style>\n",
              "    .colab-df-container {\n",
              "      display:flex;\n",
              "      flex-wrap:wrap;\n",
              "      gap: 12px;\n",
              "    }\n",
              "\n",
              "    .colab-df-convert {\n",
              "      background-color: #E8F0FE;\n",
              "      border: none;\n",
              "      border-radius: 50%;\n",
              "      cursor: pointer;\n",
              "      display: none;\n",
              "      fill: #1967D2;\n",
              "      height: 32px;\n",
              "      padding: 0 0 0 0;\n",
              "      width: 32px;\n",
              "    }\n",
              "\n",
              "    .colab-df-convert:hover {\n",
              "      background-color: #E2EBFA;\n",
              "      box-shadow: 0px 1px 2px rgba(60, 64, 67, 0.3), 0px 1px 3px 1px rgba(60, 64, 67, 0.15);\n",
              "      fill: #174EA6;\n",
              "    }\n",
              "\n",
              "    [theme=dark] .colab-df-convert {\n",
              "      background-color: #3B4455;\n",
              "      fill: #D2E3FC;\n",
              "    }\n",
              "\n",
              "    [theme=dark] .colab-df-convert:hover {\n",
              "      background-color: #434B5C;\n",
              "      box-shadow: 0px 1px 3px 1px rgba(0, 0, 0, 0.15);\n",
              "      filter: drop-shadow(0px 1px 2px rgba(0, 0, 0, 0.3));\n",
              "      fill: #FFFFFF;\n",
              "    }\n",
              "  </style>\n",
              "\n",
              "      <script>\n",
              "        const buttonEl =\n",
              "          document.querySelector('#df-c37fac74-19b5-4cfa-a23a-3f24137e1c47 button.colab-df-convert');\n",
              "        buttonEl.style.display =\n",
              "          google.colab.kernel.accessAllowed ? 'block' : 'none';\n",
              "\n",
              "        async function convertToInteractive(key) {\n",
              "          const element = document.querySelector('#df-c37fac74-19b5-4cfa-a23a-3f24137e1c47');\n",
              "          const dataTable =\n",
              "            await google.colab.kernel.invokeFunction('convertToInteractive',\n",
              "                                                     [key], {});\n",
              "          if (!dataTable) return;\n",
              "\n",
              "          const docLinkHtml = 'Like what you see? Visit the ' +\n",
              "            '<a target=\"_blank\" href=https://colab.research.google.com/notebooks/data_table.ipynb>data table notebook</a>'\n",
              "            + ' to learn more about interactive tables.';\n",
              "          element.innerHTML = '';\n",
              "          dataTable['output_type'] = 'display_data';\n",
              "          await google.colab.output.renderOutput(dataTable, element);\n",
              "          const docLink = document.createElement('div');\n",
              "          docLink.innerHTML = docLinkHtml;\n",
              "          element.appendChild(docLink);\n",
              "        }\n",
              "      </script>\n",
              "    </div>\n",
              "  </div>\n",
              "  "
            ],
            "text/plain": [
              "                            Protein families level of evidence  counts\n",
              "138                   Nudix hydrolase family                1A       4\n",
              "143  Class I-like SAM-binding methyltrans...                1A       4\n",
              "131                              VKOR family                1A       3\n",
              "121  Organo anion transporter (TC 2.A.60)...                1A       2\n",
              "140                              VKOR family                1B       4\n",
              "168                              VKOR family                2A       8\n",
              "151  Organo anion transporter (TC 2.A.60)...                2A       5\n",
              "1                                PurH family                2B       1\n",
              "52   Sodium channel (TC 1.A.1.10) family,...                2B       1\n",
              "183  Organo anion transporter (TC 2.A.60)...                 3      72\n",
              "182                Sulfotransferase 1 family                 3      59\n",
              "181  Nuclear hormone receptor family, NR1...                 3      48\n",
              "180      G-protein coupled receptor 1 family                 3      46\n",
              "166  Organo anion transporter (TC 2.A.60)...                 4       7\n",
              "152  Glucose-6-phosphate dehydrogenase fa...                 4       5\n",
              "141      G-protein coupled receptor 1 family                 4       4\n",
              "125           UDP-glycosyltransferase family                 4       3"
            ]
          },
          "execution_count": 19,
          "metadata": {},
          "output_type": "execute_result"
        }
      ],
      "source": [
        "# List the most frequent protein families for each level of evidence\n",
        "top_4_fams_loe = df_clinicalraw_uniprot.groupby(['Protein families', 'level of evidence']).size().sort_values().to_frame('counts').reset_index().sort_values(by=['level of evidence','counts'], ascending=[True, False]).groupby('level of evidence').head(4)\n",
        "\n",
        "print(top_4_fams_loe)"
      ]
    },
    {
      "cell_type": "markdown",
      "metadata": {
        "id": "5ualorBhOn3p"
      },
      "source": [
        "📌 ➙ Clearly, most variant-drug annotations are found for the metabolizing Cytochrome P450 enzyme family, i.e. with effect on the Pharmakokinetics. Less is known about the effect on variability in drug targets, i.e. the pharmacodynamics. For instance, there is a large group of annotations for G-protein coupled receptors.\n",
        "\n",
        "💡 Depending on your variant/haplotype profile you are metabolyzing different drugs differently:\n",
        "\n",
        "[<img src=\"https://www.annesmigraene.dk/wp-content/uploads/2020/04/metabolizers-engelsk-1024x616.png\" style=\"width:400px;\">]()\n",
        "\n"
      ]
    },
    {
      "cell_type": "markdown",
      "metadata": {
        "id": "bA4Ayu7lOn3p"
      },
      "source": [
        "## **Variant specific investigation**\n",
        "\n",
        "🎯 While we identified a number of genetic variations associated with a range of metabolizing enzymes and drug targets, we have not looked closer at the types of mutations. Now, we look closer at the mutations for the G protein-coupled receptor (GPCR) family, an important drug target family, which is targeted by ~1/3 of all approved drugs."
      ]
    },
    {
      "cell_type": "code",
      "execution_count": 20,
      "metadata": {
        "colab": {
          "base_uri": "https://localhost:8080/"
        },
        "id": "tUEq3yxhOn3q",
        "outputId": "8cd9e8ac-f146-4fd4-992a-6b640f48ae24"
      },
      "outputs": [
        {
          "name": "stdout",
          "output_type": "stream",
          "text": [
            "intron                           93\n",
            "missense                         62\n",
            "['missense', 'regulatory']       58\n",
            "intron_variant                   48\n",
            "upstream_transcript_variant      33\n",
            "synonymous                       27\n",
            "intergenic                       15\n",
            "3_prime_UTR                      11\n",
            "['synonymous', 'downstream']      8\n",
            "['regulatory', 'upstream']        7\n",
            "['regulatory', 'intron']          7\n",
            "3_prime_UTR_variant               7\n",
            "downstream                        6\n",
            "upstream                          6\n",
            "['regulatory', '5_prime_UTR']     6\n",
            "Name: consequence, dtype: int64\n"
          ]
        }
      ],
      "source": [
        "df_GPCRs_annot = pd.read_csv('/content/PGx-workshop/data/pharmGKB_GPCR_variants_annotation.csv')\n",
        "\n",
        "print(df_GPCRs_annot.consequence.value_counts().head(15))"
      ]
    },
    {
      "cell_type": "markdown",
      "metadata": {
        "id": "x_xkYpQsOn3q"
      },
      "source": [
        "📌 ➙ Most annotated GPCR mutations with impact on drug response are actually not resulting in any protein sequence differences (e.g. intron or upstream mutations)\n",
        "\n",
        "💡 You can find an overview on variant definitions for instance at the [Open Targets Platform](https://platform.opentargets.org/variants)\n",
        "\n",
        "💥 Why do some variants have multiple consequences reported?\n",
        "\n",
        "💥 How can the different types of mutations possibly have an effect on toxicity or efficacy?\n",
        "\n",
        "🎯 Next, we focus on the amino acid changing missense mutations in this dataset."
      ]
    },
    {
      "cell_type": "code",
      "execution_count": 21,
      "metadata": {
        "colab": {
          "base_uri": "https://localhost:8080/",
          "height": 468
        },
        "id": "smAHgySOOn3q",
        "outputId": "c991d8a6-c552-488c-d677-592ec39000e0"
      },
      "outputs": [
        {
          "data": {
            "text/html": [
              "\n",
              "  <div id=\"df-aedfb542-048f-45a0-bdb0-09b5295242d0\">\n",
              "    <div class=\"colab-df-container\">\n",
              "      <div>\n",
              "<style scoped>\n",
              "    .dataframe tbody tr th:only-of-type {\n",
              "        vertical-align: middle;\n",
              "    }\n",
              "\n",
              "    .dataframe tbody tr th {\n",
              "        vertical-align: top;\n",
              "    }\n",
              "\n",
              "    .dataframe thead th {\n",
              "        text-align: right;\n",
              "    }\n",
              "</style>\n",
              "<table border=\"1\" class=\"dataframe\">\n",
              "  <thead>\n",
              "    <tr style=\"text-align: right;\">\n",
              "      <th></th>\n",
              "      <th>variant</th>\n",
              "      <th>gene</th>\n",
              "      <th>type</th>\n",
              "      <th>level of evidence</th>\n",
              "      <th>chemicals</th>\n",
              "      <th>phenotypes</th>\n",
              "      <th>Entry</th>\n",
              "      <th>Entry name</th>\n",
              "      <th>Protein names</th>\n",
              "      <th>Gene names</th>\n",
              "      <th>Protein families</th>\n",
              "      <th>Gene names  (primary )</th>\n",
              "      <th>rsID</th>\n",
              "      <th>gnomAD_AF</th>\n",
              "      <th>consequence</th>\n",
              "      <th>SequenceNumber</th>\n",
              "      <th>naa</th>\n",
              "      <th>oaa</th>\n",
              "      <th>proteinID</th>\n",
              "      <th>Protein Consequence</th>\n",
              "    </tr>\n",
              "  </thead>\n",
              "  <tbody>\n",
              "    <tr>\n",
              "      <th>0</th>\n",
              "      <td>rs1042713</td>\n",
              "      <td>ADRB2</td>\n",
              "      <td>Efficacy</td>\n",
              "      <td>2A</td>\n",
              "      <td>salmeterol</td>\n",
              "      <td>Asthma</td>\n",
              "      <td>P07550</td>\n",
              "      <td>ADRB2_HUMAN</td>\n",
              "      <td>Beta-2 adrenergic receptor (Beta-2 a...</td>\n",
              "      <td>ADRB2 ADRB2R B2AR</td>\n",
              "      <td>G-protein coupled receptor 1 family,...</td>\n",
              "      <td>ADRB2</td>\n",
              "      <td>rs1042713</td>\n",
              "      <td>0.425</td>\n",
              "      <td>missense</td>\n",
              "      <td>16.0</td>\n",
              "      <td>R</td>\n",
              "      <td>G</td>\n",
              "      <td>ADRB2</td>\n",
              "      <td>G16R</td>\n",
              "    </tr>\n",
              "    <tr>\n",
              "      <th>1</th>\n",
              "      <td>rs1042713</td>\n",
              "      <td>ADRB2</td>\n",
              "      <td>Toxicity</td>\n",
              "      <td>3</td>\n",
              "      <td>risperidone</td>\n",
              "      <td>Schizophrenia</td>\n",
              "      <td>P07550</td>\n",
              "      <td>ADRB2_HUMAN</td>\n",
              "      <td>Beta-2 adrenergic receptor (Beta-2 a...</td>\n",
              "      <td>ADRB2 ADRB2R B2AR</td>\n",
              "      <td>G-protein coupled receptor 1 family,...</td>\n",
              "      <td>ADRB2</td>\n",
              "      <td>rs1042713</td>\n",
              "      <td>0.425</td>\n",
              "      <td>missense</td>\n",
              "      <td>16.0</td>\n",
              "      <td>R</td>\n",
              "      <td>G</td>\n",
              "      <td>ADRB2</td>\n",
              "      <td>G16R</td>\n",
              "    </tr>\n",
              "    <tr>\n",
              "      <th>2</th>\n",
              "      <td>rs1042713</td>\n",
              "      <td>ADRB2</td>\n",
              "      <td>Efficacy</td>\n",
              "      <td>3</td>\n",
              "      <td>methacholine</td>\n",
              "      <td>Asthma</td>\n",
              "      <td>P07550</td>\n",
              "      <td>ADRB2_HUMAN</td>\n",
              "      <td>Beta-2 adrenergic receptor (Beta-2 a...</td>\n",
              "      <td>ADRB2 ADRB2R B2AR</td>\n",
              "      <td>G-protein coupled receptor 1 family,...</td>\n",
              "      <td>ADRB2</td>\n",
              "      <td>rs1042713</td>\n",
              "      <td>0.425</td>\n",
              "      <td>missense</td>\n",
              "      <td>16.0</td>\n",
              "      <td>R</td>\n",
              "      <td>G</td>\n",
              "      <td>ADRB2</td>\n",
              "      <td>G16R</td>\n",
              "    </tr>\n",
              "  </tbody>\n",
              "</table>\n",
              "</div>\n",
              "      <button class=\"colab-df-convert\" onclick=\"convertToInteractive('df-aedfb542-048f-45a0-bdb0-09b5295242d0')\"\n",
              "              title=\"Convert this dataframe to an interactive table.\"\n",
              "              style=\"display:none;\">\n",
              "        \n",
              "  <svg xmlns=\"http://www.w3.org/2000/svg\" height=\"24px\"viewBox=\"0 0 24 24\"\n",
              "       width=\"24px\">\n",
              "    <path d=\"M0 0h24v24H0V0z\" fill=\"none\"/>\n",
              "    <path d=\"M18.56 5.44l.94 2.06.94-2.06 2.06-.94-2.06-.94-.94-2.06-.94 2.06-2.06.94zm-11 1L8.5 8.5l.94-2.06 2.06-.94-2.06-.94L8.5 2.5l-.94 2.06-2.06.94zm10 10l.94 2.06.94-2.06 2.06-.94-2.06-.94-.94-2.06-.94 2.06-2.06.94z\"/><path d=\"M17.41 7.96l-1.37-1.37c-.4-.4-.92-.59-1.43-.59-.52 0-1.04.2-1.43.59L10.3 9.45l-7.72 7.72c-.78.78-.78 2.05 0 2.83L4 21.41c.39.39.9.59 1.41.59.51 0 1.02-.2 1.41-.59l7.78-7.78 2.81-2.81c.8-.78.8-2.07 0-2.86zM5.41 20L4 18.59l7.72-7.72 1.47 1.35L5.41 20z\"/>\n",
              "  </svg>\n",
              "      </button>\n",
              "      \n",
              "  <style>\n",
              "    .colab-df-container {\n",
              "      display:flex;\n",
              "      flex-wrap:wrap;\n",
              "      gap: 12px;\n",
              "    }\n",
              "\n",
              "    .colab-df-convert {\n",
              "      background-color: #E8F0FE;\n",
              "      border: none;\n",
              "      border-radius: 50%;\n",
              "      cursor: pointer;\n",
              "      display: none;\n",
              "      fill: #1967D2;\n",
              "      height: 32px;\n",
              "      padding: 0 0 0 0;\n",
              "      width: 32px;\n",
              "    }\n",
              "\n",
              "    .colab-df-convert:hover {\n",
              "      background-color: #E2EBFA;\n",
              "      box-shadow: 0px 1px 2px rgba(60, 64, 67, 0.3), 0px 1px 3px 1px rgba(60, 64, 67, 0.15);\n",
              "      fill: #174EA6;\n",
              "    }\n",
              "\n",
              "    [theme=dark] .colab-df-convert {\n",
              "      background-color: #3B4455;\n",
              "      fill: #D2E3FC;\n",
              "    }\n",
              "\n",
              "    [theme=dark] .colab-df-convert:hover {\n",
              "      background-color: #434B5C;\n",
              "      box-shadow: 0px 1px 3px 1px rgba(0, 0, 0, 0.15);\n",
              "      filter: drop-shadow(0px 1px 2px rgba(0, 0, 0, 0.3));\n",
              "      fill: #FFFFFF;\n",
              "    }\n",
              "  </style>\n",
              "\n",
              "      <script>\n",
              "        const buttonEl =\n",
              "          document.querySelector('#df-aedfb542-048f-45a0-bdb0-09b5295242d0 button.colab-df-convert');\n",
              "        buttonEl.style.display =\n",
              "          google.colab.kernel.accessAllowed ? 'block' : 'none';\n",
              "\n",
              "        async function convertToInteractive(key) {\n",
              "          const element = document.querySelector('#df-aedfb542-048f-45a0-bdb0-09b5295242d0');\n",
              "          const dataTable =\n",
              "            await google.colab.kernel.invokeFunction('convertToInteractive',\n",
              "                                                     [key], {});\n",
              "          if (!dataTable) return;\n",
              "\n",
              "          const docLinkHtml = 'Like what you see? Visit the ' +\n",
              "            '<a target=\"_blank\" href=https://colab.research.google.com/notebooks/data_table.ipynb>data table notebook</a>'\n",
              "            + ' to learn more about interactive tables.';\n",
              "          element.innerHTML = '';\n",
              "          dataTable['output_type'] = 'display_data';\n",
              "          await google.colab.output.renderOutput(dataTable, element);\n",
              "          const docLink = document.createElement('div');\n",
              "          docLink.innerHTML = docLinkHtml;\n",
              "          element.appendChild(docLink);\n",
              "        }\n",
              "      </script>\n",
              "    </div>\n",
              "  </div>\n",
              "  "
            ],
            "text/plain": [
              "     variant   gene      type level of evidence     chemicals     phenotypes  \\\n",
              "0  rs1042713  ADRB2  Efficacy                2A    salmeterol         Asthma   \n",
              "1  rs1042713  ADRB2  Toxicity                 3   risperidone  Schizophrenia   \n",
              "2  rs1042713  ADRB2  Efficacy                 3  methacholine         Asthma   \n",
              "\n",
              "    Entry   Entry name                            Protein names  \\\n",
              "0  P07550  ADRB2_HUMAN  Beta-2 adrenergic receptor (Beta-2 a...   \n",
              "1  P07550  ADRB2_HUMAN  Beta-2 adrenergic receptor (Beta-2 a...   \n",
              "2  P07550  ADRB2_HUMAN  Beta-2 adrenergic receptor (Beta-2 a...   \n",
              "\n",
              "          Gene names                         Protein families  \\\n",
              "0  ADRB2 ADRB2R B2AR  G-protein coupled receptor 1 family,...   \n",
              "1  ADRB2 ADRB2R B2AR  G-protein coupled receptor 1 family,...   \n",
              "2  ADRB2 ADRB2R B2AR  G-protein coupled receptor 1 family,...   \n",
              "\n",
              "  Gene names  (primary )       rsID  gnomAD_AF consequence  SequenceNumber  \\\n",
              "0                  ADRB2  rs1042713      0.425    missense            16.0   \n",
              "1                  ADRB2  rs1042713      0.425    missense            16.0   \n",
              "2                  ADRB2  rs1042713      0.425    missense            16.0   \n",
              "\n",
              "  naa oaa proteinID Protein Consequence  \n",
              "0   R   G     ADRB2                G16R  \n",
              "1   R   G     ADRB2                G16R  \n",
              "2   R   G     ADRB2                G16R  "
            ]
          },
          "execution_count": 21,
          "metadata": {},
          "output_type": "execute_result"
        }
      ],
      "source": [
        "df_GPCRs_annot_mis = df_GPCRs_annot[(df_GPCRs_annot.consequence.fillna('').str.contains('missense'))].drop_duplicates().reset_index(drop=True)\n",
        "\n",
        "df_GPCRs_annot_mis['proteinID'] = df_GPCRs_annot_mis['Entry name'].str.split('_', expand=True)[0]\n",
        "df_GPCRs_annot_mis['Protein Consequence'] = df_GPCRs_annot_mis['oaa'] + df_GPCRs_annot_mis['SequenceNumber'].astype(int).astype(str) + df_GPCRs_annot_mis['naa']\n",
        "\n",
        "df_GPCRs_annot_mis.head(3)"
      ]
    },
    {
      "cell_type": "markdown",
      "metadata": {
        "id": "iS_YWPOcOn3r"
      },
      "source": [
        "📌 ➙ The highest level of evidence is given for salmeterol and a mutation (G16R) in the β2 adrenoreceptor\n",
        "\n",
        "🎯 Let's look closer at the given evidence for this association:"
      ]
    },
    {
      "cell_type": "code",
      "execution_count": 734,
      "metadata": {
        "colab": {
          "base_uri": "https://localhost:8080/",
          "height": 399
        },
        "id": "KT73PyEXOn3s",
        "outputId": "6942638d-6007-409c-8b80-d0ad6529b7eb"
      },
      "outputs": [
        {
          "ename": "FileNotFoundError",
          "evalue": "[Errno 2] No such file or directory: '/content/PGx-workshop/data/var_drug_ann.tsv'",
          "output_type": "error",
          "traceback": [
            "\u001b[0;31m---------------------------------------------------------------------------\u001b[0m",
            "\u001b[0;31mFileNotFoundError\u001b[0m                         Traceback (most recent call last)",
            "\u001b[0;32m/var/folders/7f/8zy1ngcj4911m17qc1ksby_m0000gp/T/ipykernel_3800/3965962770.py\u001b[0m in \u001b[0;36m<module>\u001b[0;34m\u001b[0m\n\u001b[1;32m      1\u001b[0m \u001b[0mpd\u001b[0m\u001b[0;34m.\u001b[0m\u001b[0mset_option\u001b[0m\u001b[0;34m(\u001b[0m\u001b[0;34m'display.max_colwidth'\u001b[0m\u001b[0;34m,\u001b[0m \u001b[0;32mNone\u001b[0m\u001b[0;34m)\u001b[0m\u001b[0;34m\u001b[0m\u001b[0;34m\u001b[0m\u001b[0m\n\u001b[0;32m----> 2\u001b[0;31m \u001b[0mdft\u001b[0m \u001b[0;34m=\u001b[0m \u001b[0mpd\u001b[0m\u001b[0;34m.\u001b[0m\u001b[0mread_csv\u001b[0m\u001b[0;34m(\u001b[0m\u001b[0;34m\"/content/PGx-workshop/data/var_drug_ann.tsv\"\u001b[0m\u001b[0;34m,\u001b[0m \u001b[0msep\u001b[0m\u001b[0;34m=\u001b[0m\u001b[0;34m'\\t'\u001b[0m\u001b[0;34m)\u001b[0m\u001b[0;34m\u001b[0m\u001b[0;34m\u001b[0m\u001b[0m\n\u001b[0m\u001b[1;32m      3\u001b[0m \u001b[0mdft\u001b[0m\u001b[0;34m[\u001b[0m\u001b[0;34m(\u001b[0m\u001b[0mdft\u001b[0m\u001b[0;34m[\u001b[0m\u001b[0;34m'Variant/Haplotypes'\u001b[0m\u001b[0;34m]\u001b[0m \u001b[0;34m==\u001b[0m \u001b[0;34m'rs1042713'\u001b[0m\u001b[0;34m)\u001b[0m\u001b[0;34m]\u001b[0m\u001b[0;34m\u001b[0m\u001b[0;34m\u001b[0m\u001b[0m\n",
            "\u001b[0;32m~/opt/anaconda3/lib/python3.8/site-packages/pandas/util/_decorators.py\u001b[0m in \u001b[0;36mwrapper\u001b[0;34m(*args, **kwargs)\u001b[0m\n\u001b[1;32m    309\u001b[0m                     \u001b[0mstacklevel\u001b[0m\u001b[0;34m=\u001b[0m\u001b[0mstacklevel\u001b[0m\u001b[0;34m,\u001b[0m\u001b[0;34m\u001b[0m\u001b[0;34m\u001b[0m\u001b[0m\n\u001b[1;32m    310\u001b[0m                 )\n\u001b[0;32m--> 311\u001b[0;31m             \u001b[0;32mreturn\u001b[0m \u001b[0mfunc\u001b[0m\u001b[0;34m(\u001b[0m\u001b[0;34m*\u001b[0m\u001b[0margs\u001b[0m\u001b[0;34m,\u001b[0m \u001b[0;34m**\u001b[0m\u001b[0mkwargs\u001b[0m\u001b[0;34m)\u001b[0m\u001b[0;34m\u001b[0m\u001b[0;34m\u001b[0m\u001b[0m\n\u001b[0m\u001b[1;32m    312\u001b[0m \u001b[0;34m\u001b[0m\u001b[0m\n\u001b[1;32m    313\u001b[0m         \u001b[0;32mreturn\u001b[0m \u001b[0mwrapper\u001b[0m\u001b[0;34m\u001b[0m\u001b[0;34m\u001b[0m\u001b[0m\n",
            "\u001b[0;32m~/opt/anaconda3/lib/python3.8/site-packages/pandas/io/parsers/readers.py\u001b[0m in \u001b[0;36mread_csv\u001b[0;34m(filepath_or_buffer, sep, delimiter, header, names, index_col, usecols, squeeze, prefix, mangle_dupe_cols, dtype, engine, converters, true_values, false_values, skipinitialspace, skiprows, skipfooter, nrows, na_values, keep_default_na, na_filter, verbose, skip_blank_lines, parse_dates, infer_datetime_format, keep_date_col, date_parser, dayfirst, cache_dates, iterator, chunksize, compression, thousands, decimal, lineterminator, quotechar, quoting, doublequote, escapechar, comment, encoding, encoding_errors, dialect, error_bad_lines, warn_bad_lines, on_bad_lines, delim_whitespace, low_memory, memory_map, float_precision, storage_options)\u001b[0m\n\u001b[1;32m    678\u001b[0m     \u001b[0mkwds\u001b[0m\u001b[0;34m.\u001b[0m\u001b[0mupdate\u001b[0m\u001b[0;34m(\u001b[0m\u001b[0mkwds_defaults\u001b[0m\u001b[0;34m)\u001b[0m\u001b[0;34m\u001b[0m\u001b[0;34m\u001b[0m\u001b[0m\n\u001b[1;32m    679\u001b[0m \u001b[0;34m\u001b[0m\u001b[0m\n\u001b[0;32m--> 680\u001b[0;31m     \u001b[0;32mreturn\u001b[0m \u001b[0m_read\u001b[0m\u001b[0;34m(\u001b[0m\u001b[0mfilepath_or_buffer\u001b[0m\u001b[0;34m,\u001b[0m \u001b[0mkwds\u001b[0m\u001b[0;34m)\u001b[0m\u001b[0;34m\u001b[0m\u001b[0;34m\u001b[0m\u001b[0m\n\u001b[0m\u001b[1;32m    681\u001b[0m \u001b[0;34m\u001b[0m\u001b[0m\n\u001b[1;32m    682\u001b[0m \u001b[0;34m\u001b[0m\u001b[0m\n",
            "\u001b[0;32m~/opt/anaconda3/lib/python3.8/site-packages/pandas/io/parsers/readers.py\u001b[0m in \u001b[0;36m_read\u001b[0;34m(filepath_or_buffer, kwds)\u001b[0m\n\u001b[1;32m    573\u001b[0m \u001b[0;34m\u001b[0m\u001b[0m\n\u001b[1;32m    574\u001b[0m     \u001b[0;31m# Create the parser.\u001b[0m\u001b[0;34m\u001b[0m\u001b[0;34m\u001b[0m\u001b[0;34m\u001b[0m\u001b[0m\n\u001b[0;32m--> 575\u001b[0;31m     \u001b[0mparser\u001b[0m \u001b[0;34m=\u001b[0m \u001b[0mTextFileReader\u001b[0m\u001b[0;34m(\u001b[0m\u001b[0mfilepath_or_buffer\u001b[0m\u001b[0;34m,\u001b[0m \u001b[0;34m**\u001b[0m\u001b[0mkwds\u001b[0m\u001b[0;34m)\u001b[0m\u001b[0;34m\u001b[0m\u001b[0;34m\u001b[0m\u001b[0m\n\u001b[0m\u001b[1;32m    576\u001b[0m \u001b[0;34m\u001b[0m\u001b[0m\n\u001b[1;32m    577\u001b[0m     \u001b[0;32mif\u001b[0m \u001b[0mchunksize\u001b[0m \u001b[0;32mor\u001b[0m \u001b[0miterator\u001b[0m\u001b[0;34m:\u001b[0m\u001b[0;34m\u001b[0m\u001b[0;34m\u001b[0m\u001b[0m\n",
            "\u001b[0;32m~/opt/anaconda3/lib/python3.8/site-packages/pandas/io/parsers/readers.py\u001b[0m in \u001b[0;36m__init__\u001b[0;34m(self, f, engine, **kwds)\u001b[0m\n\u001b[1;32m    931\u001b[0m \u001b[0;34m\u001b[0m\u001b[0m\n\u001b[1;32m    932\u001b[0m         \u001b[0mself\u001b[0m\u001b[0;34m.\u001b[0m\u001b[0mhandles\u001b[0m\u001b[0;34m:\u001b[0m \u001b[0mIOHandles\u001b[0m \u001b[0;34m|\u001b[0m \u001b[0;32mNone\u001b[0m \u001b[0;34m=\u001b[0m \u001b[0;32mNone\u001b[0m\u001b[0;34m\u001b[0m\u001b[0;34m\u001b[0m\u001b[0m\n\u001b[0;32m--> 933\u001b[0;31m         \u001b[0mself\u001b[0m\u001b[0;34m.\u001b[0m\u001b[0m_engine\u001b[0m \u001b[0;34m=\u001b[0m \u001b[0mself\u001b[0m\u001b[0;34m.\u001b[0m\u001b[0m_make_engine\u001b[0m\u001b[0;34m(\u001b[0m\u001b[0mf\u001b[0m\u001b[0;34m,\u001b[0m \u001b[0mself\u001b[0m\u001b[0;34m.\u001b[0m\u001b[0mengine\u001b[0m\u001b[0;34m)\u001b[0m\u001b[0;34m\u001b[0m\u001b[0;34m\u001b[0m\u001b[0m\n\u001b[0m\u001b[1;32m    934\u001b[0m \u001b[0;34m\u001b[0m\u001b[0m\n\u001b[1;32m    935\u001b[0m     \u001b[0;32mdef\u001b[0m \u001b[0mclose\u001b[0m\u001b[0;34m(\u001b[0m\u001b[0mself\u001b[0m\u001b[0;34m)\u001b[0m\u001b[0;34m:\u001b[0m\u001b[0;34m\u001b[0m\u001b[0;34m\u001b[0m\u001b[0m\n",
            "\u001b[0;32m~/opt/anaconda3/lib/python3.8/site-packages/pandas/io/parsers/readers.py\u001b[0m in \u001b[0;36m_make_engine\u001b[0;34m(self, f, engine)\u001b[0m\n\u001b[1;32m   1215\u001b[0m             \u001b[0;31m# \"Union[str, PathLike[str], ReadCsvBuffer[bytes], ReadCsvBuffer[str]]\"\u001b[0m\u001b[0;34m\u001b[0m\u001b[0;34m\u001b[0m\u001b[0;34m\u001b[0m\u001b[0m\n\u001b[1;32m   1216\u001b[0m             \u001b[0;31m# , \"str\", \"bool\", \"Any\", \"Any\", \"Any\", \"Any\", \"Any\"\u001b[0m\u001b[0;34m\u001b[0m\u001b[0;34m\u001b[0m\u001b[0;34m\u001b[0m\u001b[0m\n\u001b[0;32m-> 1217\u001b[0;31m             self.handles = get_handle(  # type: ignore[call-overload]\n\u001b[0m\u001b[1;32m   1218\u001b[0m                 \u001b[0mf\u001b[0m\u001b[0;34m,\u001b[0m\u001b[0;34m\u001b[0m\u001b[0;34m\u001b[0m\u001b[0m\n\u001b[1;32m   1219\u001b[0m                 \u001b[0mmode\u001b[0m\u001b[0;34m,\u001b[0m\u001b[0;34m\u001b[0m\u001b[0;34m\u001b[0m\u001b[0m\n",
            "\u001b[0;32m~/opt/anaconda3/lib/python3.8/site-packages/pandas/io/common.py\u001b[0m in \u001b[0;36mget_handle\u001b[0;34m(path_or_buf, mode, encoding, compression, memory_map, is_text, errors, storage_options)\u001b[0m\n\u001b[1;32m    787\u001b[0m         \u001b[0;32mif\u001b[0m \u001b[0mioargs\u001b[0m\u001b[0;34m.\u001b[0m\u001b[0mencoding\u001b[0m \u001b[0;32mand\u001b[0m \u001b[0;34m\"b\"\u001b[0m \u001b[0;32mnot\u001b[0m \u001b[0;32min\u001b[0m \u001b[0mioargs\u001b[0m\u001b[0;34m.\u001b[0m\u001b[0mmode\u001b[0m\u001b[0;34m:\u001b[0m\u001b[0;34m\u001b[0m\u001b[0;34m\u001b[0m\u001b[0m\n\u001b[1;32m    788\u001b[0m             \u001b[0;31m# Encoding\u001b[0m\u001b[0;34m\u001b[0m\u001b[0;34m\u001b[0m\u001b[0;34m\u001b[0m\u001b[0m\n\u001b[0;32m--> 789\u001b[0;31m             handle = open(\n\u001b[0m\u001b[1;32m    790\u001b[0m                 \u001b[0mhandle\u001b[0m\u001b[0;34m,\u001b[0m\u001b[0;34m\u001b[0m\u001b[0;34m\u001b[0m\u001b[0m\n\u001b[1;32m    791\u001b[0m                 \u001b[0mioargs\u001b[0m\u001b[0;34m.\u001b[0m\u001b[0mmode\u001b[0m\u001b[0;34m,\u001b[0m\u001b[0;34m\u001b[0m\u001b[0;34m\u001b[0m\u001b[0m\n",
            "\u001b[0;31mFileNotFoundError\u001b[0m: [Errno 2] No such file or directory: '/content/PGx-workshop/data/var_drug_ann.tsv'"
          ]
        }
      ],
      "source": [
        "pd.set_option('display.max_colwidth', None)\n",
        "dft = pd.read_csv(\"/content/PGx-workshop/data/var_drug_ann.tsv\", sep='\\t')\n",
        "dft[(dft['Variant/Haplotypes'] == 'rs1042713') & (dft['Drug(s)'] == 'salmeterol')]"
      ]
    },
    {
      "cell_type": "markdown",
      "metadata": {
        "id": "zMNHbU9bOn3s"
      },
      "source": [
        "📌 ➙ Salmeterol seems to be less efficacious in the treatment of Asthma for patients with the ADRB2-G16R mutation\n",
        "\n",
        "💥 Are there also non-signifiant associations for the **rs1042713** variant reported?\n",
        "\n",
        "🎯 Let's look closer at the GPCR mutations. We obtain structural information from the [GPCRdb.org](GPCRdb.org) and generate an input data frame to visualize the aggregated missense mutations in GPCRs for which there is structural protein data."
      ]
    },
    {
      "cell_type": "code",
      "execution_count": 23,
      "metadata": {
        "id": "NttUwJZ7On3s"
      },
      "outputs": [],
      "source": [
        "# Get GPCRdb structures\n",
        "# url = \"http://test.gpcrdb.org/services/structure/\"\n",
        "# structures = requests.get(url).json()\n",
        "# df_temp = pd.DataFrame(structures)\n",
        "# df_temp.to_csv('/Users/vzw960/Downloads/GPCRdb_structures.csv', index=False)\n",
        "df_GPCRdb_structures = pd.read_csv('/content/PGx-workshop/data/GPCRdb_structures.csv')\n",
        "df_GPCRdb_structures['pdbChainId'] = df_GPCRdb_structures['pdb_code'] + '.' + df_GPCRdb_structures['preferred_chain']\n",
        "df_GPCRdb_structures['proteinID'] = df_GPCRdb_structures['protein'].str.split('_', expand=True)[0].str.upper()\n",
        "\n",
        "# Take the highest resolution representative structure\n",
        "df_repr = df_GPCRdb_structures.sort_values(['proteinID','resolution'], ascending=[False, True]).groupby('proteinID').head(1)\n",
        "\n",
        "# Merge 3D protein information with variant information\n",
        "df_snp_pdb = df_GPCRs_annot_mis.merge(df_repr, on='proteinID')\n",
        "\n",
        "df_input = df_snp_pdb[['pdbChainId', 'proteinID', 'SequenceNumber', 'level of evidence', 'Protein Consequence']].drop_duplicates().groupby([\"pdbChainId\", \"proteinID\"]).agg({ 'SequenceNumber': list, \\\n",
        "                    'level of evidence': list, \\\n",
        "                    'Protein Consequence': list})  #\n",
        "\n",
        "df_input = df_input.reset_index()\n",
        "\n",
        "df_input.rename(columns = {'level of evidence': 'highlighting'}, inplace=True)"
      ]
    },
    {
      "cell_type": "code",
      "execution_count": 24,
      "metadata": {
        "id": "5Uxl8Ag_On3s"
      },
      "outputs": [],
      "source": [
        "def view_modifications(df, cutoff_distance, *args):\n",
        "\n",
        "    def view3d(show_bio_assembly=False, show_surface=False, show_labels=False, i=0):\n",
        "        pdb_id, chain_id = df.iloc[i]['pdbChainId'].split('.')\n",
        "        res_num = list(df.iloc[i]['SequenceNumber'])\n",
        "        labels = df.iloc[i]['Protein Consequence']\n",
        "        sigs = df.iloc[i]['highlighting']\n",
        "\n",
        "        sig_dir = {'Benign':'green', 'Likely benign':'turquoise', 'Likely pathogenic':'palevioletred', \\\n",
        "                   'Pathogenic':'red', 'drug-response':'plum', 'untested':'white', 'CV': 'darkred', 'RV':'yellow',\n",
        "                   'Uncertain significance': 'lightgray', 'other':'white', 'null':'white', '2A':'darkred', '3':'red', '4': 'pink'}\n",
        "\n",
        "        # print header\n",
        "        print (\"PDB Id: \" + pdb_id + \" chain Id: \" + chain_id)\n",
        "\n",
        "        # print any specified additional columns from the dataframe\n",
        "        for a in args:\n",
        "            print(a + \": \" + df.iloc[i][a])\n",
        "\n",
        "        all_residues = {'resi': res_num, 'chain': chain_id}\n",
        "\n",
        "        # select neigboring residues by distance\n",
        "        surroundings = {'chain': chain_id, 'resi': res_num, 'byres': True, 'expand': cutoff_distance}\n",
        "\n",
        "        viewer = py3Dmol.view(query='pdb:' + pdb_id, options={'doAssembly': show_bio_assembly})\n",
        "\n",
        "        # polymer style\n",
        "        viewer.setStyle({'cartoon': {'colorscheme': 'chain', 'width': 0.6, 'opacity':0.9}})\n",
        "\n",
        "        # non-polymer style\n",
        "        viewer.setStyle({'hetflag': True}, {'stick':{'radius': 0.3, 'singleBond': False}})\n",
        "\n",
        "        # residues surrounding mutation positions\n",
        "        viewer.addStyle(surroundings,{'stick':{'colorscheme':'orangeCarbon', 'radius': 0.15}})\n",
        "\n",
        "        # mutation positions\n",
        "        for label, res, sig in zip(labels, res_num, sigs):\n",
        "            sig1 = sig.split(',')[0] # if multiple values, use the first one\n",
        "            col = (sig_dir[sig1])\n",
        "            mod_res = {'resi': res, 'chain': chain_id}\n",
        "            c_col = col + \"Carbon\"\n",
        "            viewer.addStyle(mod_res, {'stick':{'colorscheme':c_col, 'radius': 0.2}})\n",
        "            viewer.addStyle(mod_res, {'sphere':{'color':col, 'opacity': 0.6}})\n",
        "\n",
        "            if show_labels:\n",
        "                viewer.addLabel(label + \" LoE:\" + sig1, {'fontSize':10,'fontColor':col,'backgroundColor':'ivory'}, {'resi': res, 'chain': chain_id})\n",
        "\n",
        "        viewer.zoomTo(all_residues)\n",
        "\n",
        "        if show_surface:\n",
        "            viewer.addSurface(py3Dmol.SES,{'opacity':0.5,'color':'lightblue'})\n",
        "\n",
        "        return viewer.show()\n",
        "\n",
        "    s_widget = IntSlider(min=0, max=len(df)-1, description='Structure', continuous_update=False)\n",
        "\n",
        "    return interact(view3d, show_bio_assembly=False, show_surface=False, show_labels=True, i=s_widget)"
      ]
    },
    {
      "cell_type": "code",
      "execution_count": 25,
      "metadata": {
        "colab": {
          "base_uri": "https://localhost:8080/",
          "height": 680,
          "referenced_widgets": [
            "58562d08a0af40119a7d639ef0a032ed",
            "2e657f6a900342a8aeec1cbce8463e52",
            "5a396a3f747f4879a17e1dd68e78db3e",
            "2ea1bd7825694b3db470564ae4be657b",
            "f4ea2ec9a90a4ffc84e22a3dab67df8d",
            "87017c27f070462d82a612f660359708",
            "daa30ca7b6344aecbd6764c8b3c6851b",
            "c08db9c056d6463f8f7c284f99511a48",
            "d61c7892dc3b471287d695ea38728149",
            "4460a52977ee4ecbbc2a13852db6fa60",
            "e46dd0ff0c964178913504bac5c44579",
            "961ef64f420c48229192cffee2233bd7",
            "310bf469b7d34d58944b0e2e66443b46",
            "875cd741cfb345a1b5c7375c364dcd93",
            "6ffd482a0ebd4053a67274f4f61f9f39",
            "0a65fe8b433b49eab90249cd7ba47ed5"
          ]
        },
        "id": "FFEIkxjkOn3t",
        "outputId": "cfcf2521-acc3-4efc-b02a-701a77d0eac0"
      },
      "outputs": [
        {
          "data": {
            "application/vnd.jupyter.widget-view+json": {
              "model_id": "58562d08a0af40119a7d639ef0a032ed",
              "version_major": 2,
              "version_minor": 0
            },
            "text/plain": [
              "interactive(children=(Checkbox(value=False, description='show_bio_assembly'), Checkbox(value=False, descriptio…"
            ]
          },
          "metadata": {},
          "output_type": "display_data"
        },
        {
          "data": {
            "text/plain": [
              "<function __main__.view_modifications.<locals>.view3d>"
            ]
          },
          "execution_count": 25,
          "metadata": {},
          "output_type": "execute_result"
        }
      ],
      "source": [
        "view_modifications(df_input, 5, 'proteinID')"
      ]
    },
    {
      "cell_type": "markdown",
      "metadata": {
        "id": "FesvOy3JOn3t"
      },
      "source": [
        "📌 ➙ You can take a closer look at the set of GPCRs with PharmGKB missense variant annotations and structural information\n",
        "\n",
        "💥 Can you find the G16R in β2 adrenoreceptor (ADBR2)? Why not? Generally, are the mutations located where you would expect them to be?\n",
        "\n",
        "🎯 Finally, let's take a look at all the mutations from the general population and map them onto the β2 adrenoreceptor structure."
      ]
    },
    {
      "cell_type": "code",
      "execution_count": 735,
      "metadata": {
        "colab": {
          "base_uri": "https://localhost:8080/",
          "height": 661,
          "referenced_widgets": [
            "dc0fed092bd0499a8a30b24a72357a7f",
            "3128744141ff41fc99efad48af83b58c",
            "6fe0de7c2ebe4d53af1b782b4b81d69d",
            "8dfe464893a0467da39354fe615d56df",
            "5401e74cd51b4e58acc1609945a42a15",
            "228ef6ad06fe407eb996e04807e3c4d2",
            "3e96596ae35b4405802a2298286a4c70",
            "f2e97ad1564141b18f8f87641b8ad9bf",
            "78fa9ef4c8c14777b37da000fa4e0634",
            "61e459893edc4393a003688ad4bc3074",
            "f678145ae7f244faa6f71f86e0d11c55",
            "94a441844dbf4fb2b47e6013881ddeb8",
            "7d663cced7d54d10a9ba9c18673fb9d4",
            "96ad2fd2c2a4453c99c6eecb30e4f9f7",
            "d0e1545811f74658be55abf8a0672244",
            "6b21e3413e754893b227386132f79a9a"
          ]
        },
        "id": "uw60eP4aOn3u",
        "outputId": "6aef5f7d-8fbc-44aa-e0b4-d8403e0f6296"
      },
      "outputs": [
        {
          "ename": "FileNotFoundError",
          "evalue": "[Errno 2] No such file or directory: '/content/PGx-workshopdata/gnomAD_v2.1.1_ENSG00000169252_ADRB2.csv'",
          "output_type": "error",
          "traceback": [
            "\u001b[0;31m---------------------------------------------------------------------------\u001b[0m",
            "\u001b[0;31mFileNotFoundError\u001b[0m                         Traceback (most recent call last)",
            "\u001b[0;32m/var/folders/7f/8zy1ngcj4911m17qc1ksby_m0000gp/T/ipykernel_3800/280014492.py\u001b[0m in \u001b[0;36m<module>\u001b[0;34m\u001b[0m\n\u001b[0;32m----> 1\u001b[0;31m \u001b[0mgnomad_df\u001b[0m \u001b[0;34m=\u001b[0m \u001b[0mpd\u001b[0m\u001b[0;34m.\u001b[0m\u001b[0mread_csv\u001b[0m\u001b[0;34m(\u001b[0m\u001b[0;34m'/content/PGx-workshopdata/gnomAD_v2.1.1_ENSG00000169252_ADRB2.csv'\u001b[0m\u001b[0;34m)\u001b[0m\u001b[0;34m\u001b[0m\u001b[0;34m\u001b[0m\u001b[0m\n\u001b[0m\u001b[1;32m      2\u001b[0m \u001b[0;34m\u001b[0m\u001b[0m\n\u001b[1;32m      3\u001b[0m \u001b[0;31m# focus on missense variants\u001b[0m\u001b[0;34m\u001b[0m\u001b[0;34m\u001b[0m\u001b[0;34m\u001b[0m\u001b[0m\n\u001b[1;32m      4\u001b[0m \u001b[0mgnomad_df\u001b[0m \u001b[0;34m=\u001b[0m \u001b[0mgnomad_df\u001b[0m\u001b[0;34m[\u001b[0m\u001b[0mgnomad_df\u001b[0m\u001b[0;34m[\u001b[0m\u001b[0;34m'VEP Annotation'\u001b[0m\u001b[0;34m]\u001b[0m \u001b[0;34m==\u001b[0m \u001b[0;34m'missense_variant'\u001b[0m\u001b[0;34m]\u001b[0m\u001b[0;34m\u001b[0m\u001b[0;34m\u001b[0m\u001b[0m\n\u001b[1;32m      5\u001b[0m \u001b[0;34m\u001b[0m\u001b[0m\n",
            "\u001b[0;32m~/opt/anaconda3/lib/python3.8/site-packages/pandas/util/_decorators.py\u001b[0m in \u001b[0;36mwrapper\u001b[0;34m(*args, **kwargs)\u001b[0m\n\u001b[1;32m    309\u001b[0m                     \u001b[0mstacklevel\u001b[0m\u001b[0;34m=\u001b[0m\u001b[0mstacklevel\u001b[0m\u001b[0;34m,\u001b[0m\u001b[0;34m\u001b[0m\u001b[0;34m\u001b[0m\u001b[0m\n\u001b[1;32m    310\u001b[0m                 )\n\u001b[0;32m--> 311\u001b[0;31m             \u001b[0;32mreturn\u001b[0m \u001b[0mfunc\u001b[0m\u001b[0;34m(\u001b[0m\u001b[0;34m*\u001b[0m\u001b[0margs\u001b[0m\u001b[0;34m,\u001b[0m \u001b[0;34m**\u001b[0m\u001b[0mkwargs\u001b[0m\u001b[0;34m)\u001b[0m\u001b[0;34m\u001b[0m\u001b[0;34m\u001b[0m\u001b[0m\n\u001b[0m\u001b[1;32m    312\u001b[0m \u001b[0;34m\u001b[0m\u001b[0m\n\u001b[1;32m    313\u001b[0m         \u001b[0;32mreturn\u001b[0m \u001b[0mwrapper\u001b[0m\u001b[0;34m\u001b[0m\u001b[0;34m\u001b[0m\u001b[0m\n",
            "\u001b[0;32m~/opt/anaconda3/lib/python3.8/site-packages/pandas/io/parsers/readers.py\u001b[0m in \u001b[0;36mread_csv\u001b[0;34m(filepath_or_buffer, sep, delimiter, header, names, index_col, usecols, squeeze, prefix, mangle_dupe_cols, dtype, engine, converters, true_values, false_values, skipinitialspace, skiprows, skipfooter, nrows, na_values, keep_default_na, na_filter, verbose, skip_blank_lines, parse_dates, infer_datetime_format, keep_date_col, date_parser, dayfirst, cache_dates, iterator, chunksize, compression, thousands, decimal, lineterminator, quotechar, quoting, doublequote, escapechar, comment, encoding, encoding_errors, dialect, error_bad_lines, warn_bad_lines, on_bad_lines, delim_whitespace, low_memory, memory_map, float_precision, storage_options)\u001b[0m\n\u001b[1;32m    678\u001b[0m     \u001b[0mkwds\u001b[0m\u001b[0;34m.\u001b[0m\u001b[0mupdate\u001b[0m\u001b[0;34m(\u001b[0m\u001b[0mkwds_defaults\u001b[0m\u001b[0;34m)\u001b[0m\u001b[0;34m\u001b[0m\u001b[0;34m\u001b[0m\u001b[0m\n\u001b[1;32m    679\u001b[0m \u001b[0;34m\u001b[0m\u001b[0m\n\u001b[0;32m--> 680\u001b[0;31m     \u001b[0;32mreturn\u001b[0m \u001b[0m_read\u001b[0m\u001b[0;34m(\u001b[0m\u001b[0mfilepath_or_buffer\u001b[0m\u001b[0;34m,\u001b[0m \u001b[0mkwds\u001b[0m\u001b[0;34m)\u001b[0m\u001b[0;34m\u001b[0m\u001b[0;34m\u001b[0m\u001b[0m\n\u001b[0m\u001b[1;32m    681\u001b[0m \u001b[0;34m\u001b[0m\u001b[0m\n\u001b[1;32m    682\u001b[0m \u001b[0;34m\u001b[0m\u001b[0m\n",
            "\u001b[0;32m~/opt/anaconda3/lib/python3.8/site-packages/pandas/io/parsers/readers.py\u001b[0m in \u001b[0;36m_read\u001b[0;34m(filepath_or_buffer, kwds)\u001b[0m\n\u001b[1;32m    573\u001b[0m \u001b[0;34m\u001b[0m\u001b[0m\n\u001b[1;32m    574\u001b[0m     \u001b[0;31m# Create the parser.\u001b[0m\u001b[0;34m\u001b[0m\u001b[0;34m\u001b[0m\u001b[0;34m\u001b[0m\u001b[0m\n\u001b[0;32m--> 575\u001b[0;31m     \u001b[0mparser\u001b[0m \u001b[0;34m=\u001b[0m \u001b[0mTextFileReader\u001b[0m\u001b[0;34m(\u001b[0m\u001b[0mfilepath_or_buffer\u001b[0m\u001b[0;34m,\u001b[0m \u001b[0;34m**\u001b[0m\u001b[0mkwds\u001b[0m\u001b[0;34m)\u001b[0m\u001b[0;34m\u001b[0m\u001b[0;34m\u001b[0m\u001b[0m\n\u001b[0m\u001b[1;32m    576\u001b[0m \u001b[0;34m\u001b[0m\u001b[0m\n\u001b[1;32m    577\u001b[0m     \u001b[0;32mif\u001b[0m \u001b[0mchunksize\u001b[0m \u001b[0;32mor\u001b[0m \u001b[0miterator\u001b[0m\u001b[0;34m:\u001b[0m\u001b[0;34m\u001b[0m\u001b[0;34m\u001b[0m\u001b[0m\n",
            "\u001b[0;32m~/opt/anaconda3/lib/python3.8/site-packages/pandas/io/parsers/readers.py\u001b[0m in \u001b[0;36m__init__\u001b[0;34m(self, f, engine, **kwds)\u001b[0m\n\u001b[1;32m    931\u001b[0m \u001b[0;34m\u001b[0m\u001b[0m\n\u001b[1;32m    932\u001b[0m         \u001b[0mself\u001b[0m\u001b[0;34m.\u001b[0m\u001b[0mhandles\u001b[0m\u001b[0;34m:\u001b[0m \u001b[0mIOHandles\u001b[0m \u001b[0;34m|\u001b[0m \u001b[0;32mNone\u001b[0m \u001b[0;34m=\u001b[0m \u001b[0;32mNone\u001b[0m\u001b[0;34m\u001b[0m\u001b[0;34m\u001b[0m\u001b[0m\n\u001b[0;32m--> 933\u001b[0;31m         \u001b[0mself\u001b[0m\u001b[0;34m.\u001b[0m\u001b[0m_engine\u001b[0m \u001b[0;34m=\u001b[0m \u001b[0mself\u001b[0m\u001b[0;34m.\u001b[0m\u001b[0m_make_engine\u001b[0m\u001b[0;34m(\u001b[0m\u001b[0mf\u001b[0m\u001b[0;34m,\u001b[0m \u001b[0mself\u001b[0m\u001b[0;34m.\u001b[0m\u001b[0mengine\u001b[0m\u001b[0;34m)\u001b[0m\u001b[0;34m\u001b[0m\u001b[0;34m\u001b[0m\u001b[0m\n\u001b[0m\u001b[1;32m    934\u001b[0m \u001b[0;34m\u001b[0m\u001b[0m\n\u001b[1;32m    935\u001b[0m     \u001b[0;32mdef\u001b[0m \u001b[0mclose\u001b[0m\u001b[0;34m(\u001b[0m\u001b[0mself\u001b[0m\u001b[0;34m)\u001b[0m\u001b[0;34m:\u001b[0m\u001b[0;34m\u001b[0m\u001b[0;34m\u001b[0m\u001b[0m\n",
            "\u001b[0;32m~/opt/anaconda3/lib/python3.8/site-packages/pandas/io/parsers/readers.py\u001b[0m in \u001b[0;36m_make_engine\u001b[0;34m(self, f, engine)\u001b[0m\n\u001b[1;32m   1215\u001b[0m             \u001b[0;31m# \"Union[str, PathLike[str], ReadCsvBuffer[bytes], ReadCsvBuffer[str]]\"\u001b[0m\u001b[0;34m\u001b[0m\u001b[0;34m\u001b[0m\u001b[0;34m\u001b[0m\u001b[0m\n\u001b[1;32m   1216\u001b[0m             \u001b[0;31m# , \"str\", \"bool\", \"Any\", \"Any\", \"Any\", \"Any\", \"Any\"\u001b[0m\u001b[0;34m\u001b[0m\u001b[0;34m\u001b[0m\u001b[0;34m\u001b[0m\u001b[0m\n\u001b[0;32m-> 1217\u001b[0;31m             self.handles = get_handle(  # type: ignore[call-overload]\n\u001b[0m\u001b[1;32m   1218\u001b[0m                 \u001b[0mf\u001b[0m\u001b[0;34m,\u001b[0m\u001b[0;34m\u001b[0m\u001b[0;34m\u001b[0m\u001b[0m\n\u001b[1;32m   1219\u001b[0m                 \u001b[0mmode\u001b[0m\u001b[0;34m,\u001b[0m\u001b[0;34m\u001b[0m\u001b[0;34m\u001b[0m\u001b[0m\n",
            "\u001b[0;32m~/opt/anaconda3/lib/python3.8/site-packages/pandas/io/common.py\u001b[0m in \u001b[0;36mget_handle\u001b[0;34m(path_or_buf, mode, encoding, compression, memory_map, is_text, errors, storage_options)\u001b[0m\n\u001b[1;32m    787\u001b[0m         \u001b[0;32mif\u001b[0m \u001b[0mioargs\u001b[0m\u001b[0;34m.\u001b[0m\u001b[0mencoding\u001b[0m \u001b[0;32mand\u001b[0m \u001b[0;34m\"b\"\u001b[0m \u001b[0;32mnot\u001b[0m \u001b[0;32min\u001b[0m \u001b[0mioargs\u001b[0m\u001b[0;34m.\u001b[0m\u001b[0mmode\u001b[0m\u001b[0;34m:\u001b[0m\u001b[0;34m\u001b[0m\u001b[0;34m\u001b[0m\u001b[0m\n\u001b[1;32m    788\u001b[0m             \u001b[0;31m# Encoding\u001b[0m\u001b[0;34m\u001b[0m\u001b[0;34m\u001b[0m\u001b[0;34m\u001b[0m\u001b[0m\n\u001b[0;32m--> 789\u001b[0;31m             handle = open(\n\u001b[0m\u001b[1;32m    790\u001b[0m                 \u001b[0mhandle\u001b[0m\u001b[0;34m,\u001b[0m\u001b[0;34m\u001b[0m\u001b[0;34m\u001b[0m\u001b[0m\n\u001b[1;32m    791\u001b[0m                 \u001b[0mioargs\u001b[0m\u001b[0;34m.\u001b[0m\u001b[0mmode\u001b[0m\u001b[0;34m,\u001b[0m\u001b[0;34m\u001b[0m\u001b[0;34m\u001b[0m\u001b[0m\n",
            "\u001b[0;31mFileNotFoundError\u001b[0m: [Errno 2] No such file or directory: '/content/PGx-workshopdata/gnomAD_v2.1.1_ENSG00000169252_ADRB2.csv'"
          ]
        }
      ],
      "source": [
        "gnomad_df = pd.read_csv('/content/PGx-workshop/data/gnomAD_v2.1.1_ENSG00000169252_ADRB2.csv')\n",
        "\n",
        "# focus on missense variants\n",
        "gnomad_df = gnomad_df[gnomad_df['VEP Annotation'] == 'missense_variant']\n",
        "\n",
        "gnomad_df['SequenceNumber'] = gnomad_df['HGVS Consequence'].apply(lambda x: int(re.findall(r'\\d+', x)[0]))\n",
        "\n",
        "# Highlight all variants with an allele frequency of ~1 in 1000\n",
        "gnomad_df['highlighting'] = gnomad_df['Allele Frequency'].apply(lambda x: 'CV' if x >= 0.001 else 'RV')\n",
        "\n",
        "# Add the PDBid and chain Id together\n",
        "gnomad_df['pdbChainId'] = '2RH1.A'\n",
        "\n",
        "# The protein name or ID for display and information only\n",
        "gnomad_df['proteinID'] = 'ADRB2'\n",
        "\n",
        "\n",
        "gnomad_df_3D = gnomad_df.groupby([\"pdbChainId\"]).agg({ 'SequenceNumber': list, \\\n",
        "                    'highlighting': list, \\\n",
        "                    'Protein Consequence': list})\n",
        "\n",
        "gnomad_df_3D = gnomad_df_3D.reset_index()\n",
        "\n",
        "view_modifications(gnomad_df_3D, 1)"
      ]
    },
    {
      "cell_type": "markdown",
      "metadata": {
        "id": "4_Kdcg8KOn3u"
      },
      "source": [
        "❗️It is recommended to remove the tickbox *show_Labels*\n",
        "\n",
        "📌 ➙ You can see numerous mutations, of which most are rare (yellow, fewer than 1 in 1000 individuals), with only a few variants being more common than 1 in 1000 individuals (red). However, these are just the mutations with a structural representation and it shows maybe that we have only scratched the surface as to understand the impact of (rare) mutations on the effect on drug response variability.\n",
        "\n",
        "💥 Do you have a gene/protein you work with and would like to visualise protein-changing mutations onto a protein structure? Maybe try it out with the code above! In order to do so, you should check if your protein has any structural information. You can query your protein in the [RCSB Protein Data Bank](https://www.rcsb.org/) and note the 4-character long PDBid and chain you want to focus on (e.g: 2RH1.A). Then go and get all population variations for your protein from [The Genome Aggregation Database](https://gnomad.broadinstitute.org/), which aggregates exome and genome sequencing data from a wide variety of large-scale sequencing projects. You have to upload the .csv file from gnomAD into Google Colab and change the \"read_csv\" file path/name accordingly.\n",
        "\n",
        "💡 Some additional ideas and leads for you to explore that could be done on the mutated proteins:\n",
        "- [Assess changes in stability and flexibility upon single or multiple point missense mutations](http://biosig.unimelb.edu.au/dynamut2/)\n",
        "- [Variant effect prediction e.g. from Ensemble](https://www.ensembl.org/info/docs/tools/vep/index.html)\n",
        "- [Protocols for molecular docking and virtual screening](https://github.com/AngelRuizMoreno/Jupyter_Dock)\n",
        "- [Mapping genomic data onto 3D protein structures](https://github.com/sbl-sdsc/mmtf-genomics)\n",
        "- [Deep Learning Based Molecular Modeling and Prediction Toolkit on Drug-Target Interaction Prediction](https://github.com/kexinhuang12345/DeepPurpose)\n",
        "\n"
      ]
    },
    {
      "cell_type": "markdown",
      "metadata": {
        "id": "9P8qDhv9On3u"
      },
      "source": []
    }
  ],
  "metadata": {
    "colab": {
      "collapsed_sections": [],
      "name": "pharmacogenomics.ipynb",
      "provenance": []
    },
    "interpreter": {
      "hash": "53633e29de8c59f28b250db77c6c8f12c1f930de0c104fe2dc1aca0ca1ccb5ff"
    },
    "kernelspec": {
      "display_name": "Python 3.8.3 ('base')",
      "language": "python",
      "name": "python3"
    },
    "language_info": {
      "codemirror_mode": {
        "name": "ipython",
        "version": 3
      },
      "file_extension": ".py",
      "mimetype": "text/x-python",
      "name": "python",
      "nbconvert_exporter": "python",
      "pygments_lexer": "ipython3",
      "version": "3.8.12"
    },
    "orig_nbformat": 4,
    "widgets": {
      "application/vnd.jupyter.widget-state+json": {
        "0a65fe8b433b49eab90249cd7ba47ed5": {
          "model_module": "@jupyter-widgets/base",
          "model_module_version": "1.2.0",
          "model_name": "LayoutModel",
          "state": {
            "_model_module": "@jupyter-widgets/base",
            "_model_module_version": "1.2.0",
            "_model_name": "LayoutModel",
            "_view_count": null,
            "_view_module": "@jupyter-widgets/base",
            "_view_module_version": "1.2.0",
            "_view_name": "LayoutView",
            "align_content": null,
            "align_items": null,
            "align_self": null,
            "border": null,
            "bottom": null,
            "display": null,
            "flex": null,
            "flex_flow": null,
            "grid_area": null,
            "grid_auto_columns": null,
            "grid_auto_flow": null,
            "grid_auto_rows": null,
            "grid_column": null,
            "grid_gap": null,
            "grid_row": null,
            "grid_template_areas": null,
            "grid_template_columns": null,
            "grid_template_rows": null,
            "height": null,
            "justify_content": null,
            "justify_items": null,
            "left": null,
            "margin": null,
            "max_height": null,
            "max_width": null,
            "min_height": null,
            "min_width": null,
            "object_fit": null,
            "object_position": null,
            "order": null,
            "overflow": null,
            "overflow_x": null,
            "overflow_y": null,
            "padding": null,
            "right": null,
            "top": null,
            "visibility": null,
            "width": null
          }
        },
        "228ef6ad06fe407eb996e04807e3c4d2": {
          "model_module": "@jupyter-widgets/output",
          "model_module_version": "1.0.0",
          "model_name": "OutputModel",
          "state": {
            "_dom_classes": [],
            "_model_module": "@jupyter-widgets/output",
            "_model_module_version": "1.0.0",
            "_model_name": "OutputModel",
            "_view_count": null,
            "_view_module": "@jupyter-widgets/output",
            "_view_module_version": "1.0.0",
            "_view_name": "OutputView",
            "layout": "IPY_MODEL_6b21e3413e754893b227386132f79a9a",
            "msg_id": "",
            "outputs": [
              {
                "name": "stdout",
                "output_type": "stream",
                "text": [
                  "PDB Id: 2RH1 chain Id: A\n"
                ]
              },
              {
                "data": {
                  "application/3dmoljs_load.v0": "<div id=\"3dmolviewer_16473767595812519\"  style=\"position: relative; width: 640px; height: 480px\">\n        <p id=\"3dmolwarning_16473767595812519\" style=\"background-color:#ffcccc;color:black\">You appear to be running in JupyterLab (or JavaScript failed to load for some other reason).  You need to install the 3dmol extension: <br>\n        <tt>jupyter labextension install jupyterlab_3dmol</tt></p>\n        </div>\n<script>\n\nvar loadScriptAsync = function(uri){\n  return new Promise((resolve, reject) => {\n    var tag = document.createElement('script');\n    tag.src = uri;\n    tag.async = true;\n    tag.onload = () => {\n      resolve();\n    };\n  var firstScriptTag = document.getElementsByTagName('script')[0];\n  firstScriptTag.parentNode.insertBefore(tag, firstScriptTag);\n});\n};\n\nif(typeof $3Dmolpromise === 'undefined') {\n$3Dmolpromise = null;\n  $3Dmolpromise = loadScriptAsync('https://3dmol.org/build/3Dmol.js');\n}\n\nvar viewer_16473767595812519 = null;\nvar warn = document.getElementById(\"3dmolwarning_16473767595812519\");\nif(warn) {\n    warn.parentNode.removeChild(warn);\n}\n$3Dmolpromise.then(function() {\nviewer_16473767595812519 = $3Dmol.createViewer($(\"#3dmolviewer_16473767595812519\"),{backgroundColor:\"white\"});\n$3Dmol.download(\"pdb:2RH1\", viewer_16473767595812519, {\"doAssembly\": false}, function() {\nviewer_16473767595812519.zoomTo();\n\tviewer_16473767595812519.setStyle({\"cartoon\": {\"colorscheme\": \"chain\", \"width\": 0.6, \"opacity\": 0.9}});\n\tviewer_16473767595812519.setStyle({\"hetflag\": true},{\"stick\": {\"radius\": 0.3, \"singleBond\": false}});\n\tviewer_16473767595812519.addStyle({\"chain\": \"A\", \"resi\": [3, 4, 5, 7, 7, 7, 8, 8, 9, 10, 15, 15, 16, 19, 19, 22, 22, 25, 25, 25, 27, 27, 30, 34, 34, 35, 35, 36, 37, 39, 39, 40, 40, 41, 42, 43, 44, 48, 52, 54, 57, 59, 60, 62, 66, 69, 73, 74, 82, 83, 83, 84, 88, 89, 91, 92, 95, 97, 97, 98, 108, 110, 116, 123, 128, 128, 135, 136, 140, 140, 143, 151, 151, 156, 157, 164, 169, 169, 175, 176, 176, 178, 178, 179, 179, 182, 186, 186, 187, 190, 193, 201, 201, 213, 216, 218, 220, 220, 221, 224, 228, 232, 233, 235, 237, 243, 244, 247, 252, 253, 255, 256, 257, 259, 259, 260, 264, 265, 265, 267, 269, 274, 276, 281, 284, 290, 292, 292, 292, 297, 298, 300, 301, 304, 304, 307, 320, 324, 325, 328, 328, 328, 329, 329, 330, 333, 334, 335, 337, 340, 341, 343, 343, 346, 349, 357, 358, 358, 358, 364, 367, 367, 369, 370, 370, 373, 374, 375, 380, 381, 382, 383, 384, 384, 386, 388, 389, 390, 392, 394, 395, 397, 398, 400, 402, 406, 406, 407, 407, 410, 412], \"byres\": true, \"expand\": 1},{\"stick\": {\"colorscheme\": \"orangeCarbon\", \"radius\": 0.15}});\n\tviewer_16473767595812519.addStyle({\"resi\": 3, \"chain\": \"A\"},{\"stick\": {\"colorscheme\": \"yellowCarbon\", \"radius\": 0.2}});\n\tviewer_16473767595812519.addStyle({\"resi\": 3, \"chain\": \"A\"},{\"sphere\": {\"color\": \"yellow\", \"opacity\": 0.6}});\n\tviewer_16473767595812519.addStyle({\"resi\": 4, \"chain\": \"A\"},{\"stick\": {\"colorscheme\": \"yellowCarbon\", \"radius\": 0.2}});\n\tviewer_16473767595812519.addStyle({\"resi\": 4, \"chain\": \"A\"},{\"sphere\": {\"color\": \"yellow\", \"opacity\": 0.6}});\n\tviewer_16473767595812519.addStyle({\"resi\": 5, \"chain\": \"A\"},{\"stick\": {\"colorscheme\": \"yellowCarbon\", \"radius\": 0.2}});\n\tviewer_16473767595812519.addStyle({\"resi\": 5, \"chain\": \"A\"},{\"sphere\": {\"color\": \"yellow\", \"opacity\": 0.6}});\n\tviewer_16473767595812519.addStyle({\"resi\": 7, \"chain\": \"A\"},{\"stick\": {\"colorscheme\": \"yellowCarbon\", \"radius\": 0.2}});\n\tviewer_16473767595812519.addStyle({\"resi\": 7, \"chain\": \"A\"},{\"sphere\": {\"color\": \"yellow\", \"opacity\": 0.6}});\n\tviewer_16473767595812519.addStyle({\"resi\": 7, \"chain\": \"A\"},{\"stick\": {\"colorscheme\": \"yellowCarbon\", \"radius\": 0.2}});\n\tviewer_16473767595812519.addStyle({\"resi\": 7, \"chain\": \"A\"},{\"sphere\": {\"color\": \"yellow\", \"opacity\": 0.6}});\n\tviewer_16473767595812519.addStyle({\"resi\": 7, \"chain\": \"A\"},{\"stick\": {\"colorscheme\": \"yellowCarbon\", \"radius\": 0.2}});\n\tviewer_16473767595812519.addStyle({\"resi\": 7, \"chain\": \"A\"},{\"sphere\": {\"color\": \"yellow\", \"opacity\": 0.6}});\n\tviewer_16473767595812519.addStyle({\"resi\": 8, \"chain\": \"A\"},{\"stick\": {\"colorscheme\": \"yellowCarbon\", \"radius\": 0.2}});\n\tviewer_16473767595812519.addStyle({\"resi\": 8, \"chain\": \"A\"},{\"sphere\": {\"color\": \"yellow\", \"opacity\": 0.6}});\n\tviewer_16473767595812519.addStyle({\"resi\": 8, \"chain\": \"A\"},{\"stick\": {\"colorscheme\": \"yellowCarbon\", \"radius\": 0.2}});\n\tviewer_16473767595812519.addStyle({\"resi\": 8, \"chain\": \"A\"},{\"sphere\": {\"color\": \"yellow\", \"opacity\": 0.6}});\n\tviewer_16473767595812519.addStyle({\"resi\": 9, \"chain\": \"A\"},{\"stick\": {\"colorscheme\": \"yellowCarbon\", \"radius\": 0.2}});\n\tviewer_16473767595812519.addStyle({\"resi\": 9, \"chain\": \"A\"},{\"sphere\": {\"color\": \"yellow\", \"opacity\": 0.6}});\n\tviewer_16473767595812519.addStyle({\"resi\": 10, \"chain\": \"A\"},{\"stick\": {\"colorscheme\": \"yellowCarbon\", \"radius\": 0.2}});\n\tviewer_16473767595812519.addStyle({\"resi\": 10, \"chain\": \"A\"},{\"sphere\": {\"color\": \"yellow\", \"opacity\": 0.6}});\n\tviewer_16473767595812519.addStyle({\"resi\": 15, \"chain\": \"A\"},{\"stick\": {\"colorscheme\": \"yellowCarbon\", \"radius\": 0.2}});\n\tviewer_16473767595812519.addStyle({\"resi\": 15, \"chain\": \"A\"},{\"sphere\": {\"color\": \"yellow\", \"opacity\": 0.6}});\n\tviewer_16473767595812519.addStyle({\"resi\": 15, \"chain\": \"A\"},{\"stick\": {\"colorscheme\": \"yellowCarbon\", \"radius\": 0.2}});\n\tviewer_16473767595812519.addStyle({\"resi\": 15, \"chain\": \"A\"},{\"sphere\": {\"color\": \"yellow\", \"opacity\": 0.6}});\n\tviewer_16473767595812519.addStyle({\"resi\": 16, \"chain\": \"A\"},{\"stick\": {\"colorscheme\": \"darkredCarbon\", \"radius\": 0.2}});\n\tviewer_16473767595812519.addStyle({\"resi\": 16, \"chain\": \"A\"},{\"sphere\": {\"color\": \"darkred\", \"opacity\": 0.6}});\n\tviewer_16473767595812519.addStyle({\"resi\": 19, \"chain\": \"A\"},{\"stick\": {\"colorscheme\": \"yellowCarbon\", \"radius\": 0.2}});\n\tviewer_16473767595812519.addStyle({\"resi\": 19, \"chain\": \"A\"},{\"sphere\": {\"color\": \"yellow\", \"opacity\": 0.6}});\n\tviewer_16473767595812519.addStyle({\"resi\": 19, \"chain\": \"A\"},{\"stick\": {\"colorscheme\": \"yellowCarbon\", \"radius\": 0.2}});\n\tviewer_16473767595812519.addStyle({\"resi\": 19, \"chain\": \"A\"},{\"sphere\": {\"color\": \"yellow\", \"opacity\": 0.6}});\n\tviewer_16473767595812519.addStyle({\"resi\": 22, \"chain\": \"A\"},{\"stick\": {\"colorscheme\": \"yellowCarbon\", \"radius\": 0.2}});\n\tviewer_16473767595812519.addStyle({\"resi\": 22, \"chain\": \"A\"},{\"sphere\": {\"color\": \"yellow\", \"opacity\": 0.6}});\n\tviewer_16473767595812519.addStyle({\"resi\": 22, \"chain\": \"A\"},{\"stick\": {\"colorscheme\": \"yellowCarbon\", \"radius\": 0.2}});\n\tviewer_16473767595812519.addStyle({\"resi\": 22, \"chain\": \"A\"},{\"sphere\": {\"color\": \"yellow\", \"opacity\": 0.6}});\n\tviewer_16473767595812519.addStyle({\"resi\": 25, \"chain\": \"A\"},{\"stick\": {\"colorscheme\": \"yellowCarbon\", \"radius\": 0.2}});\n\tviewer_16473767595812519.addStyle({\"resi\": 25, \"chain\": \"A\"},{\"sphere\": {\"color\": \"yellow\", \"opacity\": 0.6}});\n\tviewer_16473767595812519.addStyle({\"resi\": 25, \"chain\": \"A\"},{\"stick\": {\"colorscheme\": \"yellowCarbon\", \"radius\": 0.2}});\n\tviewer_16473767595812519.addStyle({\"resi\": 25, \"chain\": \"A\"},{\"sphere\": {\"color\": \"yellow\", \"opacity\": 0.6}});\n\tviewer_16473767595812519.addStyle({\"resi\": 25, \"chain\": \"A\"},{\"stick\": {\"colorscheme\": \"yellowCarbon\", \"radius\": 0.2}});\n\tviewer_16473767595812519.addStyle({\"resi\": 25, \"chain\": \"A\"},{\"sphere\": {\"color\": \"yellow\", \"opacity\": 0.6}});\n\tviewer_16473767595812519.addStyle({\"resi\": 27, \"chain\": \"A\"},{\"stick\": {\"colorscheme\": \"darkredCarbon\", \"radius\": 0.2}});\n\tviewer_16473767595812519.addStyle({\"resi\": 27, \"chain\": \"A\"},{\"sphere\": {\"color\": \"darkred\", \"opacity\": 0.6}});\n\tviewer_16473767595812519.addStyle({\"resi\": 27, \"chain\": \"A\"},{\"stick\": {\"colorscheme\": \"yellowCarbon\", \"radius\": 0.2}});\n\tviewer_16473767595812519.addStyle({\"resi\": 27, \"chain\": \"A\"},{\"sphere\": {\"color\": \"yellow\", \"opacity\": 0.6}});\n\tviewer_16473767595812519.addStyle({\"resi\": 30, \"chain\": \"A\"},{\"stick\": {\"colorscheme\": \"yellowCarbon\", \"radius\": 0.2}});\n\tviewer_16473767595812519.addStyle({\"resi\": 30, \"chain\": \"A\"},{\"sphere\": {\"color\": \"yellow\", \"opacity\": 0.6}});\n\tviewer_16473767595812519.addStyle({\"resi\": 34, \"chain\": \"A\"},{\"stick\": {\"colorscheme\": \"yellowCarbon\", \"radius\": 0.2}});\n\tviewer_16473767595812519.addStyle({\"resi\": 34, \"chain\": \"A\"},{\"sphere\": {\"color\": \"yellow\", \"opacity\": 0.6}});\n\tviewer_16473767595812519.addStyle({\"resi\": 34, \"chain\": \"A\"},{\"stick\": {\"colorscheme\": \"yellowCarbon\", \"radius\": 0.2}});\n\tviewer_16473767595812519.addStyle({\"resi\": 34, \"chain\": \"A\"},{\"sphere\": {\"color\": \"yellow\", \"opacity\": 0.6}});\n\tviewer_16473767595812519.addStyle({\"resi\": 35, \"chain\": \"A\"},{\"stick\": {\"colorscheme\": \"yellowCarbon\", \"radius\": 0.2}});\n\tviewer_16473767595812519.addStyle({\"resi\": 35, \"chain\": \"A\"},{\"sphere\": {\"color\": \"yellow\", \"opacity\": 0.6}});\n\tviewer_16473767595812519.addStyle({\"resi\": 35, \"chain\": \"A\"},{\"stick\": {\"colorscheme\": \"yellowCarbon\", \"radius\": 0.2}});\n\tviewer_16473767595812519.addStyle({\"resi\": 35, \"chain\": \"A\"},{\"sphere\": {\"color\": \"yellow\", \"opacity\": 0.6}});\n\tviewer_16473767595812519.addStyle({\"resi\": 36, \"chain\": \"A\"},{\"stick\": {\"colorscheme\": \"yellowCarbon\", \"radius\": 0.2}});\n\tviewer_16473767595812519.addStyle({\"resi\": 36, \"chain\": \"A\"},{\"sphere\": {\"color\": \"yellow\", \"opacity\": 0.6}});\n\tviewer_16473767595812519.addStyle({\"resi\": 37, \"chain\": \"A\"},{\"stick\": {\"colorscheme\": \"yellowCarbon\", \"radius\": 0.2}});\n\tviewer_16473767595812519.addStyle({\"resi\": 37, \"chain\": \"A\"},{\"sphere\": {\"color\": \"yellow\", \"opacity\": 0.6}});\n\tviewer_16473767595812519.addStyle({\"resi\": 39, \"chain\": \"A\"},{\"stick\": {\"colorscheme\": \"yellowCarbon\", \"radius\": 0.2}});\n\tviewer_16473767595812519.addStyle({\"resi\": 39, \"chain\": \"A\"},{\"sphere\": {\"color\": \"yellow\", \"opacity\": 0.6}});\n\tviewer_16473767595812519.addStyle({\"resi\": 39, \"chain\": \"A\"},{\"stick\": {\"colorscheme\": \"yellowCarbon\", \"radius\": 0.2}});\n\tviewer_16473767595812519.addStyle({\"resi\": 39, \"chain\": \"A\"},{\"sphere\": {\"color\": \"yellow\", \"opacity\": 0.6}});\n\tviewer_16473767595812519.addStyle({\"resi\": 40, \"chain\": \"A\"},{\"stick\": {\"colorscheme\": \"yellowCarbon\", \"radius\": 0.2}});\n\tviewer_16473767595812519.addStyle({\"resi\": 40, \"chain\": \"A\"},{\"sphere\": {\"color\": \"yellow\", \"opacity\": 0.6}});\n\tviewer_16473767595812519.addStyle({\"resi\": 40, \"chain\": \"A\"},{\"stick\": {\"colorscheme\": \"yellowCarbon\", \"radius\": 0.2}});\n\tviewer_16473767595812519.addStyle({\"resi\": 40, \"chain\": \"A\"},{\"sphere\": {\"color\": \"yellow\", \"opacity\": 0.6}});\n\tviewer_16473767595812519.addStyle({\"resi\": 41, \"chain\": \"A\"},{\"stick\": {\"colorscheme\": \"yellowCarbon\", \"radius\": 0.2}});\n\tviewer_16473767595812519.addStyle({\"resi\": 41, \"chain\": \"A\"},{\"sphere\": {\"color\": \"yellow\", \"opacity\": 0.6}});\n\tviewer_16473767595812519.addStyle({\"resi\": 42, \"chain\": \"A\"},{\"stick\": {\"colorscheme\": \"yellowCarbon\", \"radius\": 0.2}});\n\tviewer_16473767595812519.addStyle({\"resi\": 42, \"chain\": \"A\"},{\"sphere\": {\"color\": \"yellow\", \"opacity\": 0.6}});\n\tviewer_16473767595812519.addStyle({\"resi\": 43, \"chain\": \"A\"},{\"stick\": {\"colorscheme\": \"yellowCarbon\", \"radius\": 0.2}});\n\tviewer_16473767595812519.addStyle({\"resi\": 43, \"chain\": \"A\"},{\"sphere\": {\"color\": \"yellow\", \"opacity\": 0.6}});\n\tviewer_16473767595812519.addStyle({\"resi\": 44, \"chain\": \"A\"},{\"stick\": {\"colorscheme\": \"yellowCarbon\", \"radius\": 0.2}});\n\tviewer_16473767595812519.addStyle({\"resi\": 44, \"chain\": \"A\"},{\"sphere\": {\"color\": \"yellow\", \"opacity\": 0.6}});\n\tviewer_16473767595812519.addStyle({\"resi\": 48, \"chain\": \"A\"},{\"stick\": {\"colorscheme\": \"yellowCarbon\", \"radius\": 0.2}});\n\tviewer_16473767595812519.addStyle({\"resi\": 48, \"chain\": \"A\"},{\"sphere\": {\"color\": \"yellow\", \"opacity\": 0.6}});\n\tviewer_16473767595812519.addStyle({\"resi\": 52, \"chain\": \"A\"},{\"stick\": {\"colorscheme\": \"yellowCarbon\", \"radius\": 0.2}});\n\tviewer_16473767595812519.addStyle({\"resi\": 52, \"chain\": \"A\"},{\"sphere\": {\"color\": \"yellow\", \"opacity\": 0.6}});\n\tviewer_16473767595812519.addStyle({\"resi\": 54, \"chain\": \"A\"},{\"stick\": {\"colorscheme\": \"yellowCarbon\", \"radius\": 0.2}});\n\tviewer_16473767595812519.addStyle({\"resi\": 54, \"chain\": \"A\"},{\"sphere\": {\"color\": \"yellow\", \"opacity\": 0.6}});\n\tviewer_16473767595812519.addStyle({\"resi\": 57, \"chain\": \"A\"},{\"stick\": {\"colorscheme\": \"yellowCarbon\", \"radius\": 0.2}});\n\tviewer_16473767595812519.addStyle({\"resi\": 57, \"chain\": \"A\"},{\"sphere\": {\"color\": \"yellow\", \"opacity\": 0.6}});\n\tviewer_16473767595812519.addStyle({\"resi\": 59, \"chain\": \"A\"},{\"stick\": {\"colorscheme\": \"yellowCarbon\", \"radius\": 0.2}});\n\tviewer_16473767595812519.addStyle({\"resi\": 59, \"chain\": \"A\"},{\"sphere\": {\"color\": \"yellow\", \"opacity\": 0.6}});\n\tviewer_16473767595812519.addStyle({\"resi\": 60, \"chain\": \"A\"},{\"stick\": {\"colorscheme\": \"yellowCarbon\", \"radius\": 0.2}});\n\tviewer_16473767595812519.addStyle({\"resi\": 60, \"chain\": \"A\"},{\"sphere\": {\"color\": \"yellow\", \"opacity\": 0.6}});\n\tviewer_16473767595812519.addStyle({\"resi\": 62, \"chain\": \"A\"},{\"stick\": {\"colorscheme\": \"yellowCarbon\", \"radius\": 0.2}});\n\tviewer_16473767595812519.addStyle({\"resi\": 62, \"chain\": \"A\"},{\"sphere\": {\"color\": \"yellow\", \"opacity\": 0.6}});\n\tviewer_16473767595812519.addStyle({\"resi\": 66, \"chain\": \"A\"},{\"stick\": {\"colorscheme\": \"yellowCarbon\", \"radius\": 0.2}});\n\tviewer_16473767595812519.addStyle({\"resi\": 66, \"chain\": \"A\"},{\"sphere\": {\"color\": \"yellow\", \"opacity\": 0.6}});\n\tviewer_16473767595812519.addStyle({\"resi\": 69, \"chain\": \"A\"},{\"stick\": {\"colorscheme\": \"darkredCarbon\", \"radius\": 0.2}});\n\tviewer_16473767595812519.addStyle({\"resi\": 69, \"chain\": \"A\"},{\"sphere\": {\"color\": \"darkred\", \"opacity\": 0.6}});\n\tviewer_16473767595812519.addStyle({\"resi\": 73, \"chain\": \"A\"},{\"stick\": {\"colorscheme\": \"yellowCarbon\", \"radius\": 0.2}});\n\tviewer_16473767595812519.addStyle({\"resi\": 73, \"chain\": \"A\"},{\"sphere\": {\"color\": \"yellow\", \"opacity\": 0.6}});\n\tviewer_16473767595812519.addStyle({\"resi\": 74, \"chain\": \"A\"},{\"stick\": {\"colorscheme\": \"yellowCarbon\", \"radius\": 0.2}});\n\tviewer_16473767595812519.addStyle({\"resi\": 74, \"chain\": \"A\"},{\"sphere\": {\"color\": \"yellow\", \"opacity\": 0.6}});\n\tviewer_16473767595812519.addStyle({\"resi\": 82, \"chain\": \"A\"},{\"stick\": {\"colorscheme\": \"yellowCarbon\", \"radius\": 0.2}});\n\tviewer_16473767595812519.addStyle({\"resi\": 82, \"chain\": \"A\"},{\"sphere\": {\"color\": \"yellow\", \"opacity\": 0.6}});\n\tviewer_16473767595812519.addStyle({\"resi\": 83, \"chain\": \"A\"},{\"stick\": {\"colorscheme\": \"yellowCarbon\", \"radius\": 0.2}});\n\tviewer_16473767595812519.addStyle({\"resi\": 83, \"chain\": \"A\"},{\"sphere\": {\"color\": \"yellow\", \"opacity\": 0.6}});\n\tviewer_16473767595812519.addStyle({\"resi\": 83, \"chain\": \"A\"},{\"stick\": {\"colorscheme\": \"yellowCarbon\", \"radius\": 0.2}});\n\tviewer_16473767595812519.addStyle({\"resi\": 83, \"chain\": \"A\"},{\"sphere\": {\"color\": \"yellow\", \"opacity\": 0.6}});\n\tviewer_16473767595812519.addStyle({\"resi\": 84, \"chain\": \"A\"},{\"stick\": {\"colorscheme\": \"yellowCarbon\", \"radius\": 0.2}});\n\tviewer_16473767595812519.addStyle({\"resi\": 84, \"chain\": \"A\"},{\"sphere\": {\"color\": \"yellow\", \"opacity\": 0.6}});\n\tviewer_16473767595812519.addStyle({\"resi\": 88, \"chain\": \"A\"},{\"stick\": {\"colorscheme\": \"yellowCarbon\", \"radius\": 0.2}});\n\tviewer_16473767595812519.addStyle({\"resi\": 88, \"chain\": \"A\"},{\"sphere\": {\"color\": \"yellow\", \"opacity\": 0.6}});\n\tviewer_16473767595812519.addStyle({\"resi\": 89, \"chain\": \"A\"},{\"stick\": {\"colorscheme\": \"yellowCarbon\", \"radius\": 0.2}});\n\tviewer_16473767595812519.addStyle({\"resi\": 89, \"chain\": \"A\"},{\"sphere\": {\"color\": \"yellow\", \"opacity\": 0.6}});\n\tviewer_16473767595812519.addStyle({\"resi\": 91, \"chain\": \"A\"},{\"stick\": {\"colorscheme\": \"yellowCarbon\", \"radius\": 0.2}});\n\tviewer_16473767595812519.addStyle({\"resi\": 91, \"chain\": \"A\"},{\"sphere\": {\"color\": \"yellow\", \"opacity\": 0.6}});\n\tviewer_16473767595812519.addStyle({\"resi\": 92, \"chain\": \"A\"},{\"stick\": {\"colorscheme\": \"yellowCarbon\", \"radius\": 0.2}});\n\tviewer_16473767595812519.addStyle({\"resi\": 92, \"chain\": \"A\"},{\"sphere\": {\"color\": \"yellow\", \"opacity\": 0.6}});\n\tviewer_16473767595812519.addStyle({\"resi\": 95, \"chain\": \"A\"},{\"stick\": {\"colorscheme\": \"yellowCarbon\", \"radius\": 0.2}});\n\tviewer_16473767595812519.addStyle({\"resi\": 95, \"chain\": \"A\"},{\"sphere\": {\"color\": \"yellow\", \"opacity\": 0.6}});\n\tviewer_16473767595812519.addStyle({\"resi\": 97, \"chain\": \"A\"},{\"stick\": {\"colorscheme\": \"yellowCarbon\", \"radius\": 0.2}});\n\tviewer_16473767595812519.addStyle({\"resi\": 97, \"chain\": \"A\"},{\"sphere\": {\"color\": \"yellow\", \"opacity\": 0.6}});\n\tviewer_16473767595812519.addStyle({\"resi\": 97, \"chain\": \"A\"},{\"stick\": {\"colorscheme\": \"yellowCarbon\", \"radius\": 0.2}});\n\tviewer_16473767595812519.addStyle({\"resi\": 97, \"chain\": \"A\"},{\"sphere\": {\"color\": \"yellow\", \"opacity\": 0.6}});\n\tviewer_16473767595812519.addStyle({\"resi\": 98, \"chain\": \"A\"},{\"stick\": {\"colorscheme\": \"yellowCarbon\", \"radius\": 0.2}});\n\tviewer_16473767595812519.addStyle({\"resi\": 98, \"chain\": \"A\"},{\"sphere\": {\"color\": \"yellow\", \"opacity\": 0.6}});\n\tviewer_16473767595812519.addStyle({\"resi\": 108, \"chain\": \"A\"},{\"stick\": {\"colorscheme\": \"yellowCarbon\", \"radius\": 0.2}});\n\tviewer_16473767595812519.addStyle({\"resi\": 108, \"chain\": \"A\"},{\"sphere\": {\"color\": \"yellow\", \"opacity\": 0.6}});\n\tviewer_16473767595812519.addStyle({\"resi\": 110, \"chain\": \"A\"},{\"stick\": {\"colorscheme\": \"yellowCarbon\", \"radius\": 0.2}});\n\tviewer_16473767595812519.addStyle({\"resi\": 110, \"chain\": \"A\"},{\"sphere\": {\"color\": \"yellow\", \"opacity\": 0.6}});\n\tviewer_16473767595812519.addStyle({\"resi\": 116, \"chain\": \"A\"},{\"stick\": {\"colorscheme\": \"yellowCarbon\", \"radius\": 0.2}});\n\tviewer_16473767595812519.addStyle({\"resi\": 116, \"chain\": \"A\"},{\"sphere\": {\"color\": \"yellow\", \"opacity\": 0.6}});\n\tviewer_16473767595812519.addStyle({\"resi\": 123, \"chain\": \"A\"},{\"stick\": {\"colorscheme\": \"yellowCarbon\", \"radius\": 0.2}});\n\tviewer_16473767595812519.addStyle({\"resi\": 123, \"chain\": \"A\"},{\"sphere\": {\"color\": \"yellow\", \"opacity\": 0.6}});\n\tviewer_16473767595812519.addStyle({\"resi\": 128, \"chain\": \"A\"},{\"stick\": {\"colorscheme\": \"yellowCarbon\", \"radius\": 0.2}});\n\tviewer_16473767595812519.addStyle({\"resi\": 128, \"chain\": \"A\"},{\"sphere\": {\"color\": \"yellow\", \"opacity\": 0.6}});\n\tviewer_16473767595812519.addStyle({\"resi\": 128, \"chain\": \"A\"},{\"stick\": {\"colorscheme\": \"yellowCarbon\", \"radius\": 0.2}});\n\tviewer_16473767595812519.addStyle({\"resi\": 128, \"chain\": \"A\"},{\"sphere\": {\"color\": \"yellow\", \"opacity\": 0.6}});\n\tviewer_16473767595812519.addStyle({\"resi\": 135, \"chain\": \"A\"},{\"stick\": {\"colorscheme\": \"yellowCarbon\", \"radius\": 0.2}});\n\tviewer_16473767595812519.addStyle({\"resi\": 135, \"chain\": \"A\"},{\"sphere\": {\"color\": \"yellow\", \"opacity\": 0.6}});\n\tviewer_16473767595812519.addStyle({\"resi\": 136, \"chain\": \"A\"},{\"stick\": {\"colorscheme\": \"yellowCarbon\", \"radius\": 0.2}});\n\tviewer_16473767595812519.addStyle({\"resi\": 136, \"chain\": \"A\"},{\"sphere\": {\"color\": \"yellow\", \"opacity\": 0.6}});\n\tviewer_16473767595812519.addStyle({\"resi\": 140, \"chain\": \"A\"},{\"stick\": {\"colorscheme\": \"yellowCarbon\", \"radius\": 0.2}});\n\tviewer_16473767595812519.addStyle({\"resi\": 140, \"chain\": \"A\"},{\"sphere\": {\"color\": \"yellow\", \"opacity\": 0.6}});\n\tviewer_16473767595812519.addStyle({\"resi\": 140, \"chain\": \"A\"},{\"stick\": {\"colorscheme\": \"yellowCarbon\", \"radius\": 0.2}});\n\tviewer_16473767595812519.addStyle({\"resi\": 140, \"chain\": \"A\"},{\"sphere\": {\"color\": \"yellow\", \"opacity\": 0.6}});\n\tviewer_16473767595812519.addStyle({\"resi\": 143, \"chain\": \"A\"},{\"stick\": {\"colorscheme\": \"yellowCarbon\", \"radius\": 0.2}});\n\tviewer_16473767595812519.addStyle({\"resi\": 143, \"chain\": \"A\"},{\"sphere\": {\"color\": \"yellow\", \"opacity\": 0.6}});\n\tviewer_16473767595812519.addStyle({\"resi\": 151, \"chain\": \"A\"},{\"stick\": {\"colorscheme\": \"yellowCarbon\", \"radius\": 0.2}});\n\tviewer_16473767595812519.addStyle({\"resi\": 151, \"chain\": \"A\"},{\"sphere\": {\"color\": \"yellow\", \"opacity\": 0.6}});\n\tviewer_16473767595812519.addStyle({\"resi\": 151, \"chain\": \"A\"},{\"stick\": {\"colorscheme\": \"yellowCarbon\", \"radius\": 0.2}});\n\tviewer_16473767595812519.addStyle({\"resi\": 151, \"chain\": \"A\"},{\"sphere\": {\"color\": \"yellow\", \"opacity\": 0.6}});\n\tviewer_16473767595812519.addStyle({\"resi\": 156, \"chain\": \"A\"},{\"stick\": {\"colorscheme\": \"yellowCarbon\", \"radius\": 0.2}});\n\tviewer_16473767595812519.addStyle({\"resi\": 156, \"chain\": \"A\"},{\"sphere\": {\"color\": \"yellow\", \"opacity\": 0.6}});\n\tviewer_16473767595812519.addStyle({\"resi\": 157, \"chain\": \"A\"},{\"stick\": {\"colorscheme\": \"yellowCarbon\", \"radius\": 0.2}});\n\tviewer_16473767595812519.addStyle({\"resi\": 157, \"chain\": \"A\"},{\"sphere\": {\"color\": \"yellow\", \"opacity\": 0.6}});\n\tviewer_16473767595812519.addStyle({\"resi\": 164, \"chain\": \"A\"},{\"stick\": {\"colorscheme\": \"darkredCarbon\", \"radius\": 0.2}});\n\tviewer_16473767595812519.addStyle({\"resi\": 164, \"chain\": \"A\"},{\"sphere\": {\"color\": \"darkred\", \"opacity\": 0.6}});\n\tviewer_16473767595812519.addStyle({\"resi\": 169, \"chain\": \"A\"},{\"stick\": {\"colorscheme\": \"yellowCarbon\", \"radius\": 0.2}});\n\tviewer_16473767595812519.addStyle({\"resi\": 169, \"chain\": \"A\"},{\"sphere\": {\"color\": \"yellow\", \"opacity\": 0.6}});\n\tviewer_16473767595812519.addStyle({\"resi\": 169, \"chain\": \"A\"},{\"stick\": {\"colorscheme\": \"yellowCarbon\", \"radius\": 0.2}});\n\tviewer_16473767595812519.addStyle({\"resi\": 169, \"chain\": \"A\"},{\"sphere\": {\"color\": \"yellow\", \"opacity\": 0.6}});\n\tviewer_16473767595812519.addStyle({\"resi\": 175, \"chain\": \"A\"},{\"stick\": {\"colorscheme\": \"yellowCarbon\", \"radius\": 0.2}});\n\tviewer_16473767595812519.addStyle({\"resi\": 175, \"chain\": \"A\"},{\"sphere\": {\"color\": \"yellow\", \"opacity\": 0.6}});\n\tviewer_16473767595812519.addStyle({\"resi\": 176, \"chain\": \"A\"},{\"stick\": {\"colorscheme\": \"yellowCarbon\", \"radius\": 0.2}});\n\tviewer_16473767595812519.addStyle({\"resi\": 176, \"chain\": \"A\"},{\"sphere\": {\"color\": \"yellow\", \"opacity\": 0.6}});\n\tviewer_16473767595812519.addStyle({\"resi\": 176, \"chain\": \"A\"},{\"stick\": {\"colorscheme\": \"yellowCarbon\", \"radius\": 0.2}});\n\tviewer_16473767595812519.addStyle({\"resi\": 176, \"chain\": \"A\"},{\"sphere\": {\"color\": \"yellow\", \"opacity\": 0.6}});\n\tviewer_16473767595812519.addStyle({\"resi\": 178, \"chain\": \"A\"},{\"stick\": {\"colorscheme\": \"yellowCarbon\", \"radius\": 0.2}});\n\tviewer_16473767595812519.addStyle({\"resi\": 178, \"chain\": \"A\"},{\"sphere\": {\"color\": \"yellow\", \"opacity\": 0.6}});\n\tviewer_16473767595812519.addStyle({\"resi\": 178, \"chain\": \"A\"},{\"stick\": {\"colorscheme\": \"yellowCarbon\", \"radius\": 0.2}});\n\tviewer_16473767595812519.addStyle({\"resi\": 178, \"chain\": \"A\"},{\"sphere\": {\"color\": \"yellow\", \"opacity\": 0.6}});\n\tviewer_16473767595812519.addStyle({\"resi\": 179, \"chain\": \"A\"},{\"stick\": {\"colorscheme\": \"yellowCarbon\", \"radius\": 0.2}});\n\tviewer_16473767595812519.addStyle({\"resi\": 179, \"chain\": \"A\"},{\"sphere\": {\"color\": \"yellow\", \"opacity\": 0.6}});\n\tviewer_16473767595812519.addStyle({\"resi\": 179, \"chain\": \"A\"},{\"stick\": {\"colorscheme\": \"yellowCarbon\", \"radius\": 0.2}});\n\tviewer_16473767595812519.addStyle({\"resi\": 179, \"chain\": \"A\"},{\"sphere\": {\"color\": \"yellow\", \"opacity\": 0.6}});\n\tviewer_16473767595812519.addStyle({\"resi\": 182, \"chain\": \"A\"},{\"stick\": {\"colorscheme\": \"yellowCarbon\", \"radius\": 0.2}});\n\tviewer_16473767595812519.addStyle({\"resi\": 182, \"chain\": \"A\"},{\"sphere\": {\"color\": \"yellow\", \"opacity\": 0.6}});\n\tviewer_16473767595812519.addStyle({\"resi\": 186, \"chain\": \"A\"},{\"stick\": {\"colorscheme\": \"yellowCarbon\", \"radius\": 0.2}});\n\tviewer_16473767595812519.addStyle({\"resi\": 186, \"chain\": \"A\"},{\"sphere\": {\"color\": \"yellow\", \"opacity\": 0.6}});\n\tviewer_16473767595812519.addStyle({\"resi\": 186, \"chain\": \"A\"},{\"stick\": {\"colorscheme\": \"yellowCarbon\", \"radius\": 0.2}});\n\tviewer_16473767595812519.addStyle({\"resi\": 186, \"chain\": \"A\"},{\"sphere\": {\"color\": \"yellow\", \"opacity\": 0.6}});\n\tviewer_16473767595812519.addStyle({\"resi\": 187, \"chain\": \"A\"},{\"stick\": {\"colorscheme\": \"yellowCarbon\", \"radius\": 0.2}});\n\tviewer_16473767595812519.addStyle({\"resi\": 187, \"chain\": \"A\"},{\"sphere\": {\"color\": \"yellow\", \"opacity\": 0.6}});\n\tviewer_16473767595812519.addStyle({\"resi\": 190, \"chain\": \"A\"},{\"stick\": {\"colorscheme\": \"yellowCarbon\", \"radius\": 0.2}});\n\tviewer_16473767595812519.addStyle({\"resi\": 190, \"chain\": \"A\"},{\"sphere\": {\"color\": \"yellow\", \"opacity\": 0.6}});\n\tviewer_16473767595812519.addStyle({\"resi\": 193, \"chain\": \"A\"},{\"stick\": {\"colorscheme\": \"yellowCarbon\", \"radius\": 0.2}});\n\tviewer_16473767595812519.addStyle({\"resi\": 193, \"chain\": \"A\"},{\"sphere\": {\"color\": \"yellow\", \"opacity\": 0.6}});\n\tviewer_16473767595812519.addStyle({\"resi\": 201, \"chain\": \"A\"},{\"stick\": {\"colorscheme\": \"yellowCarbon\", \"radius\": 0.2}});\n\tviewer_16473767595812519.addStyle({\"resi\": 201, \"chain\": \"A\"},{\"sphere\": {\"color\": \"yellow\", \"opacity\": 0.6}});\n\tviewer_16473767595812519.addStyle({\"resi\": 201, \"chain\": \"A\"},{\"stick\": {\"colorscheme\": \"yellowCarbon\", \"radius\": 0.2}});\n\tviewer_16473767595812519.addStyle({\"resi\": 201, \"chain\": \"A\"},{\"sphere\": {\"color\": \"yellow\", \"opacity\": 0.6}});\n\tviewer_16473767595812519.addStyle({\"resi\": 213, \"chain\": \"A\"},{\"stick\": {\"colorscheme\": \"yellowCarbon\", \"radius\": 0.2}});\n\tviewer_16473767595812519.addStyle({\"resi\": 213, \"chain\": \"A\"},{\"sphere\": {\"color\": \"yellow\", \"opacity\": 0.6}});\n\tviewer_16473767595812519.addStyle({\"resi\": 216, \"chain\": \"A\"},{\"stick\": {\"colorscheme\": \"yellowCarbon\", \"radius\": 0.2}});\n\tviewer_16473767595812519.addStyle({\"resi\": 216, \"chain\": \"A\"},{\"sphere\": {\"color\": \"yellow\", \"opacity\": 0.6}});\n\tviewer_16473767595812519.addStyle({\"resi\": 218, \"chain\": \"A\"},{\"stick\": {\"colorscheme\": \"yellowCarbon\", \"radius\": 0.2}});\n\tviewer_16473767595812519.addStyle({\"resi\": 218, \"chain\": \"A\"},{\"sphere\": {\"color\": \"yellow\", \"opacity\": 0.6}});\n\tviewer_16473767595812519.addStyle({\"resi\": 220, \"chain\": \"A\"},{\"stick\": {\"colorscheme\": \"darkredCarbon\", \"radius\": 0.2}});\n\tviewer_16473767595812519.addStyle({\"resi\": 220, \"chain\": \"A\"},{\"sphere\": {\"color\": \"darkred\", \"opacity\": 0.6}});\n\tviewer_16473767595812519.addStyle({\"resi\": 220, \"chain\": \"A\"},{\"stick\": {\"colorscheme\": \"yellowCarbon\", \"radius\": 0.2}});\n\tviewer_16473767595812519.addStyle({\"resi\": 220, \"chain\": \"A\"},{\"sphere\": {\"color\": \"yellow\", \"opacity\": 0.6}});\n\tviewer_16473767595812519.addStyle({\"resi\": 221, \"chain\": \"A\"},{\"stick\": {\"colorscheme\": \"yellowCarbon\", \"radius\": 0.2}});\n\tviewer_16473767595812519.addStyle({\"resi\": 221, \"chain\": \"A\"},{\"sphere\": {\"color\": \"yellow\", \"opacity\": 0.6}});\n\tviewer_16473767595812519.addStyle({\"resi\": 224, \"chain\": \"A\"},{\"stick\": {\"colorscheme\": \"yellowCarbon\", \"radius\": 0.2}});\n\tviewer_16473767595812519.addStyle({\"resi\": 224, \"chain\": \"A\"},{\"sphere\": {\"color\": \"yellow\", \"opacity\": 0.6}});\n\tviewer_16473767595812519.addStyle({\"resi\": 228, \"chain\": \"A\"},{\"stick\": {\"colorscheme\": \"yellowCarbon\", \"radius\": 0.2}});\n\tviewer_16473767595812519.addStyle({\"resi\": 228, \"chain\": \"A\"},{\"sphere\": {\"color\": \"yellow\", \"opacity\": 0.6}});\n\tviewer_16473767595812519.addStyle({\"resi\": 232, \"chain\": \"A\"},{\"stick\": {\"colorscheme\": \"yellowCarbon\", \"radius\": 0.2}});\n\tviewer_16473767595812519.addStyle({\"resi\": 232, \"chain\": \"A\"},{\"sphere\": {\"color\": \"yellow\", \"opacity\": 0.6}});\n\tviewer_16473767595812519.addStyle({\"resi\": 233, \"chain\": \"A\"},{\"stick\": {\"colorscheme\": \"yellowCarbon\", \"radius\": 0.2}});\n\tviewer_16473767595812519.addStyle({\"resi\": 233, \"chain\": \"A\"},{\"sphere\": {\"color\": \"yellow\", \"opacity\": 0.6}});\n\tviewer_16473767595812519.addStyle({\"resi\": 235, \"chain\": \"A\"},{\"stick\": {\"colorscheme\": \"yellowCarbon\", \"radius\": 0.2}});\n\tviewer_16473767595812519.addStyle({\"resi\": 235, \"chain\": \"A\"},{\"sphere\": {\"color\": \"yellow\", \"opacity\": 0.6}});\n\tviewer_16473767595812519.addStyle({\"resi\": 237, \"chain\": \"A\"},{\"stick\": {\"colorscheme\": \"yellowCarbon\", \"radius\": 0.2}});\n\tviewer_16473767595812519.addStyle({\"resi\": 237, \"chain\": \"A\"},{\"sphere\": {\"color\": \"yellow\", \"opacity\": 0.6}});\n\tviewer_16473767595812519.addStyle({\"resi\": 243, \"chain\": \"A\"},{\"stick\": {\"colorscheme\": \"yellowCarbon\", \"radius\": 0.2}});\n\tviewer_16473767595812519.addStyle({\"resi\": 243, \"chain\": \"A\"},{\"sphere\": {\"color\": \"yellow\", \"opacity\": 0.6}});\n\tviewer_16473767595812519.addStyle({\"resi\": 244, \"chain\": \"A\"},{\"stick\": {\"colorscheme\": \"yellowCarbon\", \"radius\": 0.2}});\n\tviewer_16473767595812519.addStyle({\"resi\": 244, \"chain\": \"A\"},{\"sphere\": {\"color\": \"yellow\", \"opacity\": 0.6}});\n\tviewer_16473767595812519.addStyle({\"resi\": 247, \"chain\": \"A\"},{\"stick\": {\"colorscheme\": \"yellowCarbon\", \"radius\": 0.2}});\n\tviewer_16473767595812519.addStyle({\"resi\": 247, \"chain\": \"A\"},{\"sphere\": {\"color\": \"yellow\", \"opacity\": 0.6}});\n\tviewer_16473767595812519.addStyle({\"resi\": 252, \"chain\": \"A\"},{\"stick\": {\"colorscheme\": \"yellowCarbon\", \"radius\": 0.2}});\n\tviewer_16473767595812519.addStyle({\"resi\": 252, \"chain\": \"A\"},{\"sphere\": {\"color\": \"yellow\", \"opacity\": 0.6}});\n\tviewer_16473767595812519.addStyle({\"resi\": 253, \"chain\": \"A\"},{\"stick\": {\"colorscheme\": \"yellowCarbon\", \"radius\": 0.2}});\n\tviewer_16473767595812519.addStyle({\"resi\": 253, \"chain\": \"A\"},{\"sphere\": {\"color\": \"yellow\", \"opacity\": 0.6}});\n\tviewer_16473767595812519.addStyle({\"resi\": 255, \"chain\": \"A\"},{\"stick\": {\"colorscheme\": \"yellowCarbon\", \"radius\": 0.2}});\n\tviewer_16473767595812519.addStyle({\"resi\": 255, \"chain\": \"A\"},{\"sphere\": {\"color\": \"yellow\", \"opacity\": 0.6}});\n\tviewer_16473767595812519.addStyle({\"resi\": 256, \"chain\": \"A\"},{\"stick\": {\"colorscheme\": \"yellowCarbon\", \"radius\": 0.2}});\n\tviewer_16473767595812519.addStyle({\"resi\": 256, \"chain\": \"A\"},{\"sphere\": {\"color\": \"yellow\", \"opacity\": 0.6}});\n\tviewer_16473767595812519.addStyle({\"resi\": 257, \"chain\": \"A\"},{\"stick\": {\"colorscheme\": \"yellowCarbon\", \"radius\": 0.2}});\n\tviewer_16473767595812519.addStyle({\"resi\": 257, \"chain\": \"A\"},{\"sphere\": {\"color\": \"yellow\", \"opacity\": 0.6}});\n\tviewer_16473767595812519.addStyle({\"resi\": 259, \"chain\": \"A\"},{\"stick\": {\"colorscheme\": \"yellowCarbon\", \"radius\": 0.2}});\n\tviewer_16473767595812519.addStyle({\"resi\": 259, \"chain\": \"A\"},{\"sphere\": {\"color\": \"yellow\", \"opacity\": 0.6}});\n\tviewer_16473767595812519.addStyle({\"resi\": 259, \"chain\": \"A\"},{\"stick\": {\"colorscheme\": \"yellowCarbon\", \"radius\": 0.2}});\n\tviewer_16473767595812519.addStyle({\"resi\": 259, \"chain\": \"A\"},{\"sphere\": {\"color\": \"yellow\", \"opacity\": 0.6}});\n\tviewer_16473767595812519.addStyle({\"resi\": 260, \"chain\": \"A\"},{\"stick\": {\"colorscheme\": \"yellowCarbon\", \"radius\": 0.2}});\n\tviewer_16473767595812519.addStyle({\"resi\": 260, \"chain\": \"A\"},{\"sphere\": {\"color\": \"yellow\", \"opacity\": 0.6}});\n\tviewer_16473767595812519.addStyle({\"resi\": 264, \"chain\": \"A\"},{\"stick\": {\"colorscheme\": \"yellowCarbon\", \"radius\": 0.2}});\n\tviewer_16473767595812519.addStyle({\"resi\": 264, \"chain\": \"A\"},{\"sphere\": {\"color\": \"yellow\", \"opacity\": 0.6}});\n\tviewer_16473767595812519.addStyle({\"resi\": 265, \"chain\": \"A\"},{\"stick\": {\"colorscheme\": \"yellowCarbon\", \"radius\": 0.2}});\n\tviewer_16473767595812519.addStyle({\"resi\": 265, \"chain\": \"A\"},{\"sphere\": {\"color\": \"yellow\", \"opacity\": 0.6}});\n\tviewer_16473767595812519.addStyle({\"resi\": 265, \"chain\": \"A\"},{\"stick\": {\"colorscheme\": \"yellowCarbon\", \"radius\": 0.2}});\n\tviewer_16473767595812519.addStyle({\"resi\": 265, \"chain\": \"A\"},{\"sphere\": {\"color\": \"yellow\", \"opacity\": 0.6}});\n\tviewer_16473767595812519.addStyle({\"resi\": 267, \"chain\": \"A\"},{\"stick\": {\"colorscheme\": \"yellowCarbon\", \"radius\": 0.2}});\n\tviewer_16473767595812519.addStyle({\"resi\": 267, \"chain\": \"A\"},{\"sphere\": {\"color\": \"yellow\", \"opacity\": 0.6}});\n\tviewer_16473767595812519.addStyle({\"resi\": 269, \"chain\": \"A\"},{\"stick\": {\"colorscheme\": \"yellowCarbon\", \"radius\": 0.2}});\n\tviewer_16473767595812519.addStyle({\"resi\": 269, \"chain\": \"A\"},{\"sphere\": {\"color\": \"yellow\", \"opacity\": 0.6}});\n\tviewer_16473767595812519.addStyle({\"resi\": 274, \"chain\": \"A\"},{\"stick\": {\"colorscheme\": \"yellowCarbon\", \"radius\": 0.2}});\n\tviewer_16473767595812519.addStyle({\"resi\": 274, \"chain\": \"A\"},{\"sphere\": {\"color\": \"yellow\", \"opacity\": 0.6}});\n\tviewer_16473767595812519.addStyle({\"resi\": 276, \"chain\": \"A\"},{\"stick\": {\"colorscheme\": \"yellowCarbon\", \"radius\": 0.2}});\n\tviewer_16473767595812519.addStyle({\"resi\": 276, \"chain\": \"A\"},{\"sphere\": {\"color\": \"yellow\", \"opacity\": 0.6}});\n\tviewer_16473767595812519.addStyle({\"resi\": 281, \"chain\": \"A\"},{\"stick\": {\"colorscheme\": \"yellowCarbon\", \"radius\": 0.2}});\n\tviewer_16473767595812519.addStyle({\"resi\": 281, \"chain\": \"A\"},{\"sphere\": {\"color\": \"yellow\", \"opacity\": 0.6}});\n\tviewer_16473767595812519.addStyle({\"resi\": 284, \"chain\": \"A\"},{\"stick\": {\"colorscheme\": \"yellowCarbon\", \"radius\": 0.2}});\n\tviewer_16473767595812519.addStyle({\"resi\": 284, \"chain\": \"A\"},{\"sphere\": {\"color\": \"yellow\", \"opacity\": 0.6}});\n\tviewer_16473767595812519.addStyle({\"resi\": 290, \"chain\": \"A\"},{\"stick\": {\"colorscheme\": \"yellowCarbon\", \"radius\": 0.2}});\n\tviewer_16473767595812519.addStyle({\"resi\": 290, \"chain\": \"A\"},{\"sphere\": {\"color\": \"yellow\", \"opacity\": 0.6}});\n\tviewer_16473767595812519.addStyle({\"resi\": 292, \"chain\": \"A\"},{\"stick\": {\"colorscheme\": \"yellowCarbon\", \"radius\": 0.2}});\n\tviewer_16473767595812519.addStyle({\"resi\": 292, \"chain\": \"A\"},{\"sphere\": {\"color\": \"yellow\", \"opacity\": 0.6}});\n\tviewer_16473767595812519.addStyle({\"resi\": 292, \"chain\": \"A\"},{\"stick\": {\"colorscheme\": \"yellowCarbon\", \"radius\": 0.2}});\n\tviewer_16473767595812519.addStyle({\"resi\": 292, \"chain\": \"A\"},{\"sphere\": {\"color\": \"yellow\", \"opacity\": 0.6}});\n\tviewer_16473767595812519.addStyle({\"resi\": 292, \"chain\": \"A\"},{\"stick\": {\"colorscheme\": \"yellowCarbon\", \"radius\": 0.2}});\n\tviewer_16473767595812519.addStyle({\"resi\": 292, \"chain\": \"A\"},{\"sphere\": {\"color\": \"yellow\", \"opacity\": 0.6}});\n\tviewer_16473767595812519.addStyle({\"resi\": 297, \"chain\": \"A\"},{\"stick\": {\"colorscheme\": \"yellowCarbon\", \"radius\": 0.2}});\n\tviewer_16473767595812519.addStyle({\"resi\": 297, \"chain\": \"A\"},{\"sphere\": {\"color\": \"yellow\", \"opacity\": 0.6}});\n\tviewer_16473767595812519.addStyle({\"resi\": 298, \"chain\": \"A\"},{\"stick\": {\"colorscheme\": \"yellowCarbon\", \"radius\": 0.2}});\n\tviewer_16473767595812519.addStyle({\"resi\": 298, \"chain\": \"A\"},{\"sphere\": {\"color\": \"yellow\", \"opacity\": 0.6}});\n\tviewer_16473767595812519.addStyle({\"resi\": 300, \"chain\": \"A\"},{\"stick\": {\"colorscheme\": \"yellowCarbon\", \"radius\": 0.2}});\n\tviewer_16473767595812519.addStyle({\"resi\": 300, \"chain\": \"A\"},{\"sphere\": {\"color\": \"yellow\", \"opacity\": 0.6}});\n\tviewer_16473767595812519.addStyle({\"resi\": 301, \"chain\": \"A\"},{\"stick\": {\"colorscheme\": \"yellowCarbon\", \"radius\": 0.2}});\n\tviewer_16473767595812519.addStyle({\"resi\": 301, \"chain\": \"A\"},{\"sphere\": {\"color\": \"yellow\", \"opacity\": 0.6}});\n\tviewer_16473767595812519.addStyle({\"resi\": 304, \"chain\": \"A\"},{\"stick\": {\"colorscheme\": \"yellowCarbon\", \"radius\": 0.2}});\n\tviewer_16473767595812519.addStyle({\"resi\": 304, \"chain\": \"A\"},{\"sphere\": {\"color\": \"yellow\", \"opacity\": 0.6}});\n\tviewer_16473767595812519.addStyle({\"resi\": 304, \"chain\": \"A\"},{\"stick\": {\"colorscheme\": \"yellowCarbon\", \"radius\": 0.2}});\n\tviewer_16473767595812519.addStyle({\"resi\": 304, \"chain\": \"A\"},{\"sphere\": {\"color\": \"yellow\", \"opacity\": 0.6}});\n\tviewer_16473767595812519.addStyle({\"resi\": 307, \"chain\": \"A\"},{\"stick\": {\"colorscheme\": \"yellowCarbon\", \"radius\": 0.2}});\n\tviewer_16473767595812519.addStyle({\"resi\": 307, \"chain\": \"A\"},{\"sphere\": {\"color\": \"yellow\", \"opacity\": 0.6}});\n\tviewer_16473767595812519.addStyle({\"resi\": 320, \"chain\": \"A\"},{\"stick\": {\"colorscheme\": \"yellowCarbon\", \"radius\": 0.2}});\n\tviewer_16473767595812519.addStyle({\"resi\": 320, \"chain\": \"A\"},{\"sphere\": {\"color\": \"yellow\", \"opacity\": 0.6}});\n\tviewer_16473767595812519.addStyle({\"resi\": 324, \"chain\": \"A\"},{\"stick\": {\"colorscheme\": \"yellowCarbon\", \"radius\": 0.2}});\n\tviewer_16473767595812519.addStyle({\"resi\": 324, \"chain\": \"A\"},{\"sphere\": {\"color\": \"yellow\", \"opacity\": 0.6}});\n\tviewer_16473767595812519.addStyle({\"resi\": 325, \"chain\": \"A\"},{\"stick\": {\"colorscheme\": \"yellowCarbon\", \"radius\": 0.2}});\n\tviewer_16473767595812519.addStyle({\"resi\": 325, \"chain\": \"A\"},{\"sphere\": {\"color\": \"yellow\", \"opacity\": 0.6}});\n\tviewer_16473767595812519.addStyle({\"resi\": 328, \"chain\": \"A\"},{\"stick\": {\"colorscheme\": \"yellowCarbon\", \"radius\": 0.2}});\n\tviewer_16473767595812519.addStyle({\"resi\": 328, \"chain\": \"A\"},{\"sphere\": {\"color\": \"yellow\", \"opacity\": 0.6}});\n\tviewer_16473767595812519.addStyle({\"resi\": 328, \"chain\": \"A\"},{\"stick\": {\"colorscheme\": \"yellowCarbon\", \"radius\": 0.2}});\n\tviewer_16473767595812519.addStyle({\"resi\": 328, \"chain\": \"A\"},{\"sphere\": {\"color\": \"yellow\", \"opacity\": 0.6}});\n\tviewer_16473767595812519.addStyle({\"resi\": 328, \"chain\": \"A\"},{\"stick\": {\"colorscheme\": \"yellowCarbon\", \"radius\": 0.2}});\n\tviewer_16473767595812519.addStyle({\"resi\": 328, \"chain\": \"A\"},{\"sphere\": {\"color\": \"yellow\", \"opacity\": 0.6}});\n\tviewer_16473767595812519.addStyle({\"resi\": 329, \"chain\": \"A\"},{\"stick\": {\"colorscheme\": \"yellowCarbon\", \"radius\": 0.2}});\n\tviewer_16473767595812519.addStyle({\"resi\": 329, \"chain\": \"A\"},{\"sphere\": {\"color\": \"yellow\", \"opacity\": 0.6}});\n\tviewer_16473767595812519.addStyle({\"resi\": 329, \"chain\": \"A\"},{\"stick\": {\"colorscheme\": \"yellowCarbon\", \"radius\": 0.2}});\n\tviewer_16473767595812519.addStyle({\"resi\": 329, \"chain\": \"A\"},{\"sphere\": {\"color\": \"yellow\", \"opacity\": 0.6}});\n\tviewer_16473767595812519.addStyle({\"resi\": 330, \"chain\": \"A\"},{\"stick\": {\"colorscheme\": \"yellowCarbon\", \"radius\": 0.2}});\n\tviewer_16473767595812519.addStyle({\"resi\": 330, \"chain\": \"A\"},{\"sphere\": {\"color\": \"yellow\", \"opacity\": 0.6}});\n\tviewer_16473767595812519.addStyle({\"resi\": 333, \"chain\": \"A\"},{\"stick\": {\"colorscheme\": \"yellowCarbon\", \"radius\": 0.2}});\n\tviewer_16473767595812519.addStyle({\"resi\": 333, \"chain\": \"A\"},{\"sphere\": {\"color\": \"yellow\", \"opacity\": 0.6}});\n\tviewer_16473767595812519.addStyle({\"resi\": 334, \"chain\": \"A\"},{\"stick\": {\"colorscheme\": \"yellowCarbon\", \"radius\": 0.2}});\n\tviewer_16473767595812519.addStyle({\"resi\": 334, \"chain\": \"A\"},{\"sphere\": {\"color\": \"yellow\", \"opacity\": 0.6}});\n\tviewer_16473767595812519.addStyle({\"resi\": 335, \"chain\": \"A\"},{\"stick\": {\"colorscheme\": \"yellowCarbon\", \"radius\": 0.2}});\n\tviewer_16473767595812519.addStyle({\"resi\": 335, \"chain\": \"A\"},{\"sphere\": {\"color\": \"yellow\", \"opacity\": 0.6}});\n\tviewer_16473767595812519.addStyle({\"resi\": 337, \"chain\": \"A\"},{\"stick\": {\"colorscheme\": \"yellowCarbon\", \"radius\": 0.2}});\n\tviewer_16473767595812519.addStyle({\"resi\": 337, \"chain\": \"A\"},{\"sphere\": {\"color\": \"yellow\", \"opacity\": 0.6}});\n\tviewer_16473767595812519.addStyle({\"resi\": 340, \"chain\": \"A\"},{\"stick\": {\"colorscheme\": \"yellowCarbon\", \"radius\": 0.2}});\n\tviewer_16473767595812519.addStyle({\"resi\": 340, \"chain\": \"A\"},{\"sphere\": {\"color\": \"yellow\", \"opacity\": 0.6}});\n\tviewer_16473767595812519.addStyle({\"resi\": 341, \"chain\": \"A\"},{\"stick\": {\"colorscheme\": \"yellowCarbon\", \"radius\": 0.2}});\n\tviewer_16473767595812519.addStyle({\"resi\": 341, \"chain\": \"A\"},{\"sphere\": {\"color\": \"yellow\", \"opacity\": 0.6}});\n\tviewer_16473767595812519.addStyle({\"resi\": 343, \"chain\": \"A\"},{\"stick\": {\"colorscheme\": \"yellowCarbon\", \"radius\": 0.2}});\n\tviewer_16473767595812519.addStyle({\"resi\": 343, \"chain\": \"A\"},{\"sphere\": {\"color\": \"yellow\", \"opacity\": 0.6}});\n\tviewer_16473767595812519.addStyle({\"resi\": 343, \"chain\": \"A\"},{\"stick\": {\"colorscheme\": \"yellowCarbon\", \"radius\": 0.2}});\n\tviewer_16473767595812519.addStyle({\"resi\": 343, \"chain\": \"A\"},{\"sphere\": {\"color\": \"yellow\", \"opacity\": 0.6}});\n\tviewer_16473767595812519.addStyle({\"resi\": 346, \"chain\": \"A\"},{\"stick\": {\"colorscheme\": \"yellowCarbon\", \"radius\": 0.2}});\n\tviewer_16473767595812519.addStyle({\"resi\": 346, \"chain\": \"A\"},{\"sphere\": {\"color\": \"yellow\", \"opacity\": 0.6}});\n\tviewer_16473767595812519.addStyle({\"resi\": 349, \"chain\": \"A\"},{\"stick\": {\"colorscheme\": \"yellowCarbon\", \"radius\": 0.2}});\n\tviewer_16473767595812519.addStyle({\"resi\": 349, \"chain\": \"A\"},{\"sphere\": {\"color\": \"yellow\", \"opacity\": 0.6}});\n\tviewer_16473767595812519.addStyle({\"resi\": 357, \"chain\": \"A\"},{\"stick\": {\"colorscheme\": \"yellowCarbon\", \"radius\": 0.2}});\n\tviewer_16473767595812519.addStyle({\"resi\": 357, \"chain\": \"A\"},{\"sphere\": {\"color\": \"yellow\", \"opacity\": 0.6}});\n\tviewer_16473767595812519.addStyle({\"resi\": 358, \"chain\": \"A\"},{\"stick\": {\"colorscheme\": \"yellowCarbon\", \"radius\": 0.2}});\n\tviewer_16473767595812519.addStyle({\"resi\": 358, \"chain\": \"A\"},{\"sphere\": {\"color\": \"yellow\", \"opacity\": 0.6}});\n\tviewer_16473767595812519.addStyle({\"resi\": 358, \"chain\": \"A\"},{\"stick\": {\"colorscheme\": \"yellowCarbon\", \"radius\": 0.2}});\n\tviewer_16473767595812519.addStyle({\"resi\": 358, \"chain\": \"A\"},{\"sphere\": {\"color\": \"yellow\", \"opacity\": 0.6}});\n\tviewer_16473767595812519.addStyle({\"resi\": 358, \"chain\": \"A\"},{\"stick\": {\"colorscheme\": \"yellowCarbon\", \"radius\": 0.2}});\n\tviewer_16473767595812519.addStyle({\"resi\": 358, \"chain\": \"A\"},{\"sphere\": {\"color\": \"yellow\", \"opacity\": 0.6}});\n\tviewer_16473767595812519.addStyle({\"resi\": 364, \"chain\": \"A\"},{\"stick\": {\"colorscheme\": \"yellowCarbon\", \"radius\": 0.2}});\n\tviewer_16473767595812519.addStyle({\"resi\": 364, \"chain\": \"A\"},{\"sphere\": {\"color\": \"yellow\", \"opacity\": 0.6}});\n\tviewer_16473767595812519.addStyle({\"resi\": 367, \"chain\": \"A\"},{\"stick\": {\"colorscheme\": \"yellowCarbon\", \"radius\": 0.2}});\n\tviewer_16473767595812519.addStyle({\"resi\": 367, \"chain\": \"A\"},{\"sphere\": {\"color\": \"yellow\", \"opacity\": 0.6}});\n\tviewer_16473767595812519.addStyle({\"resi\": 367, \"chain\": \"A\"},{\"stick\": {\"colorscheme\": \"yellowCarbon\", \"radius\": 0.2}});\n\tviewer_16473767595812519.addStyle({\"resi\": 367, \"chain\": \"A\"},{\"sphere\": {\"color\": \"yellow\", \"opacity\": 0.6}});\n\tviewer_16473767595812519.addStyle({\"resi\": 369, \"chain\": \"A\"},{\"stick\": {\"colorscheme\": \"yellowCarbon\", \"radius\": 0.2}});\n\tviewer_16473767595812519.addStyle({\"resi\": 369, \"chain\": \"A\"},{\"sphere\": {\"color\": \"yellow\", \"opacity\": 0.6}});\n\tviewer_16473767595812519.addStyle({\"resi\": 370, \"chain\": \"A\"},{\"stick\": {\"colorscheme\": \"yellowCarbon\", \"radius\": 0.2}});\n\tviewer_16473767595812519.addStyle({\"resi\": 370, \"chain\": \"A\"},{\"sphere\": {\"color\": \"yellow\", \"opacity\": 0.6}});\n\tviewer_16473767595812519.addStyle({\"resi\": 370, \"chain\": \"A\"},{\"stick\": {\"colorscheme\": \"yellowCarbon\", \"radius\": 0.2}});\n\tviewer_16473767595812519.addStyle({\"resi\": 370, \"chain\": \"A\"},{\"sphere\": {\"color\": \"yellow\", \"opacity\": 0.6}});\n\tviewer_16473767595812519.addStyle({\"resi\": 373, \"chain\": \"A\"},{\"stick\": {\"colorscheme\": \"yellowCarbon\", \"radius\": 0.2}});\n\tviewer_16473767595812519.addStyle({\"resi\": 373, \"chain\": \"A\"},{\"sphere\": {\"color\": \"yellow\", \"opacity\": 0.6}});\n\tviewer_16473767595812519.addStyle({\"resi\": 374, \"chain\": \"A\"},{\"stick\": {\"colorscheme\": \"yellowCarbon\", \"radius\": 0.2}});\n\tviewer_16473767595812519.addStyle({\"resi\": 374, \"chain\": \"A\"},{\"sphere\": {\"color\": \"yellow\", \"opacity\": 0.6}});\n\tviewer_16473767595812519.addStyle({\"resi\": 375, \"chain\": \"A\"},{\"stick\": {\"colorscheme\": \"yellowCarbon\", \"radius\": 0.2}});\n\tviewer_16473767595812519.addStyle({\"resi\": 375, \"chain\": \"A\"},{\"sphere\": {\"color\": \"yellow\", \"opacity\": 0.6}});\n\tviewer_16473767595812519.addStyle({\"resi\": 380, \"chain\": \"A\"},{\"stick\": {\"colorscheme\": \"yellowCarbon\", \"radius\": 0.2}});\n\tviewer_16473767595812519.addStyle({\"resi\": 380, \"chain\": \"A\"},{\"sphere\": {\"color\": \"yellow\", \"opacity\": 0.6}});\n\tviewer_16473767595812519.addStyle({\"resi\": 381, \"chain\": \"A\"},{\"stick\": {\"colorscheme\": \"yellowCarbon\", \"radius\": 0.2}});\n\tviewer_16473767595812519.addStyle({\"resi\": 381, \"chain\": \"A\"},{\"sphere\": {\"color\": \"yellow\", \"opacity\": 0.6}});\n\tviewer_16473767595812519.addStyle({\"resi\": 382, \"chain\": \"A\"},{\"stick\": {\"colorscheme\": \"yellowCarbon\", \"radius\": 0.2}});\n\tviewer_16473767595812519.addStyle({\"resi\": 382, \"chain\": \"A\"},{\"sphere\": {\"color\": \"yellow\", \"opacity\": 0.6}});\n\tviewer_16473767595812519.addStyle({\"resi\": 383, \"chain\": \"A\"},{\"stick\": {\"colorscheme\": \"yellowCarbon\", \"radius\": 0.2}});\n\tviewer_16473767595812519.addStyle({\"resi\": 383, \"chain\": \"A\"},{\"sphere\": {\"color\": \"yellow\", \"opacity\": 0.6}});\n\tviewer_16473767595812519.addStyle({\"resi\": 384, \"chain\": \"A\"},{\"stick\": {\"colorscheme\": \"yellowCarbon\", \"radius\": 0.2}});\n\tviewer_16473767595812519.addStyle({\"resi\": 384, \"chain\": \"A\"},{\"sphere\": {\"color\": \"yellow\", \"opacity\": 0.6}});\n\tviewer_16473767595812519.addStyle({\"resi\": 384, \"chain\": \"A\"},{\"stick\": {\"colorscheme\": \"yellowCarbon\", \"radius\": 0.2}});\n\tviewer_16473767595812519.addStyle({\"resi\": 384, \"chain\": \"A\"},{\"sphere\": {\"color\": \"yellow\", \"opacity\": 0.6}});\n\tviewer_16473767595812519.addStyle({\"resi\": 386, \"chain\": \"A\"},{\"stick\": {\"colorscheme\": \"yellowCarbon\", \"radius\": 0.2}});\n\tviewer_16473767595812519.addStyle({\"resi\": 386, \"chain\": \"A\"},{\"sphere\": {\"color\": \"yellow\", \"opacity\": 0.6}});\n\tviewer_16473767595812519.addStyle({\"resi\": 388, \"chain\": \"A\"},{\"stick\": {\"colorscheme\": \"yellowCarbon\", \"radius\": 0.2}});\n\tviewer_16473767595812519.addStyle({\"resi\": 388, \"chain\": \"A\"},{\"sphere\": {\"color\": \"yellow\", \"opacity\": 0.6}});\n\tviewer_16473767595812519.addStyle({\"resi\": 389, \"chain\": \"A\"},{\"stick\": {\"colorscheme\": \"yellowCarbon\", \"radius\": 0.2}});\n\tviewer_16473767595812519.addStyle({\"resi\": 389, \"chain\": \"A\"},{\"sphere\": {\"color\": \"yellow\", \"opacity\": 0.6}});\n\tviewer_16473767595812519.addStyle({\"resi\": 390, \"chain\": \"A\"},{\"stick\": {\"colorscheme\": \"yellowCarbon\", \"radius\": 0.2}});\n\tviewer_16473767595812519.addStyle({\"resi\": 390, \"chain\": \"A\"},{\"sphere\": {\"color\": \"yellow\", \"opacity\": 0.6}});\n\tviewer_16473767595812519.addStyle({\"resi\": 392, \"chain\": \"A\"},{\"stick\": {\"colorscheme\": \"yellowCarbon\", \"radius\": 0.2}});\n\tviewer_16473767595812519.addStyle({\"resi\": 392, \"chain\": \"A\"},{\"sphere\": {\"color\": \"yellow\", \"opacity\": 0.6}});\n\tviewer_16473767595812519.addStyle({\"resi\": 394, \"chain\": \"A\"},{\"stick\": {\"colorscheme\": \"yellowCarbon\", \"radius\": 0.2}});\n\tviewer_16473767595812519.addStyle({\"resi\": 394, \"chain\": \"A\"},{\"sphere\": {\"color\": \"yellow\", \"opacity\": 0.6}});\n\tviewer_16473767595812519.addStyle({\"resi\": 395, \"chain\": \"A\"},{\"stick\": {\"colorscheme\": \"yellowCarbon\", \"radius\": 0.2}});\n\tviewer_16473767595812519.addStyle({\"resi\": 395, \"chain\": \"A\"},{\"sphere\": {\"color\": \"yellow\", \"opacity\": 0.6}});\n\tviewer_16473767595812519.addStyle({\"resi\": 397, \"chain\": \"A\"},{\"stick\": {\"colorscheme\": \"yellowCarbon\", \"radius\": 0.2}});\n\tviewer_16473767595812519.addStyle({\"resi\": 397, \"chain\": \"A\"},{\"sphere\": {\"color\": \"yellow\", \"opacity\": 0.6}});\n\tviewer_16473767595812519.addStyle({\"resi\": 398, \"chain\": \"A\"},{\"stick\": {\"colorscheme\": \"yellowCarbon\", \"radius\": 0.2}});\n\tviewer_16473767595812519.addStyle({\"resi\": 398, \"chain\": \"A\"},{\"sphere\": {\"color\": \"yellow\", \"opacity\": 0.6}});\n\tviewer_16473767595812519.addStyle({\"resi\": 400, \"chain\": \"A\"},{\"stick\": {\"colorscheme\": \"yellowCarbon\", \"radius\": 0.2}});\n\tviewer_16473767595812519.addStyle({\"resi\": 400, \"chain\": \"A\"},{\"sphere\": {\"color\": \"yellow\", \"opacity\": 0.6}});\n\tviewer_16473767595812519.addStyle({\"resi\": 402, \"chain\": \"A\"},{\"stick\": {\"colorscheme\": \"yellowCarbon\", \"radius\": 0.2}});\n\tviewer_16473767595812519.addStyle({\"resi\": 402, \"chain\": \"A\"},{\"sphere\": {\"color\": \"yellow\", \"opacity\": 0.6}});\n\tviewer_16473767595812519.addStyle({\"resi\": 406, \"chain\": \"A\"},{\"stick\": {\"colorscheme\": \"yellowCarbon\", \"radius\": 0.2}});\n\tviewer_16473767595812519.addStyle({\"resi\": 406, \"chain\": \"A\"},{\"sphere\": {\"color\": \"yellow\", \"opacity\": 0.6}});\n\tviewer_16473767595812519.addStyle({\"resi\": 406, \"chain\": \"A\"},{\"stick\": {\"colorscheme\": \"yellowCarbon\", \"radius\": 0.2}});\n\tviewer_16473767595812519.addStyle({\"resi\": 406, \"chain\": \"A\"},{\"sphere\": {\"color\": \"yellow\", \"opacity\": 0.6}});\n\tviewer_16473767595812519.addStyle({\"resi\": 407, \"chain\": \"A\"},{\"stick\": {\"colorscheme\": \"yellowCarbon\", \"radius\": 0.2}});\n\tviewer_16473767595812519.addStyle({\"resi\": 407, \"chain\": \"A\"},{\"sphere\": {\"color\": \"yellow\", \"opacity\": 0.6}});\n\tviewer_16473767595812519.addStyle({\"resi\": 407, \"chain\": \"A\"},{\"stick\": {\"colorscheme\": \"yellowCarbon\", \"radius\": 0.2}});\n\tviewer_16473767595812519.addStyle({\"resi\": 407, \"chain\": \"A\"},{\"sphere\": {\"color\": \"yellow\", \"opacity\": 0.6}});\n\tviewer_16473767595812519.addStyle({\"resi\": 410, \"chain\": \"A\"},{\"stick\": {\"colorscheme\": \"yellowCarbon\", \"radius\": 0.2}});\n\tviewer_16473767595812519.addStyle({\"resi\": 410, \"chain\": \"A\"},{\"sphere\": {\"color\": \"yellow\", \"opacity\": 0.6}});\n\tviewer_16473767595812519.addStyle({\"resi\": 412, \"chain\": \"A\"},{\"stick\": {\"colorscheme\": \"yellowCarbon\", \"radius\": 0.2}});\n\tviewer_16473767595812519.addStyle({\"resi\": 412, \"chain\": \"A\"},{\"sphere\": {\"color\": \"yellow\", \"opacity\": 0.6}});\n\tviewer_16473767595812519.zoomTo({\"resi\": [3, 4, 5, 7, 7, 7, 8, 8, 9, 10, 15, 15, 16, 19, 19, 22, 22, 25, 25, 25, 27, 27, 30, 34, 34, 35, 35, 36, 37, 39, 39, 40, 40, 41, 42, 43, 44, 48, 52, 54, 57, 59, 60, 62, 66, 69, 73, 74, 82, 83, 83, 84, 88, 89, 91, 92, 95, 97, 97, 98, 108, 110, 116, 123, 128, 128, 135, 136, 140, 140, 143, 151, 151, 156, 157, 164, 169, 169, 175, 176, 176, 178, 178, 179, 179, 182, 186, 186, 187, 190, 193, 201, 201, 213, 216, 218, 220, 220, 221, 224, 228, 232, 233, 235, 237, 243, 244, 247, 252, 253, 255, 256, 257, 259, 259, 260, 264, 265, 265, 267, 269, 274, 276, 281, 284, 290, 292, 292, 292, 297, 298, 300, 301, 304, 304, 307, 320, 324, 325, 328, 328, 328, 329, 329, 330, 333, 334, 335, 337, 340, 341, 343, 343, 346, 349, 357, 358, 358, 358, 364, 367, 367, 369, 370, 370, 373, 374, 375, 380, 381, 382, 383, 384, 384, 386, 388, 389, 390, 392, 394, 395, 397, 398, 400, 402, 406, 406, 407, 407, 410, 412], \"chain\": \"A\"});\nviewer_16473767595812519.render();\n})\n});\n</script>",
                  "text/html": "<div id=\"3dmolviewer_16473767595812519\"  style=\"position: relative; width: 640px; height: 480px\">\n        <p id=\"3dmolwarning_16473767595812519\" style=\"background-color:#ffcccc;color:black\">You appear to be running in JupyterLab (or JavaScript failed to load for some other reason).  You need to install the 3dmol extension: <br>\n        <tt>jupyter labextension install jupyterlab_3dmol</tt></p>\n        </div>\n<script>\n\nvar loadScriptAsync = function(uri){\n  return new Promise((resolve, reject) => {\n    var tag = document.createElement('script');\n    tag.src = uri;\n    tag.async = true;\n    tag.onload = () => {\n      resolve();\n    };\n  var firstScriptTag = document.getElementsByTagName('script')[0];\n  firstScriptTag.parentNode.insertBefore(tag, firstScriptTag);\n});\n};\n\nif(typeof $3Dmolpromise === 'undefined') {\n$3Dmolpromise = null;\n  $3Dmolpromise = loadScriptAsync('https://3dmol.org/build/3Dmol.js');\n}\n\nvar viewer_16473767595812519 = null;\nvar warn = document.getElementById(\"3dmolwarning_16473767595812519\");\nif(warn) {\n    warn.parentNode.removeChild(warn);\n}\n$3Dmolpromise.then(function() {\nviewer_16473767595812519 = $3Dmol.createViewer($(\"#3dmolviewer_16473767595812519\"),{backgroundColor:\"white\"});\n$3Dmol.download(\"pdb:2RH1\", viewer_16473767595812519, {\"doAssembly\": false}, function() {\nviewer_16473767595812519.zoomTo();\n\tviewer_16473767595812519.setStyle({\"cartoon\": {\"colorscheme\": \"chain\", \"width\": 0.6, \"opacity\": 0.9}});\n\tviewer_16473767595812519.setStyle({\"hetflag\": true},{\"stick\": {\"radius\": 0.3, \"singleBond\": false}});\n\tviewer_16473767595812519.addStyle({\"chain\": \"A\", \"resi\": [3, 4, 5, 7, 7, 7, 8, 8, 9, 10, 15, 15, 16, 19, 19, 22, 22, 25, 25, 25, 27, 27, 30, 34, 34, 35, 35, 36, 37, 39, 39, 40, 40, 41, 42, 43, 44, 48, 52, 54, 57, 59, 60, 62, 66, 69, 73, 74, 82, 83, 83, 84, 88, 89, 91, 92, 95, 97, 97, 98, 108, 110, 116, 123, 128, 128, 135, 136, 140, 140, 143, 151, 151, 156, 157, 164, 169, 169, 175, 176, 176, 178, 178, 179, 179, 182, 186, 186, 187, 190, 193, 201, 201, 213, 216, 218, 220, 220, 221, 224, 228, 232, 233, 235, 237, 243, 244, 247, 252, 253, 255, 256, 257, 259, 259, 260, 264, 265, 265, 267, 269, 274, 276, 281, 284, 290, 292, 292, 292, 297, 298, 300, 301, 304, 304, 307, 320, 324, 325, 328, 328, 328, 329, 329, 330, 333, 334, 335, 337, 340, 341, 343, 343, 346, 349, 357, 358, 358, 358, 364, 367, 367, 369, 370, 370, 373, 374, 375, 380, 381, 382, 383, 384, 384, 386, 388, 389, 390, 392, 394, 395, 397, 398, 400, 402, 406, 406, 407, 407, 410, 412], \"byres\": true, \"expand\": 1},{\"stick\": {\"colorscheme\": \"orangeCarbon\", \"radius\": 0.15}});\n\tviewer_16473767595812519.addStyle({\"resi\": 3, \"chain\": \"A\"},{\"stick\": {\"colorscheme\": \"yellowCarbon\", \"radius\": 0.2}});\n\tviewer_16473767595812519.addStyle({\"resi\": 3, \"chain\": \"A\"},{\"sphere\": {\"color\": \"yellow\", \"opacity\": 0.6}});\n\tviewer_16473767595812519.addStyle({\"resi\": 4, \"chain\": \"A\"},{\"stick\": {\"colorscheme\": \"yellowCarbon\", \"radius\": 0.2}});\n\tviewer_16473767595812519.addStyle({\"resi\": 4, \"chain\": \"A\"},{\"sphere\": {\"color\": \"yellow\", \"opacity\": 0.6}});\n\tviewer_16473767595812519.addStyle({\"resi\": 5, \"chain\": \"A\"},{\"stick\": {\"colorscheme\": \"yellowCarbon\", \"radius\": 0.2}});\n\tviewer_16473767595812519.addStyle({\"resi\": 5, \"chain\": \"A\"},{\"sphere\": {\"color\": \"yellow\", \"opacity\": 0.6}});\n\tviewer_16473767595812519.addStyle({\"resi\": 7, \"chain\": \"A\"},{\"stick\": {\"colorscheme\": \"yellowCarbon\", \"radius\": 0.2}});\n\tviewer_16473767595812519.addStyle({\"resi\": 7, \"chain\": \"A\"},{\"sphere\": {\"color\": \"yellow\", \"opacity\": 0.6}});\n\tviewer_16473767595812519.addStyle({\"resi\": 7, \"chain\": \"A\"},{\"stick\": {\"colorscheme\": \"yellowCarbon\", \"radius\": 0.2}});\n\tviewer_16473767595812519.addStyle({\"resi\": 7, \"chain\": \"A\"},{\"sphere\": {\"color\": \"yellow\", \"opacity\": 0.6}});\n\tviewer_16473767595812519.addStyle({\"resi\": 7, \"chain\": \"A\"},{\"stick\": {\"colorscheme\": \"yellowCarbon\", \"radius\": 0.2}});\n\tviewer_16473767595812519.addStyle({\"resi\": 7, \"chain\": \"A\"},{\"sphere\": {\"color\": \"yellow\", \"opacity\": 0.6}});\n\tviewer_16473767595812519.addStyle({\"resi\": 8, \"chain\": \"A\"},{\"stick\": {\"colorscheme\": \"yellowCarbon\", \"radius\": 0.2}});\n\tviewer_16473767595812519.addStyle({\"resi\": 8, \"chain\": \"A\"},{\"sphere\": {\"color\": \"yellow\", \"opacity\": 0.6}});\n\tviewer_16473767595812519.addStyle({\"resi\": 8, \"chain\": \"A\"},{\"stick\": {\"colorscheme\": \"yellowCarbon\", \"radius\": 0.2}});\n\tviewer_16473767595812519.addStyle({\"resi\": 8, \"chain\": \"A\"},{\"sphere\": {\"color\": \"yellow\", \"opacity\": 0.6}});\n\tviewer_16473767595812519.addStyle({\"resi\": 9, \"chain\": \"A\"},{\"stick\": {\"colorscheme\": \"yellowCarbon\", \"radius\": 0.2}});\n\tviewer_16473767595812519.addStyle({\"resi\": 9, \"chain\": \"A\"},{\"sphere\": {\"color\": \"yellow\", \"opacity\": 0.6}});\n\tviewer_16473767595812519.addStyle({\"resi\": 10, \"chain\": \"A\"},{\"stick\": {\"colorscheme\": \"yellowCarbon\", \"radius\": 0.2}});\n\tviewer_16473767595812519.addStyle({\"resi\": 10, \"chain\": \"A\"},{\"sphere\": {\"color\": \"yellow\", \"opacity\": 0.6}});\n\tviewer_16473767595812519.addStyle({\"resi\": 15, \"chain\": \"A\"},{\"stick\": {\"colorscheme\": \"yellowCarbon\", \"radius\": 0.2}});\n\tviewer_16473767595812519.addStyle({\"resi\": 15, \"chain\": \"A\"},{\"sphere\": {\"color\": \"yellow\", \"opacity\": 0.6}});\n\tviewer_16473767595812519.addStyle({\"resi\": 15, \"chain\": \"A\"},{\"stick\": {\"colorscheme\": \"yellowCarbon\", \"radius\": 0.2}});\n\tviewer_16473767595812519.addStyle({\"resi\": 15, \"chain\": \"A\"},{\"sphere\": {\"color\": \"yellow\", \"opacity\": 0.6}});\n\tviewer_16473767595812519.addStyle({\"resi\": 16, \"chain\": \"A\"},{\"stick\": {\"colorscheme\": \"darkredCarbon\", \"radius\": 0.2}});\n\tviewer_16473767595812519.addStyle({\"resi\": 16, \"chain\": \"A\"},{\"sphere\": {\"color\": \"darkred\", \"opacity\": 0.6}});\n\tviewer_16473767595812519.addStyle({\"resi\": 19, \"chain\": \"A\"},{\"stick\": {\"colorscheme\": \"yellowCarbon\", \"radius\": 0.2}});\n\tviewer_16473767595812519.addStyle({\"resi\": 19, \"chain\": \"A\"},{\"sphere\": {\"color\": \"yellow\", \"opacity\": 0.6}});\n\tviewer_16473767595812519.addStyle({\"resi\": 19, \"chain\": \"A\"},{\"stick\": {\"colorscheme\": \"yellowCarbon\", \"radius\": 0.2}});\n\tviewer_16473767595812519.addStyle({\"resi\": 19, \"chain\": \"A\"},{\"sphere\": {\"color\": \"yellow\", \"opacity\": 0.6}});\n\tviewer_16473767595812519.addStyle({\"resi\": 22, \"chain\": \"A\"},{\"stick\": {\"colorscheme\": \"yellowCarbon\", \"radius\": 0.2}});\n\tviewer_16473767595812519.addStyle({\"resi\": 22, \"chain\": \"A\"},{\"sphere\": {\"color\": \"yellow\", \"opacity\": 0.6}});\n\tviewer_16473767595812519.addStyle({\"resi\": 22, \"chain\": \"A\"},{\"stick\": {\"colorscheme\": \"yellowCarbon\", \"radius\": 0.2}});\n\tviewer_16473767595812519.addStyle({\"resi\": 22, \"chain\": \"A\"},{\"sphere\": {\"color\": \"yellow\", \"opacity\": 0.6}});\n\tviewer_16473767595812519.addStyle({\"resi\": 25, \"chain\": \"A\"},{\"stick\": {\"colorscheme\": \"yellowCarbon\", \"radius\": 0.2}});\n\tviewer_16473767595812519.addStyle({\"resi\": 25, \"chain\": \"A\"},{\"sphere\": {\"color\": \"yellow\", \"opacity\": 0.6}});\n\tviewer_16473767595812519.addStyle({\"resi\": 25, \"chain\": \"A\"},{\"stick\": {\"colorscheme\": \"yellowCarbon\", \"radius\": 0.2}});\n\tviewer_16473767595812519.addStyle({\"resi\": 25, \"chain\": \"A\"},{\"sphere\": {\"color\": \"yellow\", \"opacity\": 0.6}});\n\tviewer_16473767595812519.addStyle({\"resi\": 25, \"chain\": \"A\"},{\"stick\": {\"colorscheme\": \"yellowCarbon\", \"radius\": 0.2}});\n\tviewer_16473767595812519.addStyle({\"resi\": 25, \"chain\": \"A\"},{\"sphere\": {\"color\": \"yellow\", \"opacity\": 0.6}});\n\tviewer_16473767595812519.addStyle({\"resi\": 27, \"chain\": \"A\"},{\"stick\": {\"colorscheme\": \"darkredCarbon\", \"radius\": 0.2}});\n\tviewer_16473767595812519.addStyle({\"resi\": 27, \"chain\": \"A\"},{\"sphere\": {\"color\": \"darkred\", \"opacity\": 0.6}});\n\tviewer_16473767595812519.addStyle({\"resi\": 27, \"chain\": \"A\"},{\"stick\": {\"colorscheme\": \"yellowCarbon\", \"radius\": 0.2}});\n\tviewer_16473767595812519.addStyle({\"resi\": 27, \"chain\": \"A\"},{\"sphere\": {\"color\": \"yellow\", \"opacity\": 0.6}});\n\tviewer_16473767595812519.addStyle({\"resi\": 30, \"chain\": \"A\"},{\"stick\": {\"colorscheme\": \"yellowCarbon\", \"radius\": 0.2}});\n\tviewer_16473767595812519.addStyle({\"resi\": 30, \"chain\": \"A\"},{\"sphere\": {\"color\": \"yellow\", \"opacity\": 0.6}});\n\tviewer_16473767595812519.addStyle({\"resi\": 34, \"chain\": \"A\"},{\"stick\": {\"colorscheme\": \"yellowCarbon\", \"radius\": 0.2}});\n\tviewer_16473767595812519.addStyle({\"resi\": 34, \"chain\": \"A\"},{\"sphere\": {\"color\": \"yellow\", \"opacity\": 0.6}});\n\tviewer_16473767595812519.addStyle({\"resi\": 34, \"chain\": \"A\"},{\"stick\": {\"colorscheme\": \"yellowCarbon\", \"radius\": 0.2}});\n\tviewer_16473767595812519.addStyle({\"resi\": 34, \"chain\": \"A\"},{\"sphere\": {\"color\": \"yellow\", \"opacity\": 0.6}});\n\tviewer_16473767595812519.addStyle({\"resi\": 35, \"chain\": \"A\"},{\"stick\": {\"colorscheme\": \"yellowCarbon\", \"radius\": 0.2}});\n\tviewer_16473767595812519.addStyle({\"resi\": 35, \"chain\": \"A\"},{\"sphere\": {\"color\": \"yellow\", \"opacity\": 0.6}});\n\tviewer_16473767595812519.addStyle({\"resi\": 35, \"chain\": \"A\"},{\"stick\": {\"colorscheme\": \"yellowCarbon\", \"radius\": 0.2}});\n\tviewer_16473767595812519.addStyle({\"resi\": 35, \"chain\": \"A\"},{\"sphere\": {\"color\": \"yellow\", \"opacity\": 0.6}});\n\tviewer_16473767595812519.addStyle({\"resi\": 36, \"chain\": \"A\"},{\"stick\": {\"colorscheme\": \"yellowCarbon\", \"radius\": 0.2}});\n\tviewer_16473767595812519.addStyle({\"resi\": 36, \"chain\": \"A\"},{\"sphere\": {\"color\": \"yellow\", \"opacity\": 0.6}});\n\tviewer_16473767595812519.addStyle({\"resi\": 37, \"chain\": \"A\"},{\"stick\": {\"colorscheme\": \"yellowCarbon\", \"radius\": 0.2}});\n\tviewer_16473767595812519.addStyle({\"resi\": 37, \"chain\": \"A\"},{\"sphere\": {\"color\": \"yellow\", \"opacity\": 0.6}});\n\tviewer_16473767595812519.addStyle({\"resi\": 39, \"chain\": \"A\"},{\"stick\": {\"colorscheme\": \"yellowCarbon\", \"radius\": 0.2}});\n\tviewer_16473767595812519.addStyle({\"resi\": 39, \"chain\": \"A\"},{\"sphere\": {\"color\": \"yellow\", \"opacity\": 0.6}});\n\tviewer_16473767595812519.addStyle({\"resi\": 39, \"chain\": \"A\"},{\"stick\": {\"colorscheme\": \"yellowCarbon\", \"radius\": 0.2}});\n\tviewer_16473767595812519.addStyle({\"resi\": 39, \"chain\": \"A\"},{\"sphere\": {\"color\": \"yellow\", \"opacity\": 0.6}});\n\tviewer_16473767595812519.addStyle({\"resi\": 40, \"chain\": \"A\"},{\"stick\": {\"colorscheme\": \"yellowCarbon\", \"radius\": 0.2}});\n\tviewer_16473767595812519.addStyle({\"resi\": 40, \"chain\": \"A\"},{\"sphere\": {\"color\": \"yellow\", \"opacity\": 0.6}});\n\tviewer_16473767595812519.addStyle({\"resi\": 40, \"chain\": \"A\"},{\"stick\": {\"colorscheme\": \"yellowCarbon\", \"radius\": 0.2}});\n\tviewer_16473767595812519.addStyle({\"resi\": 40, \"chain\": \"A\"},{\"sphere\": {\"color\": \"yellow\", \"opacity\": 0.6}});\n\tviewer_16473767595812519.addStyle({\"resi\": 41, \"chain\": \"A\"},{\"stick\": {\"colorscheme\": \"yellowCarbon\", \"radius\": 0.2}});\n\tviewer_16473767595812519.addStyle({\"resi\": 41, \"chain\": \"A\"},{\"sphere\": {\"color\": \"yellow\", \"opacity\": 0.6}});\n\tviewer_16473767595812519.addStyle({\"resi\": 42, \"chain\": \"A\"},{\"stick\": {\"colorscheme\": \"yellowCarbon\", \"radius\": 0.2}});\n\tviewer_16473767595812519.addStyle({\"resi\": 42, \"chain\": \"A\"},{\"sphere\": {\"color\": \"yellow\", \"opacity\": 0.6}});\n\tviewer_16473767595812519.addStyle({\"resi\": 43, \"chain\": \"A\"},{\"stick\": {\"colorscheme\": \"yellowCarbon\", \"radius\": 0.2}});\n\tviewer_16473767595812519.addStyle({\"resi\": 43, \"chain\": \"A\"},{\"sphere\": {\"color\": \"yellow\", \"opacity\": 0.6}});\n\tviewer_16473767595812519.addStyle({\"resi\": 44, \"chain\": \"A\"},{\"stick\": {\"colorscheme\": \"yellowCarbon\", \"radius\": 0.2}});\n\tviewer_16473767595812519.addStyle({\"resi\": 44, \"chain\": \"A\"},{\"sphere\": {\"color\": \"yellow\", \"opacity\": 0.6}});\n\tviewer_16473767595812519.addStyle({\"resi\": 48, \"chain\": \"A\"},{\"stick\": {\"colorscheme\": \"yellowCarbon\", \"radius\": 0.2}});\n\tviewer_16473767595812519.addStyle({\"resi\": 48, \"chain\": \"A\"},{\"sphere\": {\"color\": \"yellow\", \"opacity\": 0.6}});\n\tviewer_16473767595812519.addStyle({\"resi\": 52, \"chain\": \"A\"},{\"stick\": {\"colorscheme\": \"yellowCarbon\", \"radius\": 0.2}});\n\tviewer_16473767595812519.addStyle({\"resi\": 52, \"chain\": \"A\"},{\"sphere\": {\"color\": \"yellow\", \"opacity\": 0.6}});\n\tviewer_16473767595812519.addStyle({\"resi\": 54, \"chain\": \"A\"},{\"stick\": {\"colorscheme\": \"yellowCarbon\", \"radius\": 0.2}});\n\tviewer_16473767595812519.addStyle({\"resi\": 54, \"chain\": \"A\"},{\"sphere\": {\"color\": \"yellow\", \"opacity\": 0.6}});\n\tviewer_16473767595812519.addStyle({\"resi\": 57, \"chain\": \"A\"},{\"stick\": {\"colorscheme\": \"yellowCarbon\", \"radius\": 0.2}});\n\tviewer_16473767595812519.addStyle({\"resi\": 57, \"chain\": \"A\"},{\"sphere\": {\"color\": \"yellow\", \"opacity\": 0.6}});\n\tviewer_16473767595812519.addStyle({\"resi\": 59, \"chain\": \"A\"},{\"stick\": {\"colorscheme\": \"yellowCarbon\", \"radius\": 0.2}});\n\tviewer_16473767595812519.addStyle({\"resi\": 59, \"chain\": \"A\"},{\"sphere\": {\"color\": \"yellow\", \"opacity\": 0.6}});\n\tviewer_16473767595812519.addStyle({\"resi\": 60, \"chain\": \"A\"},{\"stick\": {\"colorscheme\": \"yellowCarbon\", \"radius\": 0.2}});\n\tviewer_16473767595812519.addStyle({\"resi\": 60, \"chain\": \"A\"},{\"sphere\": {\"color\": \"yellow\", \"opacity\": 0.6}});\n\tviewer_16473767595812519.addStyle({\"resi\": 62, \"chain\": \"A\"},{\"stick\": {\"colorscheme\": \"yellowCarbon\", \"radius\": 0.2}});\n\tviewer_16473767595812519.addStyle({\"resi\": 62, \"chain\": \"A\"},{\"sphere\": {\"color\": \"yellow\", \"opacity\": 0.6}});\n\tviewer_16473767595812519.addStyle({\"resi\": 66, \"chain\": \"A\"},{\"stick\": {\"colorscheme\": \"yellowCarbon\", \"radius\": 0.2}});\n\tviewer_16473767595812519.addStyle({\"resi\": 66, \"chain\": \"A\"},{\"sphere\": {\"color\": \"yellow\", \"opacity\": 0.6}});\n\tviewer_16473767595812519.addStyle({\"resi\": 69, \"chain\": \"A\"},{\"stick\": {\"colorscheme\": \"darkredCarbon\", \"radius\": 0.2}});\n\tviewer_16473767595812519.addStyle({\"resi\": 69, \"chain\": \"A\"},{\"sphere\": {\"color\": \"darkred\", \"opacity\": 0.6}});\n\tviewer_16473767595812519.addStyle({\"resi\": 73, \"chain\": \"A\"},{\"stick\": {\"colorscheme\": \"yellowCarbon\", \"radius\": 0.2}});\n\tviewer_16473767595812519.addStyle({\"resi\": 73, \"chain\": \"A\"},{\"sphere\": {\"color\": \"yellow\", \"opacity\": 0.6}});\n\tviewer_16473767595812519.addStyle({\"resi\": 74, \"chain\": \"A\"},{\"stick\": {\"colorscheme\": \"yellowCarbon\", \"radius\": 0.2}});\n\tviewer_16473767595812519.addStyle({\"resi\": 74, \"chain\": \"A\"},{\"sphere\": {\"color\": \"yellow\", \"opacity\": 0.6}});\n\tviewer_16473767595812519.addStyle({\"resi\": 82, \"chain\": \"A\"},{\"stick\": {\"colorscheme\": \"yellowCarbon\", \"radius\": 0.2}});\n\tviewer_16473767595812519.addStyle({\"resi\": 82, \"chain\": \"A\"},{\"sphere\": {\"color\": \"yellow\", \"opacity\": 0.6}});\n\tviewer_16473767595812519.addStyle({\"resi\": 83, \"chain\": \"A\"},{\"stick\": {\"colorscheme\": \"yellowCarbon\", \"radius\": 0.2}});\n\tviewer_16473767595812519.addStyle({\"resi\": 83, \"chain\": \"A\"},{\"sphere\": {\"color\": \"yellow\", \"opacity\": 0.6}});\n\tviewer_16473767595812519.addStyle({\"resi\": 83, \"chain\": \"A\"},{\"stick\": {\"colorscheme\": \"yellowCarbon\", \"radius\": 0.2}});\n\tviewer_16473767595812519.addStyle({\"resi\": 83, \"chain\": \"A\"},{\"sphere\": {\"color\": \"yellow\", \"opacity\": 0.6}});\n\tviewer_16473767595812519.addStyle({\"resi\": 84, \"chain\": \"A\"},{\"stick\": {\"colorscheme\": \"yellowCarbon\", \"radius\": 0.2}});\n\tviewer_16473767595812519.addStyle({\"resi\": 84, \"chain\": \"A\"},{\"sphere\": {\"color\": \"yellow\", \"opacity\": 0.6}});\n\tviewer_16473767595812519.addStyle({\"resi\": 88, \"chain\": \"A\"},{\"stick\": {\"colorscheme\": \"yellowCarbon\", \"radius\": 0.2}});\n\tviewer_16473767595812519.addStyle({\"resi\": 88, \"chain\": \"A\"},{\"sphere\": {\"color\": \"yellow\", \"opacity\": 0.6}});\n\tviewer_16473767595812519.addStyle({\"resi\": 89, \"chain\": \"A\"},{\"stick\": {\"colorscheme\": \"yellowCarbon\", \"radius\": 0.2}});\n\tviewer_16473767595812519.addStyle({\"resi\": 89, \"chain\": \"A\"},{\"sphere\": {\"color\": \"yellow\", \"opacity\": 0.6}});\n\tviewer_16473767595812519.addStyle({\"resi\": 91, \"chain\": \"A\"},{\"stick\": {\"colorscheme\": \"yellowCarbon\", \"radius\": 0.2}});\n\tviewer_16473767595812519.addStyle({\"resi\": 91, \"chain\": \"A\"},{\"sphere\": {\"color\": \"yellow\", \"opacity\": 0.6}});\n\tviewer_16473767595812519.addStyle({\"resi\": 92, \"chain\": \"A\"},{\"stick\": {\"colorscheme\": \"yellowCarbon\", \"radius\": 0.2}});\n\tviewer_16473767595812519.addStyle({\"resi\": 92, \"chain\": \"A\"},{\"sphere\": {\"color\": \"yellow\", \"opacity\": 0.6}});\n\tviewer_16473767595812519.addStyle({\"resi\": 95, \"chain\": \"A\"},{\"stick\": {\"colorscheme\": \"yellowCarbon\", \"radius\": 0.2}});\n\tviewer_16473767595812519.addStyle({\"resi\": 95, \"chain\": \"A\"},{\"sphere\": {\"color\": \"yellow\", \"opacity\": 0.6}});\n\tviewer_16473767595812519.addStyle({\"resi\": 97, \"chain\": \"A\"},{\"stick\": {\"colorscheme\": \"yellowCarbon\", \"radius\": 0.2}});\n\tviewer_16473767595812519.addStyle({\"resi\": 97, \"chain\": \"A\"},{\"sphere\": {\"color\": \"yellow\", \"opacity\": 0.6}});\n\tviewer_16473767595812519.addStyle({\"resi\": 97, \"chain\": \"A\"},{\"stick\": {\"colorscheme\": \"yellowCarbon\", \"radius\": 0.2}});\n\tviewer_16473767595812519.addStyle({\"resi\": 97, \"chain\": \"A\"},{\"sphere\": {\"color\": \"yellow\", \"opacity\": 0.6}});\n\tviewer_16473767595812519.addStyle({\"resi\": 98, \"chain\": \"A\"},{\"stick\": {\"colorscheme\": \"yellowCarbon\", \"radius\": 0.2}});\n\tviewer_16473767595812519.addStyle({\"resi\": 98, \"chain\": \"A\"},{\"sphere\": {\"color\": \"yellow\", \"opacity\": 0.6}});\n\tviewer_16473767595812519.addStyle({\"resi\": 108, \"chain\": \"A\"},{\"stick\": {\"colorscheme\": \"yellowCarbon\", \"radius\": 0.2}});\n\tviewer_16473767595812519.addStyle({\"resi\": 108, \"chain\": \"A\"},{\"sphere\": {\"color\": \"yellow\", \"opacity\": 0.6}});\n\tviewer_16473767595812519.addStyle({\"resi\": 110, \"chain\": \"A\"},{\"stick\": {\"colorscheme\": \"yellowCarbon\", \"radius\": 0.2}});\n\tviewer_16473767595812519.addStyle({\"resi\": 110, \"chain\": \"A\"},{\"sphere\": {\"color\": \"yellow\", \"opacity\": 0.6}});\n\tviewer_16473767595812519.addStyle({\"resi\": 116, \"chain\": \"A\"},{\"stick\": {\"colorscheme\": \"yellowCarbon\", \"radius\": 0.2}});\n\tviewer_16473767595812519.addStyle({\"resi\": 116, \"chain\": \"A\"},{\"sphere\": {\"color\": \"yellow\", \"opacity\": 0.6}});\n\tviewer_16473767595812519.addStyle({\"resi\": 123, \"chain\": \"A\"},{\"stick\": {\"colorscheme\": \"yellowCarbon\", \"radius\": 0.2}});\n\tviewer_16473767595812519.addStyle({\"resi\": 123, \"chain\": \"A\"},{\"sphere\": {\"color\": \"yellow\", \"opacity\": 0.6}});\n\tviewer_16473767595812519.addStyle({\"resi\": 128, \"chain\": \"A\"},{\"stick\": {\"colorscheme\": \"yellowCarbon\", \"radius\": 0.2}});\n\tviewer_16473767595812519.addStyle({\"resi\": 128, \"chain\": \"A\"},{\"sphere\": {\"color\": \"yellow\", \"opacity\": 0.6}});\n\tviewer_16473767595812519.addStyle({\"resi\": 128, \"chain\": \"A\"},{\"stick\": {\"colorscheme\": \"yellowCarbon\", \"radius\": 0.2}});\n\tviewer_16473767595812519.addStyle({\"resi\": 128, \"chain\": \"A\"},{\"sphere\": {\"color\": \"yellow\", \"opacity\": 0.6}});\n\tviewer_16473767595812519.addStyle({\"resi\": 135, \"chain\": \"A\"},{\"stick\": {\"colorscheme\": \"yellowCarbon\", \"radius\": 0.2}});\n\tviewer_16473767595812519.addStyle({\"resi\": 135, \"chain\": \"A\"},{\"sphere\": {\"color\": \"yellow\", \"opacity\": 0.6}});\n\tviewer_16473767595812519.addStyle({\"resi\": 136, \"chain\": \"A\"},{\"stick\": {\"colorscheme\": \"yellowCarbon\", \"radius\": 0.2}});\n\tviewer_16473767595812519.addStyle({\"resi\": 136, \"chain\": \"A\"},{\"sphere\": {\"color\": \"yellow\", \"opacity\": 0.6}});\n\tviewer_16473767595812519.addStyle({\"resi\": 140, \"chain\": \"A\"},{\"stick\": {\"colorscheme\": \"yellowCarbon\", \"radius\": 0.2}});\n\tviewer_16473767595812519.addStyle({\"resi\": 140, \"chain\": \"A\"},{\"sphere\": {\"color\": \"yellow\", \"opacity\": 0.6}});\n\tviewer_16473767595812519.addStyle({\"resi\": 140, \"chain\": \"A\"},{\"stick\": {\"colorscheme\": \"yellowCarbon\", \"radius\": 0.2}});\n\tviewer_16473767595812519.addStyle({\"resi\": 140, \"chain\": \"A\"},{\"sphere\": {\"color\": \"yellow\", \"opacity\": 0.6}});\n\tviewer_16473767595812519.addStyle({\"resi\": 143, \"chain\": \"A\"},{\"stick\": {\"colorscheme\": \"yellowCarbon\", \"radius\": 0.2}});\n\tviewer_16473767595812519.addStyle({\"resi\": 143, \"chain\": \"A\"},{\"sphere\": {\"color\": \"yellow\", \"opacity\": 0.6}});\n\tviewer_16473767595812519.addStyle({\"resi\": 151, \"chain\": \"A\"},{\"stick\": {\"colorscheme\": \"yellowCarbon\", \"radius\": 0.2}});\n\tviewer_16473767595812519.addStyle({\"resi\": 151, \"chain\": \"A\"},{\"sphere\": {\"color\": \"yellow\", \"opacity\": 0.6}});\n\tviewer_16473767595812519.addStyle({\"resi\": 151, \"chain\": \"A\"},{\"stick\": {\"colorscheme\": \"yellowCarbon\", \"radius\": 0.2}});\n\tviewer_16473767595812519.addStyle({\"resi\": 151, \"chain\": \"A\"},{\"sphere\": {\"color\": \"yellow\", \"opacity\": 0.6}});\n\tviewer_16473767595812519.addStyle({\"resi\": 156, \"chain\": \"A\"},{\"stick\": {\"colorscheme\": \"yellowCarbon\", \"radius\": 0.2}});\n\tviewer_16473767595812519.addStyle({\"resi\": 156, \"chain\": \"A\"},{\"sphere\": {\"color\": \"yellow\", \"opacity\": 0.6}});\n\tviewer_16473767595812519.addStyle({\"resi\": 157, \"chain\": \"A\"},{\"stick\": {\"colorscheme\": \"yellowCarbon\", \"radius\": 0.2}});\n\tviewer_16473767595812519.addStyle({\"resi\": 157, \"chain\": \"A\"},{\"sphere\": {\"color\": \"yellow\", \"opacity\": 0.6}});\n\tviewer_16473767595812519.addStyle({\"resi\": 164, \"chain\": \"A\"},{\"stick\": {\"colorscheme\": \"darkredCarbon\", \"radius\": 0.2}});\n\tviewer_16473767595812519.addStyle({\"resi\": 164, \"chain\": \"A\"},{\"sphere\": {\"color\": \"darkred\", \"opacity\": 0.6}});\n\tviewer_16473767595812519.addStyle({\"resi\": 169, \"chain\": \"A\"},{\"stick\": {\"colorscheme\": \"yellowCarbon\", \"radius\": 0.2}});\n\tviewer_16473767595812519.addStyle({\"resi\": 169, \"chain\": \"A\"},{\"sphere\": {\"color\": \"yellow\", \"opacity\": 0.6}});\n\tviewer_16473767595812519.addStyle({\"resi\": 169, \"chain\": \"A\"},{\"stick\": {\"colorscheme\": \"yellowCarbon\", \"radius\": 0.2}});\n\tviewer_16473767595812519.addStyle({\"resi\": 169, \"chain\": \"A\"},{\"sphere\": {\"color\": \"yellow\", \"opacity\": 0.6}});\n\tviewer_16473767595812519.addStyle({\"resi\": 175, \"chain\": \"A\"},{\"stick\": {\"colorscheme\": \"yellowCarbon\", \"radius\": 0.2}});\n\tviewer_16473767595812519.addStyle({\"resi\": 175, \"chain\": \"A\"},{\"sphere\": {\"color\": \"yellow\", \"opacity\": 0.6}});\n\tviewer_16473767595812519.addStyle({\"resi\": 176, \"chain\": \"A\"},{\"stick\": {\"colorscheme\": \"yellowCarbon\", \"radius\": 0.2}});\n\tviewer_16473767595812519.addStyle({\"resi\": 176, \"chain\": \"A\"},{\"sphere\": {\"color\": \"yellow\", \"opacity\": 0.6}});\n\tviewer_16473767595812519.addStyle({\"resi\": 176, \"chain\": \"A\"},{\"stick\": {\"colorscheme\": \"yellowCarbon\", \"radius\": 0.2}});\n\tviewer_16473767595812519.addStyle({\"resi\": 176, \"chain\": \"A\"},{\"sphere\": {\"color\": \"yellow\", \"opacity\": 0.6}});\n\tviewer_16473767595812519.addStyle({\"resi\": 178, \"chain\": \"A\"},{\"stick\": {\"colorscheme\": \"yellowCarbon\", \"radius\": 0.2}});\n\tviewer_16473767595812519.addStyle({\"resi\": 178, \"chain\": \"A\"},{\"sphere\": {\"color\": \"yellow\", \"opacity\": 0.6}});\n\tviewer_16473767595812519.addStyle({\"resi\": 178, \"chain\": \"A\"},{\"stick\": {\"colorscheme\": \"yellowCarbon\", \"radius\": 0.2}});\n\tviewer_16473767595812519.addStyle({\"resi\": 178, \"chain\": \"A\"},{\"sphere\": {\"color\": \"yellow\", \"opacity\": 0.6}});\n\tviewer_16473767595812519.addStyle({\"resi\": 179, \"chain\": \"A\"},{\"stick\": {\"colorscheme\": \"yellowCarbon\", \"radius\": 0.2}});\n\tviewer_16473767595812519.addStyle({\"resi\": 179, \"chain\": \"A\"},{\"sphere\": {\"color\": \"yellow\", \"opacity\": 0.6}});\n\tviewer_16473767595812519.addStyle({\"resi\": 179, \"chain\": \"A\"},{\"stick\": {\"colorscheme\": \"yellowCarbon\", \"radius\": 0.2}});\n\tviewer_16473767595812519.addStyle({\"resi\": 179, \"chain\": \"A\"},{\"sphere\": {\"color\": \"yellow\", \"opacity\": 0.6}});\n\tviewer_16473767595812519.addStyle({\"resi\": 182, \"chain\": \"A\"},{\"stick\": {\"colorscheme\": \"yellowCarbon\", \"radius\": 0.2}});\n\tviewer_16473767595812519.addStyle({\"resi\": 182, \"chain\": \"A\"},{\"sphere\": {\"color\": \"yellow\", \"opacity\": 0.6}});\n\tviewer_16473767595812519.addStyle({\"resi\": 186, \"chain\": \"A\"},{\"stick\": {\"colorscheme\": \"yellowCarbon\", \"radius\": 0.2}});\n\tviewer_16473767595812519.addStyle({\"resi\": 186, \"chain\": \"A\"},{\"sphere\": {\"color\": \"yellow\", \"opacity\": 0.6}});\n\tviewer_16473767595812519.addStyle({\"resi\": 186, \"chain\": \"A\"},{\"stick\": {\"colorscheme\": \"yellowCarbon\", \"radius\": 0.2}});\n\tviewer_16473767595812519.addStyle({\"resi\": 186, \"chain\": \"A\"},{\"sphere\": {\"color\": \"yellow\", \"opacity\": 0.6}});\n\tviewer_16473767595812519.addStyle({\"resi\": 187, \"chain\": \"A\"},{\"stick\": {\"colorscheme\": \"yellowCarbon\", \"radius\": 0.2}});\n\tviewer_16473767595812519.addStyle({\"resi\": 187, \"chain\": \"A\"},{\"sphere\": {\"color\": \"yellow\", \"opacity\": 0.6}});\n\tviewer_16473767595812519.addStyle({\"resi\": 190, \"chain\": \"A\"},{\"stick\": {\"colorscheme\": \"yellowCarbon\", \"radius\": 0.2}});\n\tviewer_16473767595812519.addStyle({\"resi\": 190, \"chain\": \"A\"},{\"sphere\": {\"color\": \"yellow\", \"opacity\": 0.6}});\n\tviewer_16473767595812519.addStyle({\"resi\": 193, \"chain\": \"A\"},{\"stick\": {\"colorscheme\": \"yellowCarbon\", \"radius\": 0.2}});\n\tviewer_16473767595812519.addStyle({\"resi\": 193, \"chain\": \"A\"},{\"sphere\": {\"color\": \"yellow\", \"opacity\": 0.6}});\n\tviewer_16473767595812519.addStyle({\"resi\": 201, \"chain\": \"A\"},{\"stick\": {\"colorscheme\": \"yellowCarbon\", \"radius\": 0.2}});\n\tviewer_16473767595812519.addStyle({\"resi\": 201, \"chain\": \"A\"},{\"sphere\": {\"color\": \"yellow\", \"opacity\": 0.6}});\n\tviewer_16473767595812519.addStyle({\"resi\": 201, \"chain\": \"A\"},{\"stick\": {\"colorscheme\": \"yellowCarbon\", \"radius\": 0.2}});\n\tviewer_16473767595812519.addStyle({\"resi\": 201, \"chain\": \"A\"},{\"sphere\": {\"color\": \"yellow\", \"opacity\": 0.6}});\n\tviewer_16473767595812519.addStyle({\"resi\": 213, \"chain\": \"A\"},{\"stick\": {\"colorscheme\": \"yellowCarbon\", \"radius\": 0.2}});\n\tviewer_16473767595812519.addStyle({\"resi\": 213, \"chain\": \"A\"},{\"sphere\": {\"color\": \"yellow\", \"opacity\": 0.6}});\n\tviewer_16473767595812519.addStyle({\"resi\": 216, \"chain\": \"A\"},{\"stick\": {\"colorscheme\": \"yellowCarbon\", \"radius\": 0.2}});\n\tviewer_16473767595812519.addStyle({\"resi\": 216, \"chain\": \"A\"},{\"sphere\": {\"color\": \"yellow\", \"opacity\": 0.6}});\n\tviewer_16473767595812519.addStyle({\"resi\": 218, \"chain\": \"A\"},{\"stick\": {\"colorscheme\": \"yellowCarbon\", \"radius\": 0.2}});\n\tviewer_16473767595812519.addStyle({\"resi\": 218, \"chain\": \"A\"},{\"sphere\": {\"color\": \"yellow\", \"opacity\": 0.6}});\n\tviewer_16473767595812519.addStyle({\"resi\": 220, \"chain\": \"A\"},{\"stick\": {\"colorscheme\": \"darkredCarbon\", \"radius\": 0.2}});\n\tviewer_16473767595812519.addStyle({\"resi\": 220, \"chain\": \"A\"},{\"sphere\": {\"color\": \"darkred\", \"opacity\": 0.6}});\n\tviewer_16473767595812519.addStyle({\"resi\": 220, \"chain\": \"A\"},{\"stick\": {\"colorscheme\": \"yellowCarbon\", \"radius\": 0.2}});\n\tviewer_16473767595812519.addStyle({\"resi\": 220, \"chain\": \"A\"},{\"sphere\": {\"color\": \"yellow\", \"opacity\": 0.6}});\n\tviewer_16473767595812519.addStyle({\"resi\": 221, \"chain\": \"A\"},{\"stick\": {\"colorscheme\": \"yellowCarbon\", \"radius\": 0.2}});\n\tviewer_16473767595812519.addStyle({\"resi\": 221, \"chain\": \"A\"},{\"sphere\": {\"color\": \"yellow\", \"opacity\": 0.6}});\n\tviewer_16473767595812519.addStyle({\"resi\": 224, \"chain\": \"A\"},{\"stick\": {\"colorscheme\": \"yellowCarbon\", \"radius\": 0.2}});\n\tviewer_16473767595812519.addStyle({\"resi\": 224, \"chain\": \"A\"},{\"sphere\": {\"color\": \"yellow\", \"opacity\": 0.6}});\n\tviewer_16473767595812519.addStyle({\"resi\": 228, \"chain\": \"A\"},{\"stick\": {\"colorscheme\": \"yellowCarbon\", \"radius\": 0.2}});\n\tviewer_16473767595812519.addStyle({\"resi\": 228, \"chain\": \"A\"},{\"sphere\": {\"color\": \"yellow\", \"opacity\": 0.6}});\n\tviewer_16473767595812519.addStyle({\"resi\": 232, \"chain\": \"A\"},{\"stick\": {\"colorscheme\": \"yellowCarbon\", \"radius\": 0.2}});\n\tviewer_16473767595812519.addStyle({\"resi\": 232, \"chain\": \"A\"},{\"sphere\": {\"color\": \"yellow\", \"opacity\": 0.6}});\n\tviewer_16473767595812519.addStyle({\"resi\": 233, \"chain\": \"A\"},{\"stick\": {\"colorscheme\": \"yellowCarbon\", \"radius\": 0.2}});\n\tviewer_16473767595812519.addStyle({\"resi\": 233, \"chain\": \"A\"},{\"sphere\": {\"color\": \"yellow\", \"opacity\": 0.6}});\n\tviewer_16473767595812519.addStyle({\"resi\": 235, \"chain\": \"A\"},{\"stick\": {\"colorscheme\": \"yellowCarbon\", \"radius\": 0.2}});\n\tviewer_16473767595812519.addStyle({\"resi\": 235, \"chain\": \"A\"},{\"sphere\": {\"color\": \"yellow\", \"opacity\": 0.6}});\n\tviewer_16473767595812519.addStyle({\"resi\": 237, \"chain\": \"A\"},{\"stick\": {\"colorscheme\": \"yellowCarbon\", \"radius\": 0.2}});\n\tviewer_16473767595812519.addStyle({\"resi\": 237, \"chain\": \"A\"},{\"sphere\": {\"color\": \"yellow\", \"opacity\": 0.6}});\n\tviewer_16473767595812519.addStyle({\"resi\": 243, \"chain\": \"A\"},{\"stick\": {\"colorscheme\": \"yellowCarbon\", \"radius\": 0.2}});\n\tviewer_16473767595812519.addStyle({\"resi\": 243, \"chain\": \"A\"},{\"sphere\": {\"color\": \"yellow\", \"opacity\": 0.6}});\n\tviewer_16473767595812519.addStyle({\"resi\": 244, \"chain\": \"A\"},{\"stick\": {\"colorscheme\": \"yellowCarbon\", \"radius\": 0.2}});\n\tviewer_16473767595812519.addStyle({\"resi\": 244, \"chain\": \"A\"},{\"sphere\": {\"color\": \"yellow\", \"opacity\": 0.6}});\n\tviewer_16473767595812519.addStyle({\"resi\": 247, \"chain\": \"A\"},{\"stick\": {\"colorscheme\": \"yellowCarbon\", \"radius\": 0.2}});\n\tviewer_16473767595812519.addStyle({\"resi\": 247, \"chain\": \"A\"},{\"sphere\": {\"color\": \"yellow\", \"opacity\": 0.6}});\n\tviewer_16473767595812519.addStyle({\"resi\": 252, \"chain\": \"A\"},{\"stick\": {\"colorscheme\": \"yellowCarbon\", \"radius\": 0.2}});\n\tviewer_16473767595812519.addStyle({\"resi\": 252, \"chain\": \"A\"},{\"sphere\": {\"color\": \"yellow\", \"opacity\": 0.6}});\n\tviewer_16473767595812519.addStyle({\"resi\": 253, \"chain\": \"A\"},{\"stick\": {\"colorscheme\": \"yellowCarbon\", \"radius\": 0.2}});\n\tviewer_16473767595812519.addStyle({\"resi\": 253, \"chain\": \"A\"},{\"sphere\": {\"color\": \"yellow\", \"opacity\": 0.6}});\n\tviewer_16473767595812519.addStyle({\"resi\": 255, \"chain\": \"A\"},{\"stick\": {\"colorscheme\": \"yellowCarbon\", \"radius\": 0.2}});\n\tviewer_16473767595812519.addStyle({\"resi\": 255, \"chain\": \"A\"},{\"sphere\": {\"color\": \"yellow\", \"opacity\": 0.6}});\n\tviewer_16473767595812519.addStyle({\"resi\": 256, \"chain\": \"A\"},{\"stick\": {\"colorscheme\": \"yellowCarbon\", \"radius\": 0.2}});\n\tviewer_16473767595812519.addStyle({\"resi\": 256, \"chain\": \"A\"},{\"sphere\": {\"color\": \"yellow\", \"opacity\": 0.6}});\n\tviewer_16473767595812519.addStyle({\"resi\": 257, \"chain\": \"A\"},{\"stick\": {\"colorscheme\": \"yellowCarbon\", \"radius\": 0.2}});\n\tviewer_16473767595812519.addStyle({\"resi\": 257, \"chain\": \"A\"},{\"sphere\": {\"color\": \"yellow\", \"opacity\": 0.6}});\n\tviewer_16473767595812519.addStyle({\"resi\": 259, \"chain\": \"A\"},{\"stick\": {\"colorscheme\": \"yellowCarbon\", \"radius\": 0.2}});\n\tviewer_16473767595812519.addStyle({\"resi\": 259, \"chain\": \"A\"},{\"sphere\": {\"color\": \"yellow\", \"opacity\": 0.6}});\n\tviewer_16473767595812519.addStyle({\"resi\": 259, \"chain\": \"A\"},{\"stick\": {\"colorscheme\": \"yellowCarbon\", \"radius\": 0.2}});\n\tviewer_16473767595812519.addStyle({\"resi\": 259, \"chain\": \"A\"},{\"sphere\": {\"color\": \"yellow\", \"opacity\": 0.6}});\n\tviewer_16473767595812519.addStyle({\"resi\": 260, \"chain\": \"A\"},{\"stick\": {\"colorscheme\": \"yellowCarbon\", \"radius\": 0.2}});\n\tviewer_16473767595812519.addStyle({\"resi\": 260, \"chain\": \"A\"},{\"sphere\": {\"color\": \"yellow\", \"opacity\": 0.6}});\n\tviewer_16473767595812519.addStyle({\"resi\": 264, \"chain\": \"A\"},{\"stick\": {\"colorscheme\": \"yellowCarbon\", \"radius\": 0.2}});\n\tviewer_16473767595812519.addStyle({\"resi\": 264, \"chain\": \"A\"},{\"sphere\": {\"color\": \"yellow\", \"opacity\": 0.6}});\n\tviewer_16473767595812519.addStyle({\"resi\": 265, \"chain\": \"A\"},{\"stick\": {\"colorscheme\": \"yellowCarbon\", \"radius\": 0.2}});\n\tviewer_16473767595812519.addStyle({\"resi\": 265, \"chain\": \"A\"},{\"sphere\": {\"color\": \"yellow\", \"opacity\": 0.6}});\n\tviewer_16473767595812519.addStyle({\"resi\": 265, \"chain\": \"A\"},{\"stick\": {\"colorscheme\": \"yellowCarbon\", \"radius\": 0.2}});\n\tviewer_16473767595812519.addStyle({\"resi\": 265, \"chain\": \"A\"},{\"sphere\": {\"color\": \"yellow\", \"opacity\": 0.6}});\n\tviewer_16473767595812519.addStyle({\"resi\": 267, \"chain\": \"A\"},{\"stick\": {\"colorscheme\": \"yellowCarbon\", \"radius\": 0.2}});\n\tviewer_16473767595812519.addStyle({\"resi\": 267, \"chain\": \"A\"},{\"sphere\": {\"color\": \"yellow\", \"opacity\": 0.6}});\n\tviewer_16473767595812519.addStyle({\"resi\": 269, \"chain\": \"A\"},{\"stick\": {\"colorscheme\": \"yellowCarbon\", \"radius\": 0.2}});\n\tviewer_16473767595812519.addStyle({\"resi\": 269, \"chain\": \"A\"},{\"sphere\": {\"color\": \"yellow\", \"opacity\": 0.6}});\n\tviewer_16473767595812519.addStyle({\"resi\": 274, \"chain\": \"A\"},{\"stick\": {\"colorscheme\": \"yellowCarbon\", \"radius\": 0.2}});\n\tviewer_16473767595812519.addStyle({\"resi\": 274, \"chain\": \"A\"},{\"sphere\": {\"color\": \"yellow\", \"opacity\": 0.6}});\n\tviewer_16473767595812519.addStyle({\"resi\": 276, \"chain\": \"A\"},{\"stick\": {\"colorscheme\": \"yellowCarbon\", \"radius\": 0.2}});\n\tviewer_16473767595812519.addStyle({\"resi\": 276, \"chain\": \"A\"},{\"sphere\": {\"color\": \"yellow\", \"opacity\": 0.6}});\n\tviewer_16473767595812519.addStyle({\"resi\": 281, \"chain\": \"A\"},{\"stick\": {\"colorscheme\": \"yellowCarbon\", \"radius\": 0.2}});\n\tviewer_16473767595812519.addStyle({\"resi\": 281, \"chain\": \"A\"},{\"sphere\": {\"color\": \"yellow\", \"opacity\": 0.6}});\n\tviewer_16473767595812519.addStyle({\"resi\": 284, \"chain\": \"A\"},{\"stick\": {\"colorscheme\": \"yellowCarbon\", \"radius\": 0.2}});\n\tviewer_16473767595812519.addStyle({\"resi\": 284, \"chain\": \"A\"},{\"sphere\": {\"color\": \"yellow\", \"opacity\": 0.6}});\n\tviewer_16473767595812519.addStyle({\"resi\": 290, \"chain\": \"A\"},{\"stick\": {\"colorscheme\": \"yellowCarbon\", \"radius\": 0.2}});\n\tviewer_16473767595812519.addStyle({\"resi\": 290, \"chain\": \"A\"},{\"sphere\": {\"color\": \"yellow\", \"opacity\": 0.6}});\n\tviewer_16473767595812519.addStyle({\"resi\": 292, \"chain\": \"A\"},{\"stick\": {\"colorscheme\": \"yellowCarbon\", \"radius\": 0.2}});\n\tviewer_16473767595812519.addStyle({\"resi\": 292, \"chain\": \"A\"},{\"sphere\": {\"color\": \"yellow\", \"opacity\": 0.6}});\n\tviewer_16473767595812519.addStyle({\"resi\": 292, \"chain\": \"A\"},{\"stick\": {\"colorscheme\": \"yellowCarbon\", \"radius\": 0.2}});\n\tviewer_16473767595812519.addStyle({\"resi\": 292, \"chain\": \"A\"},{\"sphere\": {\"color\": \"yellow\", \"opacity\": 0.6}});\n\tviewer_16473767595812519.addStyle({\"resi\": 292, \"chain\": \"A\"},{\"stick\": {\"colorscheme\": \"yellowCarbon\", \"radius\": 0.2}});\n\tviewer_16473767595812519.addStyle({\"resi\": 292, \"chain\": \"A\"},{\"sphere\": {\"color\": \"yellow\", \"opacity\": 0.6}});\n\tviewer_16473767595812519.addStyle({\"resi\": 297, \"chain\": \"A\"},{\"stick\": {\"colorscheme\": \"yellowCarbon\", \"radius\": 0.2}});\n\tviewer_16473767595812519.addStyle({\"resi\": 297, \"chain\": \"A\"},{\"sphere\": {\"color\": \"yellow\", \"opacity\": 0.6}});\n\tviewer_16473767595812519.addStyle({\"resi\": 298, \"chain\": \"A\"},{\"stick\": {\"colorscheme\": \"yellowCarbon\", \"radius\": 0.2}});\n\tviewer_16473767595812519.addStyle({\"resi\": 298, \"chain\": \"A\"},{\"sphere\": {\"color\": \"yellow\", \"opacity\": 0.6}});\n\tviewer_16473767595812519.addStyle({\"resi\": 300, \"chain\": \"A\"},{\"stick\": {\"colorscheme\": \"yellowCarbon\", \"radius\": 0.2}});\n\tviewer_16473767595812519.addStyle({\"resi\": 300, \"chain\": \"A\"},{\"sphere\": {\"color\": \"yellow\", \"opacity\": 0.6}});\n\tviewer_16473767595812519.addStyle({\"resi\": 301, \"chain\": \"A\"},{\"stick\": {\"colorscheme\": \"yellowCarbon\", \"radius\": 0.2}});\n\tviewer_16473767595812519.addStyle({\"resi\": 301, \"chain\": \"A\"},{\"sphere\": {\"color\": \"yellow\", \"opacity\": 0.6}});\n\tviewer_16473767595812519.addStyle({\"resi\": 304, \"chain\": \"A\"},{\"stick\": {\"colorscheme\": \"yellowCarbon\", \"radius\": 0.2}});\n\tviewer_16473767595812519.addStyle({\"resi\": 304, \"chain\": \"A\"},{\"sphere\": {\"color\": \"yellow\", \"opacity\": 0.6}});\n\tviewer_16473767595812519.addStyle({\"resi\": 304, \"chain\": \"A\"},{\"stick\": {\"colorscheme\": \"yellowCarbon\", \"radius\": 0.2}});\n\tviewer_16473767595812519.addStyle({\"resi\": 304, \"chain\": \"A\"},{\"sphere\": {\"color\": \"yellow\", \"opacity\": 0.6}});\n\tviewer_16473767595812519.addStyle({\"resi\": 307, \"chain\": \"A\"},{\"stick\": {\"colorscheme\": \"yellowCarbon\", \"radius\": 0.2}});\n\tviewer_16473767595812519.addStyle({\"resi\": 307, \"chain\": \"A\"},{\"sphere\": {\"color\": \"yellow\", \"opacity\": 0.6}});\n\tviewer_16473767595812519.addStyle({\"resi\": 320, \"chain\": \"A\"},{\"stick\": {\"colorscheme\": \"yellowCarbon\", \"radius\": 0.2}});\n\tviewer_16473767595812519.addStyle({\"resi\": 320, \"chain\": \"A\"},{\"sphere\": {\"color\": \"yellow\", \"opacity\": 0.6}});\n\tviewer_16473767595812519.addStyle({\"resi\": 324, \"chain\": \"A\"},{\"stick\": {\"colorscheme\": \"yellowCarbon\", \"radius\": 0.2}});\n\tviewer_16473767595812519.addStyle({\"resi\": 324, \"chain\": \"A\"},{\"sphere\": {\"color\": \"yellow\", \"opacity\": 0.6}});\n\tviewer_16473767595812519.addStyle({\"resi\": 325, \"chain\": \"A\"},{\"stick\": {\"colorscheme\": \"yellowCarbon\", \"radius\": 0.2}});\n\tviewer_16473767595812519.addStyle({\"resi\": 325, \"chain\": \"A\"},{\"sphere\": {\"color\": \"yellow\", \"opacity\": 0.6}});\n\tviewer_16473767595812519.addStyle({\"resi\": 328, \"chain\": \"A\"},{\"stick\": {\"colorscheme\": \"yellowCarbon\", \"radius\": 0.2}});\n\tviewer_16473767595812519.addStyle({\"resi\": 328, \"chain\": \"A\"},{\"sphere\": {\"color\": \"yellow\", \"opacity\": 0.6}});\n\tviewer_16473767595812519.addStyle({\"resi\": 328, \"chain\": \"A\"},{\"stick\": {\"colorscheme\": \"yellowCarbon\", \"radius\": 0.2}});\n\tviewer_16473767595812519.addStyle({\"resi\": 328, \"chain\": \"A\"},{\"sphere\": {\"color\": \"yellow\", \"opacity\": 0.6}});\n\tviewer_16473767595812519.addStyle({\"resi\": 328, \"chain\": \"A\"},{\"stick\": {\"colorscheme\": \"yellowCarbon\", \"radius\": 0.2}});\n\tviewer_16473767595812519.addStyle({\"resi\": 328, \"chain\": \"A\"},{\"sphere\": {\"color\": \"yellow\", \"opacity\": 0.6}});\n\tviewer_16473767595812519.addStyle({\"resi\": 329, \"chain\": \"A\"},{\"stick\": {\"colorscheme\": \"yellowCarbon\", \"radius\": 0.2}});\n\tviewer_16473767595812519.addStyle({\"resi\": 329, \"chain\": \"A\"},{\"sphere\": {\"color\": \"yellow\", \"opacity\": 0.6}});\n\tviewer_16473767595812519.addStyle({\"resi\": 329, \"chain\": \"A\"},{\"stick\": {\"colorscheme\": \"yellowCarbon\", \"radius\": 0.2}});\n\tviewer_16473767595812519.addStyle({\"resi\": 329, \"chain\": \"A\"},{\"sphere\": {\"color\": \"yellow\", \"opacity\": 0.6}});\n\tviewer_16473767595812519.addStyle({\"resi\": 330, \"chain\": \"A\"},{\"stick\": {\"colorscheme\": \"yellowCarbon\", \"radius\": 0.2}});\n\tviewer_16473767595812519.addStyle({\"resi\": 330, \"chain\": \"A\"},{\"sphere\": {\"color\": \"yellow\", \"opacity\": 0.6}});\n\tviewer_16473767595812519.addStyle({\"resi\": 333, \"chain\": \"A\"},{\"stick\": {\"colorscheme\": \"yellowCarbon\", \"radius\": 0.2}});\n\tviewer_16473767595812519.addStyle({\"resi\": 333, \"chain\": \"A\"},{\"sphere\": {\"color\": \"yellow\", \"opacity\": 0.6}});\n\tviewer_16473767595812519.addStyle({\"resi\": 334, \"chain\": \"A\"},{\"stick\": {\"colorscheme\": \"yellowCarbon\", \"radius\": 0.2}});\n\tviewer_16473767595812519.addStyle({\"resi\": 334, \"chain\": \"A\"},{\"sphere\": {\"color\": \"yellow\", \"opacity\": 0.6}});\n\tviewer_16473767595812519.addStyle({\"resi\": 335, \"chain\": \"A\"},{\"stick\": {\"colorscheme\": \"yellowCarbon\", \"radius\": 0.2}});\n\tviewer_16473767595812519.addStyle({\"resi\": 335, \"chain\": \"A\"},{\"sphere\": {\"color\": \"yellow\", \"opacity\": 0.6}});\n\tviewer_16473767595812519.addStyle({\"resi\": 337, \"chain\": \"A\"},{\"stick\": {\"colorscheme\": \"yellowCarbon\", \"radius\": 0.2}});\n\tviewer_16473767595812519.addStyle({\"resi\": 337, \"chain\": \"A\"},{\"sphere\": {\"color\": \"yellow\", \"opacity\": 0.6}});\n\tviewer_16473767595812519.addStyle({\"resi\": 340, \"chain\": \"A\"},{\"stick\": {\"colorscheme\": \"yellowCarbon\", \"radius\": 0.2}});\n\tviewer_16473767595812519.addStyle({\"resi\": 340, \"chain\": \"A\"},{\"sphere\": {\"color\": \"yellow\", \"opacity\": 0.6}});\n\tviewer_16473767595812519.addStyle({\"resi\": 341, \"chain\": \"A\"},{\"stick\": {\"colorscheme\": \"yellowCarbon\", \"radius\": 0.2}});\n\tviewer_16473767595812519.addStyle({\"resi\": 341, \"chain\": \"A\"},{\"sphere\": {\"color\": \"yellow\", \"opacity\": 0.6}});\n\tviewer_16473767595812519.addStyle({\"resi\": 343, \"chain\": \"A\"},{\"stick\": {\"colorscheme\": \"yellowCarbon\", \"radius\": 0.2}});\n\tviewer_16473767595812519.addStyle({\"resi\": 343, \"chain\": \"A\"},{\"sphere\": {\"color\": \"yellow\", \"opacity\": 0.6}});\n\tviewer_16473767595812519.addStyle({\"resi\": 343, \"chain\": \"A\"},{\"stick\": {\"colorscheme\": \"yellowCarbon\", \"radius\": 0.2}});\n\tviewer_16473767595812519.addStyle({\"resi\": 343, \"chain\": \"A\"},{\"sphere\": {\"color\": \"yellow\", \"opacity\": 0.6}});\n\tviewer_16473767595812519.addStyle({\"resi\": 346, \"chain\": \"A\"},{\"stick\": {\"colorscheme\": \"yellowCarbon\", \"radius\": 0.2}});\n\tviewer_16473767595812519.addStyle({\"resi\": 346, \"chain\": \"A\"},{\"sphere\": {\"color\": \"yellow\", \"opacity\": 0.6}});\n\tviewer_16473767595812519.addStyle({\"resi\": 349, \"chain\": \"A\"},{\"stick\": {\"colorscheme\": \"yellowCarbon\", \"radius\": 0.2}});\n\tviewer_16473767595812519.addStyle({\"resi\": 349, \"chain\": \"A\"},{\"sphere\": {\"color\": \"yellow\", \"opacity\": 0.6}});\n\tviewer_16473767595812519.addStyle({\"resi\": 357, \"chain\": \"A\"},{\"stick\": {\"colorscheme\": \"yellowCarbon\", \"radius\": 0.2}});\n\tviewer_16473767595812519.addStyle({\"resi\": 357, \"chain\": \"A\"},{\"sphere\": {\"color\": \"yellow\", \"opacity\": 0.6}});\n\tviewer_16473767595812519.addStyle({\"resi\": 358, \"chain\": \"A\"},{\"stick\": {\"colorscheme\": \"yellowCarbon\", \"radius\": 0.2}});\n\tviewer_16473767595812519.addStyle({\"resi\": 358, \"chain\": \"A\"},{\"sphere\": {\"color\": \"yellow\", \"opacity\": 0.6}});\n\tviewer_16473767595812519.addStyle({\"resi\": 358, \"chain\": \"A\"},{\"stick\": {\"colorscheme\": \"yellowCarbon\", \"radius\": 0.2}});\n\tviewer_16473767595812519.addStyle({\"resi\": 358, \"chain\": \"A\"},{\"sphere\": {\"color\": \"yellow\", \"opacity\": 0.6}});\n\tviewer_16473767595812519.addStyle({\"resi\": 358, \"chain\": \"A\"},{\"stick\": {\"colorscheme\": \"yellowCarbon\", \"radius\": 0.2}});\n\tviewer_16473767595812519.addStyle({\"resi\": 358, \"chain\": \"A\"},{\"sphere\": {\"color\": \"yellow\", \"opacity\": 0.6}});\n\tviewer_16473767595812519.addStyle({\"resi\": 364, \"chain\": \"A\"},{\"stick\": {\"colorscheme\": \"yellowCarbon\", \"radius\": 0.2}});\n\tviewer_16473767595812519.addStyle({\"resi\": 364, \"chain\": \"A\"},{\"sphere\": {\"color\": \"yellow\", \"opacity\": 0.6}});\n\tviewer_16473767595812519.addStyle({\"resi\": 367, \"chain\": \"A\"},{\"stick\": {\"colorscheme\": \"yellowCarbon\", \"radius\": 0.2}});\n\tviewer_16473767595812519.addStyle({\"resi\": 367, \"chain\": \"A\"},{\"sphere\": {\"color\": \"yellow\", \"opacity\": 0.6}});\n\tviewer_16473767595812519.addStyle({\"resi\": 367, \"chain\": \"A\"},{\"stick\": {\"colorscheme\": \"yellowCarbon\", \"radius\": 0.2}});\n\tviewer_16473767595812519.addStyle({\"resi\": 367, \"chain\": \"A\"},{\"sphere\": {\"color\": \"yellow\", \"opacity\": 0.6}});\n\tviewer_16473767595812519.addStyle({\"resi\": 369, \"chain\": \"A\"},{\"stick\": {\"colorscheme\": \"yellowCarbon\", \"radius\": 0.2}});\n\tviewer_16473767595812519.addStyle({\"resi\": 369, \"chain\": \"A\"},{\"sphere\": {\"color\": \"yellow\", \"opacity\": 0.6}});\n\tviewer_16473767595812519.addStyle({\"resi\": 370, \"chain\": \"A\"},{\"stick\": {\"colorscheme\": \"yellowCarbon\", \"radius\": 0.2}});\n\tviewer_16473767595812519.addStyle({\"resi\": 370, \"chain\": \"A\"},{\"sphere\": {\"color\": \"yellow\", \"opacity\": 0.6}});\n\tviewer_16473767595812519.addStyle({\"resi\": 370, \"chain\": \"A\"},{\"stick\": {\"colorscheme\": \"yellowCarbon\", \"radius\": 0.2}});\n\tviewer_16473767595812519.addStyle({\"resi\": 370, \"chain\": \"A\"},{\"sphere\": {\"color\": \"yellow\", \"opacity\": 0.6}});\n\tviewer_16473767595812519.addStyle({\"resi\": 373, \"chain\": \"A\"},{\"stick\": {\"colorscheme\": \"yellowCarbon\", \"radius\": 0.2}});\n\tviewer_16473767595812519.addStyle({\"resi\": 373, \"chain\": \"A\"},{\"sphere\": {\"color\": \"yellow\", \"opacity\": 0.6}});\n\tviewer_16473767595812519.addStyle({\"resi\": 374, \"chain\": \"A\"},{\"stick\": {\"colorscheme\": \"yellowCarbon\", \"radius\": 0.2}});\n\tviewer_16473767595812519.addStyle({\"resi\": 374, \"chain\": \"A\"},{\"sphere\": {\"color\": \"yellow\", \"opacity\": 0.6}});\n\tviewer_16473767595812519.addStyle({\"resi\": 375, \"chain\": \"A\"},{\"stick\": {\"colorscheme\": \"yellowCarbon\", \"radius\": 0.2}});\n\tviewer_16473767595812519.addStyle({\"resi\": 375, \"chain\": \"A\"},{\"sphere\": {\"color\": \"yellow\", \"opacity\": 0.6}});\n\tviewer_16473767595812519.addStyle({\"resi\": 380, \"chain\": \"A\"},{\"stick\": {\"colorscheme\": \"yellowCarbon\", \"radius\": 0.2}});\n\tviewer_16473767595812519.addStyle({\"resi\": 380, \"chain\": \"A\"},{\"sphere\": {\"color\": \"yellow\", \"opacity\": 0.6}});\n\tviewer_16473767595812519.addStyle({\"resi\": 381, \"chain\": \"A\"},{\"stick\": {\"colorscheme\": \"yellowCarbon\", \"radius\": 0.2}});\n\tviewer_16473767595812519.addStyle({\"resi\": 381, \"chain\": \"A\"},{\"sphere\": {\"color\": \"yellow\", \"opacity\": 0.6}});\n\tviewer_16473767595812519.addStyle({\"resi\": 382, \"chain\": \"A\"},{\"stick\": {\"colorscheme\": \"yellowCarbon\", \"radius\": 0.2}});\n\tviewer_16473767595812519.addStyle({\"resi\": 382, \"chain\": \"A\"},{\"sphere\": {\"color\": \"yellow\", \"opacity\": 0.6}});\n\tviewer_16473767595812519.addStyle({\"resi\": 383, \"chain\": \"A\"},{\"stick\": {\"colorscheme\": \"yellowCarbon\", \"radius\": 0.2}});\n\tviewer_16473767595812519.addStyle({\"resi\": 383, \"chain\": \"A\"},{\"sphere\": {\"color\": \"yellow\", \"opacity\": 0.6}});\n\tviewer_16473767595812519.addStyle({\"resi\": 384, \"chain\": \"A\"},{\"stick\": {\"colorscheme\": \"yellowCarbon\", \"radius\": 0.2}});\n\tviewer_16473767595812519.addStyle({\"resi\": 384, \"chain\": \"A\"},{\"sphere\": {\"color\": \"yellow\", \"opacity\": 0.6}});\n\tviewer_16473767595812519.addStyle({\"resi\": 384, \"chain\": \"A\"},{\"stick\": {\"colorscheme\": \"yellowCarbon\", \"radius\": 0.2}});\n\tviewer_16473767595812519.addStyle({\"resi\": 384, \"chain\": \"A\"},{\"sphere\": {\"color\": \"yellow\", \"opacity\": 0.6}});\n\tviewer_16473767595812519.addStyle({\"resi\": 386, \"chain\": \"A\"},{\"stick\": {\"colorscheme\": \"yellowCarbon\", \"radius\": 0.2}});\n\tviewer_16473767595812519.addStyle({\"resi\": 386, \"chain\": \"A\"},{\"sphere\": {\"color\": \"yellow\", \"opacity\": 0.6}});\n\tviewer_16473767595812519.addStyle({\"resi\": 388, \"chain\": \"A\"},{\"stick\": {\"colorscheme\": \"yellowCarbon\", \"radius\": 0.2}});\n\tviewer_16473767595812519.addStyle({\"resi\": 388, \"chain\": \"A\"},{\"sphere\": {\"color\": \"yellow\", \"opacity\": 0.6}});\n\tviewer_16473767595812519.addStyle({\"resi\": 389, \"chain\": \"A\"},{\"stick\": {\"colorscheme\": \"yellowCarbon\", \"radius\": 0.2}});\n\tviewer_16473767595812519.addStyle({\"resi\": 389, \"chain\": \"A\"},{\"sphere\": {\"color\": \"yellow\", \"opacity\": 0.6}});\n\tviewer_16473767595812519.addStyle({\"resi\": 390, \"chain\": \"A\"},{\"stick\": {\"colorscheme\": \"yellowCarbon\", \"radius\": 0.2}});\n\tviewer_16473767595812519.addStyle({\"resi\": 390, \"chain\": \"A\"},{\"sphere\": {\"color\": \"yellow\", \"opacity\": 0.6}});\n\tviewer_16473767595812519.addStyle({\"resi\": 392, \"chain\": \"A\"},{\"stick\": {\"colorscheme\": \"yellowCarbon\", \"radius\": 0.2}});\n\tviewer_16473767595812519.addStyle({\"resi\": 392, \"chain\": \"A\"},{\"sphere\": {\"color\": \"yellow\", \"opacity\": 0.6}});\n\tviewer_16473767595812519.addStyle({\"resi\": 394, \"chain\": \"A\"},{\"stick\": {\"colorscheme\": \"yellowCarbon\", \"radius\": 0.2}});\n\tviewer_16473767595812519.addStyle({\"resi\": 394, \"chain\": \"A\"},{\"sphere\": {\"color\": \"yellow\", \"opacity\": 0.6}});\n\tviewer_16473767595812519.addStyle({\"resi\": 395, \"chain\": \"A\"},{\"stick\": {\"colorscheme\": \"yellowCarbon\", \"radius\": 0.2}});\n\tviewer_16473767595812519.addStyle({\"resi\": 395, \"chain\": \"A\"},{\"sphere\": {\"color\": \"yellow\", \"opacity\": 0.6}});\n\tviewer_16473767595812519.addStyle({\"resi\": 397, \"chain\": \"A\"},{\"stick\": {\"colorscheme\": \"yellowCarbon\", \"radius\": 0.2}});\n\tviewer_16473767595812519.addStyle({\"resi\": 397, \"chain\": \"A\"},{\"sphere\": {\"color\": \"yellow\", \"opacity\": 0.6}});\n\tviewer_16473767595812519.addStyle({\"resi\": 398, \"chain\": \"A\"},{\"stick\": {\"colorscheme\": \"yellowCarbon\", \"radius\": 0.2}});\n\tviewer_16473767595812519.addStyle({\"resi\": 398, \"chain\": \"A\"},{\"sphere\": {\"color\": \"yellow\", \"opacity\": 0.6}});\n\tviewer_16473767595812519.addStyle({\"resi\": 400, \"chain\": \"A\"},{\"stick\": {\"colorscheme\": \"yellowCarbon\", \"radius\": 0.2}});\n\tviewer_16473767595812519.addStyle({\"resi\": 400, \"chain\": \"A\"},{\"sphere\": {\"color\": \"yellow\", \"opacity\": 0.6}});\n\tviewer_16473767595812519.addStyle({\"resi\": 402, \"chain\": \"A\"},{\"stick\": {\"colorscheme\": \"yellowCarbon\", \"radius\": 0.2}});\n\tviewer_16473767595812519.addStyle({\"resi\": 402, \"chain\": \"A\"},{\"sphere\": {\"color\": \"yellow\", \"opacity\": 0.6}});\n\tviewer_16473767595812519.addStyle({\"resi\": 406, \"chain\": \"A\"},{\"stick\": {\"colorscheme\": \"yellowCarbon\", \"radius\": 0.2}});\n\tviewer_16473767595812519.addStyle({\"resi\": 406, \"chain\": \"A\"},{\"sphere\": {\"color\": \"yellow\", \"opacity\": 0.6}});\n\tviewer_16473767595812519.addStyle({\"resi\": 406, \"chain\": \"A\"},{\"stick\": {\"colorscheme\": \"yellowCarbon\", \"radius\": 0.2}});\n\tviewer_16473767595812519.addStyle({\"resi\": 406, \"chain\": \"A\"},{\"sphere\": {\"color\": \"yellow\", \"opacity\": 0.6}});\n\tviewer_16473767595812519.addStyle({\"resi\": 407, \"chain\": \"A\"},{\"stick\": {\"colorscheme\": \"yellowCarbon\", \"radius\": 0.2}});\n\tviewer_16473767595812519.addStyle({\"resi\": 407, \"chain\": \"A\"},{\"sphere\": {\"color\": \"yellow\", \"opacity\": 0.6}});\n\tviewer_16473767595812519.addStyle({\"resi\": 407, \"chain\": \"A\"},{\"stick\": {\"colorscheme\": \"yellowCarbon\", \"radius\": 0.2}});\n\tviewer_16473767595812519.addStyle({\"resi\": 407, \"chain\": \"A\"},{\"sphere\": {\"color\": \"yellow\", \"opacity\": 0.6}});\n\tviewer_16473767595812519.addStyle({\"resi\": 410, \"chain\": \"A\"},{\"stick\": {\"colorscheme\": \"yellowCarbon\", \"radius\": 0.2}});\n\tviewer_16473767595812519.addStyle({\"resi\": 410, \"chain\": \"A\"},{\"sphere\": {\"color\": \"yellow\", \"opacity\": 0.6}});\n\tviewer_16473767595812519.addStyle({\"resi\": 412, \"chain\": \"A\"},{\"stick\": {\"colorscheme\": \"yellowCarbon\", \"radius\": 0.2}});\n\tviewer_16473767595812519.addStyle({\"resi\": 412, \"chain\": \"A\"},{\"sphere\": {\"color\": \"yellow\", \"opacity\": 0.6}});\n\tviewer_16473767595812519.zoomTo({\"resi\": [3, 4, 5, 7, 7, 7, 8, 8, 9, 10, 15, 15, 16, 19, 19, 22, 22, 25, 25, 25, 27, 27, 30, 34, 34, 35, 35, 36, 37, 39, 39, 40, 40, 41, 42, 43, 44, 48, 52, 54, 57, 59, 60, 62, 66, 69, 73, 74, 82, 83, 83, 84, 88, 89, 91, 92, 95, 97, 97, 98, 108, 110, 116, 123, 128, 128, 135, 136, 140, 140, 143, 151, 151, 156, 157, 164, 169, 169, 175, 176, 176, 178, 178, 179, 179, 182, 186, 186, 187, 190, 193, 201, 201, 213, 216, 218, 220, 220, 221, 224, 228, 232, 233, 235, 237, 243, 244, 247, 252, 253, 255, 256, 257, 259, 259, 260, 264, 265, 265, 267, 269, 274, 276, 281, 284, 290, 292, 292, 292, 297, 298, 300, 301, 304, 304, 307, 320, 324, 325, 328, 328, 328, 329, 329, 330, 333, 334, 335, 337, 340, 341, 343, 343, 346, 349, 357, 358, 358, 358, 364, 367, 367, 369, 370, 370, 373, 374, 375, 380, 381, 382, 383, 384, 384, 386, 388, 389, 390, 392, 394, 395, 397, 398, 400, 402, 406, 406, 407, 407, 410, 412], \"chain\": \"A\"});\nviewer_16473767595812519.render();\n})\n});\n</script>"
                },
                "metadata": {},
                "output_type": "display_data"
              }
            ]
          }
        },
        "2e657f6a900342a8aeec1cbce8463e52": {
          "model_module": "@jupyter-widgets/controls",
          "model_module_version": "1.5.0",
          "model_name": "CheckboxModel",
          "state": {
            "_dom_classes": [],
            "_model_module": "@jupyter-widgets/controls",
            "_model_module_version": "1.5.0",
            "_model_name": "CheckboxModel",
            "_view_count": null,
            "_view_module": "@jupyter-widgets/controls",
            "_view_module_version": "1.5.0",
            "_view_name": "CheckboxView",
            "description": "show_bio_assembly",
            "description_tooltip": null,
            "disabled": false,
            "indent": true,
            "layout": "IPY_MODEL_c08db9c056d6463f8f7c284f99511a48",
            "style": "IPY_MODEL_d61c7892dc3b471287d695ea38728149",
            "value": false
          }
        },
        "2ea1bd7825694b3db470564ae4be657b": {
          "model_module": "@jupyter-widgets/controls",
          "model_module_version": "1.5.0",
          "model_name": "CheckboxModel",
          "state": {
            "_dom_classes": [],
            "_model_module": "@jupyter-widgets/controls",
            "_model_module_version": "1.5.0",
            "_model_name": "CheckboxModel",
            "_view_count": null,
            "_view_module": "@jupyter-widgets/controls",
            "_view_module_version": "1.5.0",
            "_view_name": "CheckboxView",
            "description": "show_labels",
            "description_tooltip": null,
            "disabled": false,
            "indent": true,
            "layout": "IPY_MODEL_961ef64f420c48229192cffee2233bd7",
            "style": "IPY_MODEL_310bf469b7d34d58944b0e2e66443b46",
            "value": true
          }
        },
        "310bf469b7d34d58944b0e2e66443b46": {
          "model_module": "@jupyter-widgets/controls",
          "model_module_version": "1.5.0",
          "model_name": "DescriptionStyleModel",
          "state": {
            "_model_module": "@jupyter-widgets/controls",
            "_model_module_version": "1.5.0",
            "_model_name": "DescriptionStyleModel",
            "_view_count": null,
            "_view_module": "@jupyter-widgets/base",
            "_view_module_version": "1.2.0",
            "_view_name": "StyleView",
            "description_width": ""
          }
        },
        "3128744141ff41fc99efad48af83b58c": {
          "model_module": "@jupyter-widgets/controls",
          "model_module_version": "1.5.0",
          "model_name": "CheckboxModel",
          "state": {
            "_dom_classes": [],
            "_model_module": "@jupyter-widgets/controls",
            "_model_module_version": "1.5.0",
            "_model_name": "CheckboxModel",
            "_view_count": null,
            "_view_module": "@jupyter-widgets/controls",
            "_view_module_version": "1.5.0",
            "_view_name": "CheckboxView",
            "description": "show_bio_assembly",
            "description_tooltip": null,
            "disabled": false,
            "indent": true,
            "layout": "IPY_MODEL_f2e97ad1564141b18f8f87641b8ad9bf",
            "style": "IPY_MODEL_78fa9ef4c8c14777b37da000fa4e0634",
            "value": false
          }
        },
        "3e96596ae35b4405802a2298286a4c70": {
          "model_module": "@jupyter-widgets/base",
          "model_module_version": "1.2.0",
          "model_name": "LayoutModel",
          "state": {
            "_model_module": "@jupyter-widgets/base",
            "_model_module_version": "1.2.0",
            "_model_name": "LayoutModel",
            "_view_count": null,
            "_view_module": "@jupyter-widgets/base",
            "_view_module_version": "1.2.0",
            "_view_name": "LayoutView",
            "align_content": null,
            "align_items": null,
            "align_self": null,
            "border": null,
            "bottom": null,
            "display": null,
            "flex": null,
            "flex_flow": null,
            "grid_area": null,
            "grid_auto_columns": null,
            "grid_auto_flow": null,
            "grid_auto_rows": null,
            "grid_column": null,
            "grid_gap": null,
            "grid_row": null,
            "grid_template_areas": null,
            "grid_template_columns": null,
            "grid_template_rows": null,
            "height": null,
            "justify_content": null,
            "justify_items": null,
            "left": null,
            "margin": null,
            "max_height": null,
            "max_width": null,
            "min_height": null,
            "min_width": null,
            "object_fit": null,
            "object_position": null,
            "order": null,
            "overflow": null,
            "overflow_x": null,
            "overflow_y": null,
            "padding": null,
            "right": null,
            "top": null,
            "visibility": null,
            "width": null
          }
        },
        "4460a52977ee4ecbbc2a13852db6fa60": {
          "model_module": "@jupyter-widgets/base",
          "model_module_version": "1.2.0",
          "model_name": "LayoutModel",
          "state": {
            "_model_module": "@jupyter-widgets/base",
            "_model_module_version": "1.2.0",
            "_model_name": "LayoutModel",
            "_view_count": null,
            "_view_module": "@jupyter-widgets/base",
            "_view_module_version": "1.2.0",
            "_view_name": "LayoutView",
            "align_content": null,
            "align_items": null,
            "align_self": null,
            "border": null,
            "bottom": null,
            "display": null,
            "flex": null,
            "flex_flow": null,
            "grid_area": null,
            "grid_auto_columns": null,
            "grid_auto_flow": null,
            "grid_auto_rows": null,
            "grid_column": null,
            "grid_gap": null,
            "grid_row": null,
            "grid_template_areas": null,
            "grid_template_columns": null,
            "grid_template_rows": null,
            "height": null,
            "justify_content": null,
            "justify_items": null,
            "left": null,
            "margin": null,
            "max_height": null,
            "max_width": null,
            "min_height": null,
            "min_width": null,
            "object_fit": null,
            "object_position": null,
            "order": null,
            "overflow": null,
            "overflow_x": null,
            "overflow_y": null,
            "padding": null,
            "right": null,
            "top": null,
            "visibility": null,
            "width": null
          }
        },
        "5401e74cd51b4e58acc1609945a42a15": {
          "model_module": "@jupyter-widgets/controls",
          "model_module_version": "1.5.0",
          "model_name": "IntSliderModel",
          "state": {
            "_dom_classes": [],
            "_model_module": "@jupyter-widgets/controls",
            "_model_module_version": "1.5.0",
            "_model_name": "IntSliderModel",
            "_view_count": null,
            "_view_module": "@jupyter-widgets/controls",
            "_view_module_version": "1.5.0",
            "_view_name": "IntSliderView",
            "continuous_update": false,
            "description": "Structure",
            "description_tooltip": null,
            "disabled": false,
            "layout": "IPY_MODEL_96ad2fd2c2a4453c99c6eecb30e4f9f7",
            "max": 0,
            "min": 0,
            "orientation": "horizontal",
            "readout": true,
            "readout_format": "d",
            "step": 1,
            "style": "IPY_MODEL_d0e1545811f74658be55abf8a0672244",
            "value": 0
          }
        },
        "58562d08a0af40119a7d639ef0a032ed": {
          "model_module": "@jupyter-widgets/controls",
          "model_module_version": "1.5.0",
          "model_name": "VBoxModel",
          "state": {
            "_dom_classes": [
              "widget-interact"
            ],
            "_model_module": "@jupyter-widgets/controls",
            "_model_module_version": "1.5.0",
            "_model_name": "VBoxModel",
            "_view_count": null,
            "_view_module": "@jupyter-widgets/controls",
            "_view_module_version": "1.5.0",
            "_view_name": "VBoxView",
            "box_style": "",
            "children": [
              "IPY_MODEL_2e657f6a900342a8aeec1cbce8463e52",
              "IPY_MODEL_5a396a3f747f4879a17e1dd68e78db3e",
              "IPY_MODEL_2ea1bd7825694b3db470564ae4be657b",
              "IPY_MODEL_f4ea2ec9a90a4ffc84e22a3dab67df8d",
              "IPY_MODEL_87017c27f070462d82a612f660359708"
            ],
            "layout": "IPY_MODEL_daa30ca7b6344aecbd6764c8b3c6851b"
          }
        },
        "5a396a3f747f4879a17e1dd68e78db3e": {
          "model_module": "@jupyter-widgets/controls",
          "model_module_version": "1.5.0",
          "model_name": "CheckboxModel",
          "state": {
            "_dom_classes": [],
            "_model_module": "@jupyter-widgets/controls",
            "_model_module_version": "1.5.0",
            "_model_name": "CheckboxModel",
            "_view_count": null,
            "_view_module": "@jupyter-widgets/controls",
            "_view_module_version": "1.5.0",
            "_view_name": "CheckboxView",
            "description": "show_surface",
            "description_tooltip": null,
            "disabled": false,
            "indent": true,
            "layout": "IPY_MODEL_4460a52977ee4ecbbc2a13852db6fa60",
            "style": "IPY_MODEL_e46dd0ff0c964178913504bac5c44579",
            "value": false
          }
        },
        "61e459893edc4393a003688ad4bc3074": {
          "model_module": "@jupyter-widgets/base",
          "model_module_version": "1.2.0",
          "model_name": "LayoutModel",
          "state": {
            "_model_module": "@jupyter-widgets/base",
            "_model_module_version": "1.2.0",
            "_model_name": "LayoutModel",
            "_view_count": null,
            "_view_module": "@jupyter-widgets/base",
            "_view_module_version": "1.2.0",
            "_view_name": "LayoutView",
            "align_content": null,
            "align_items": null,
            "align_self": null,
            "border": null,
            "bottom": null,
            "display": null,
            "flex": null,
            "flex_flow": null,
            "grid_area": null,
            "grid_auto_columns": null,
            "grid_auto_flow": null,
            "grid_auto_rows": null,
            "grid_column": null,
            "grid_gap": null,
            "grid_row": null,
            "grid_template_areas": null,
            "grid_template_columns": null,
            "grid_template_rows": null,
            "height": null,
            "justify_content": null,
            "justify_items": null,
            "left": null,
            "margin": null,
            "max_height": null,
            "max_width": null,
            "min_height": null,
            "min_width": null,
            "object_fit": null,
            "object_position": null,
            "order": null,
            "overflow": null,
            "overflow_x": null,
            "overflow_y": null,
            "padding": null,
            "right": null,
            "top": null,
            "visibility": null,
            "width": null
          }
        },
        "6b21e3413e754893b227386132f79a9a": {
          "model_module": "@jupyter-widgets/base",
          "model_module_version": "1.2.0",
          "model_name": "LayoutModel",
          "state": {
            "_model_module": "@jupyter-widgets/base",
            "_model_module_version": "1.2.0",
            "_model_name": "LayoutModel",
            "_view_count": null,
            "_view_module": "@jupyter-widgets/base",
            "_view_module_version": "1.2.0",
            "_view_name": "LayoutView",
            "align_content": null,
            "align_items": null,
            "align_self": null,
            "border": null,
            "bottom": null,
            "display": null,
            "flex": null,
            "flex_flow": null,
            "grid_area": null,
            "grid_auto_columns": null,
            "grid_auto_flow": null,
            "grid_auto_rows": null,
            "grid_column": null,
            "grid_gap": null,
            "grid_row": null,
            "grid_template_areas": null,
            "grid_template_columns": null,
            "grid_template_rows": null,
            "height": null,
            "justify_content": null,
            "justify_items": null,
            "left": null,
            "margin": null,
            "max_height": null,
            "max_width": null,
            "min_height": null,
            "min_width": null,
            "object_fit": null,
            "object_position": null,
            "order": null,
            "overflow": null,
            "overflow_x": null,
            "overflow_y": null,
            "padding": null,
            "right": null,
            "top": null,
            "visibility": null,
            "width": null
          }
        },
        "6fe0de7c2ebe4d53af1b782b4b81d69d": {
          "model_module": "@jupyter-widgets/controls",
          "model_module_version": "1.5.0",
          "model_name": "CheckboxModel",
          "state": {
            "_dom_classes": [],
            "_model_module": "@jupyter-widgets/controls",
            "_model_module_version": "1.5.0",
            "_model_name": "CheckboxModel",
            "_view_count": null,
            "_view_module": "@jupyter-widgets/controls",
            "_view_module_version": "1.5.0",
            "_view_name": "CheckboxView",
            "description": "show_surface",
            "description_tooltip": null,
            "disabled": false,
            "indent": true,
            "layout": "IPY_MODEL_61e459893edc4393a003688ad4bc3074",
            "style": "IPY_MODEL_f678145ae7f244faa6f71f86e0d11c55",
            "value": false
          }
        },
        "6ffd482a0ebd4053a67274f4f61f9f39": {
          "model_module": "@jupyter-widgets/controls",
          "model_module_version": "1.5.0",
          "model_name": "SliderStyleModel",
          "state": {
            "_model_module": "@jupyter-widgets/controls",
            "_model_module_version": "1.5.0",
            "_model_name": "SliderStyleModel",
            "_view_count": null,
            "_view_module": "@jupyter-widgets/base",
            "_view_module_version": "1.2.0",
            "_view_name": "StyleView",
            "description_width": "",
            "handle_color": null
          }
        },
        "78fa9ef4c8c14777b37da000fa4e0634": {
          "model_module": "@jupyter-widgets/controls",
          "model_module_version": "1.5.0",
          "model_name": "DescriptionStyleModel",
          "state": {
            "_model_module": "@jupyter-widgets/controls",
            "_model_module_version": "1.5.0",
            "_model_name": "DescriptionStyleModel",
            "_view_count": null,
            "_view_module": "@jupyter-widgets/base",
            "_view_module_version": "1.2.0",
            "_view_name": "StyleView",
            "description_width": ""
          }
        },
        "7d663cced7d54d10a9ba9c18673fb9d4": {
          "model_module": "@jupyter-widgets/controls",
          "model_module_version": "1.5.0",
          "model_name": "DescriptionStyleModel",
          "state": {
            "_model_module": "@jupyter-widgets/controls",
            "_model_module_version": "1.5.0",
            "_model_name": "DescriptionStyleModel",
            "_view_count": null,
            "_view_module": "@jupyter-widgets/base",
            "_view_module_version": "1.2.0",
            "_view_name": "StyleView",
            "description_width": ""
          }
        },
        "87017c27f070462d82a612f660359708": {
          "model_module": "@jupyter-widgets/output",
          "model_module_version": "1.0.0",
          "model_name": "OutputModel",
          "state": {
            "_dom_classes": [],
            "_model_module": "@jupyter-widgets/output",
            "_model_module_version": "1.0.0",
            "_model_name": "OutputModel",
            "_view_count": null,
            "_view_module": "@jupyter-widgets/output",
            "_view_module_version": "1.0.0",
            "_view_name": "OutputView",
            "layout": "IPY_MODEL_0a65fe8b433b49eab90249cd7ba47ed5",
            "msg_id": "",
            "outputs": [
              {
                "name": "stdout",
                "output_type": "stream",
                "text": [
                  "PDB Id: 2RH1 chain Id: A\n",
                  "proteinID: ADRB2\n"
                ]
              },
              {
                "data": {
                  "application/3dmoljs_load.v0": "<div id=\"3dmolviewer_16473767275619926\"  style=\"position: relative; width: 640px; height: 480px\">\n        <p id=\"3dmolwarning_16473767275619926\" style=\"background-color:#ffcccc;color:black\">You appear to be running in JupyterLab (or JavaScript failed to load for some other reason).  You need to install the 3dmol extension: <br>\n        <tt>jupyter labextension install jupyterlab_3dmol</tt></p>\n        </div>\n<script>\n\nvar loadScriptAsync = function(uri){\n  return new Promise((resolve, reject) => {\n    var tag = document.createElement('script');\n    tag.src = uri;\n    tag.async = true;\n    tag.onload = () => {\n      resolve();\n    };\n  var firstScriptTag = document.getElementsByTagName('script')[0];\n  firstScriptTag.parentNode.insertBefore(tag, firstScriptTag);\n});\n};\n\nif(typeof $3Dmolpromise === 'undefined') {\n$3Dmolpromise = null;\n  $3Dmolpromise = loadScriptAsync('https://3dmol.org/build/3Dmol.js');\n}\n\nvar viewer_16473767275619926 = null;\nvar warn = document.getElementById(\"3dmolwarning_16473767275619926\");\nif(warn) {\n    warn.parentNode.removeChild(warn);\n}\n$3Dmolpromise.then(function() {\nviewer_16473767275619926 = $3Dmol.createViewer($(\"#3dmolviewer_16473767275619926\"),{backgroundColor:\"white\"});\n$3Dmol.download(\"pdb:2RH1\", viewer_16473767275619926, {\"doAssembly\": false}, function() {\nviewer_16473767275619926.zoomTo();\n\tviewer_16473767275619926.setStyle({\"cartoon\": {\"colorscheme\": \"chain\", \"width\": 0.6, \"opacity\": 0.9}});\n\tviewer_16473767275619926.setStyle({\"hetflag\": true},{\"stick\": {\"radius\": 0.3, \"singleBond\": false}});\n\tviewer_16473767275619926.addStyle({\"chain\": \"A\", \"resi\": [16.0, 16.0, 16.0, 175.0, 164.0], \"byres\": true, \"expand\": 5},{\"stick\": {\"colorscheme\": \"orangeCarbon\", \"radius\": 0.15}});\n\tviewer_16473767275619926.addStyle({\"resi\": 16.0, \"chain\": \"A\"},{\"stick\": {\"colorscheme\": \"darkredCarbon\", \"radius\": 0.2}});\n\tviewer_16473767275619926.addStyle({\"resi\": 16.0, \"chain\": \"A\"},{\"sphere\": {\"color\": \"darkred\", \"opacity\": 0.6}});\n\tviewer_16473767275619926.addLabel(\"G16R LoE:2A\",{\"fontSize\": 10, \"fontColor\": \"darkred\", \"backgroundColor\": \"ivory\"},{\"resi\": 16.0, \"chain\": \"A\"});\n\tviewer_16473767275619926.addStyle({\"resi\": 16.0, \"chain\": \"A\"},{\"stick\": {\"colorscheme\": \"redCarbon\", \"radius\": 0.2}});\n\tviewer_16473767275619926.addStyle({\"resi\": 16.0, \"chain\": \"A\"},{\"sphere\": {\"color\": \"red\", \"opacity\": 0.6}});\n\tviewer_16473767275619926.addLabel(\"G16R LoE:3\",{\"fontSize\": 10, \"fontColor\": \"red\", \"backgroundColor\": \"ivory\"},{\"resi\": 16.0, \"chain\": \"A\"});\n\tviewer_16473767275619926.addStyle({\"resi\": 16.0, \"chain\": \"A\"},{\"stick\": {\"colorscheme\": \"pinkCarbon\", \"radius\": 0.2}});\n\tviewer_16473767275619926.addStyle({\"resi\": 16.0, \"chain\": \"A\"},{\"sphere\": {\"color\": \"pink\", \"opacity\": 0.6}});\n\tviewer_16473767275619926.addLabel(\"G16R LoE:4\",{\"fontSize\": 10, \"fontColor\": \"pink\", \"backgroundColor\": \"ivory\"},{\"resi\": 16.0, \"chain\": \"A\"});\n\tviewer_16473767275619926.addStyle({\"resi\": 175.0, \"chain\": \"A\"},{\"stick\": {\"colorscheme\": \"redCarbon\", \"radius\": 0.2}});\n\tviewer_16473767275619926.addStyle({\"resi\": 175.0, \"chain\": \"A\"},{\"sphere\": {\"color\": \"red\", \"opacity\": 0.6}});\n\tviewer_16473767275619926.addLabel(\"R175W LoE:3\",{\"fontSize\": 10, \"fontColor\": \"red\", \"backgroundColor\": \"ivory\"},{\"resi\": 175.0, \"chain\": \"A\"});\n\tviewer_16473767275619926.addStyle({\"resi\": 164.0, \"chain\": \"A\"},{\"stick\": {\"colorscheme\": \"redCarbon\", \"radius\": 0.2}});\n\tviewer_16473767275619926.addStyle({\"resi\": 164.0, \"chain\": \"A\"},{\"sphere\": {\"color\": \"red\", \"opacity\": 0.6}});\n\tviewer_16473767275619926.addLabel(\"T164I LoE:3\",{\"fontSize\": 10, \"fontColor\": \"red\", \"backgroundColor\": \"ivory\"},{\"resi\": 164.0, \"chain\": \"A\"});\n\tviewer_16473767275619926.zoomTo({\"resi\": [16.0, 16.0, 16.0, 175.0, 164.0], \"chain\": \"A\"});\nviewer_16473767275619926.render();\n})\n});\n</script>",
                  "text/html": "<div id=\"3dmolviewer_16473767275619926\"  style=\"position: relative; width: 640px; height: 480px\">\n        <p id=\"3dmolwarning_16473767275619926\" style=\"background-color:#ffcccc;color:black\">You appear to be running in JupyterLab (or JavaScript failed to load for some other reason).  You need to install the 3dmol extension: <br>\n        <tt>jupyter labextension install jupyterlab_3dmol</tt></p>\n        </div>\n<script>\n\nvar loadScriptAsync = function(uri){\n  return new Promise((resolve, reject) => {\n    var tag = document.createElement('script');\n    tag.src = uri;\n    tag.async = true;\n    tag.onload = () => {\n      resolve();\n    };\n  var firstScriptTag = document.getElementsByTagName('script')[0];\n  firstScriptTag.parentNode.insertBefore(tag, firstScriptTag);\n});\n};\n\nif(typeof $3Dmolpromise === 'undefined') {\n$3Dmolpromise = null;\n  $3Dmolpromise = loadScriptAsync('https://3dmol.org/build/3Dmol.js');\n}\n\nvar viewer_16473767275619926 = null;\nvar warn = document.getElementById(\"3dmolwarning_16473767275619926\");\nif(warn) {\n    warn.parentNode.removeChild(warn);\n}\n$3Dmolpromise.then(function() {\nviewer_16473767275619926 = $3Dmol.createViewer($(\"#3dmolviewer_16473767275619926\"),{backgroundColor:\"white\"});\n$3Dmol.download(\"pdb:2RH1\", viewer_16473767275619926, {\"doAssembly\": false}, function() {\nviewer_16473767275619926.zoomTo();\n\tviewer_16473767275619926.setStyle({\"cartoon\": {\"colorscheme\": \"chain\", \"width\": 0.6, \"opacity\": 0.9}});\n\tviewer_16473767275619926.setStyle({\"hetflag\": true},{\"stick\": {\"radius\": 0.3, \"singleBond\": false}});\n\tviewer_16473767275619926.addStyle({\"chain\": \"A\", \"resi\": [16.0, 16.0, 16.0, 175.0, 164.0], \"byres\": true, \"expand\": 5},{\"stick\": {\"colorscheme\": \"orangeCarbon\", \"radius\": 0.15}});\n\tviewer_16473767275619926.addStyle({\"resi\": 16.0, \"chain\": \"A\"},{\"stick\": {\"colorscheme\": \"darkredCarbon\", \"radius\": 0.2}});\n\tviewer_16473767275619926.addStyle({\"resi\": 16.0, \"chain\": \"A\"},{\"sphere\": {\"color\": \"darkred\", \"opacity\": 0.6}});\n\tviewer_16473767275619926.addLabel(\"G16R LoE:2A\",{\"fontSize\": 10, \"fontColor\": \"darkred\", \"backgroundColor\": \"ivory\"},{\"resi\": 16.0, \"chain\": \"A\"});\n\tviewer_16473767275619926.addStyle({\"resi\": 16.0, \"chain\": \"A\"},{\"stick\": {\"colorscheme\": \"redCarbon\", \"radius\": 0.2}});\n\tviewer_16473767275619926.addStyle({\"resi\": 16.0, \"chain\": \"A\"},{\"sphere\": {\"color\": \"red\", \"opacity\": 0.6}});\n\tviewer_16473767275619926.addLabel(\"G16R LoE:3\",{\"fontSize\": 10, \"fontColor\": \"red\", \"backgroundColor\": \"ivory\"},{\"resi\": 16.0, \"chain\": \"A\"});\n\tviewer_16473767275619926.addStyle({\"resi\": 16.0, \"chain\": \"A\"},{\"stick\": {\"colorscheme\": \"pinkCarbon\", \"radius\": 0.2}});\n\tviewer_16473767275619926.addStyle({\"resi\": 16.0, \"chain\": \"A\"},{\"sphere\": {\"color\": \"pink\", \"opacity\": 0.6}});\n\tviewer_16473767275619926.addLabel(\"G16R LoE:4\",{\"fontSize\": 10, \"fontColor\": \"pink\", \"backgroundColor\": \"ivory\"},{\"resi\": 16.0, \"chain\": \"A\"});\n\tviewer_16473767275619926.addStyle({\"resi\": 175.0, \"chain\": \"A\"},{\"stick\": {\"colorscheme\": \"redCarbon\", \"radius\": 0.2}});\n\tviewer_16473767275619926.addStyle({\"resi\": 175.0, \"chain\": \"A\"},{\"sphere\": {\"color\": \"red\", \"opacity\": 0.6}});\n\tviewer_16473767275619926.addLabel(\"R175W LoE:3\",{\"fontSize\": 10, \"fontColor\": \"red\", \"backgroundColor\": \"ivory\"},{\"resi\": 175.0, \"chain\": \"A\"});\n\tviewer_16473767275619926.addStyle({\"resi\": 164.0, \"chain\": \"A\"},{\"stick\": {\"colorscheme\": \"redCarbon\", \"radius\": 0.2}});\n\tviewer_16473767275619926.addStyle({\"resi\": 164.0, \"chain\": \"A\"},{\"sphere\": {\"color\": \"red\", \"opacity\": 0.6}});\n\tviewer_16473767275619926.addLabel(\"T164I LoE:3\",{\"fontSize\": 10, \"fontColor\": \"red\", \"backgroundColor\": \"ivory\"},{\"resi\": 164.0, \"chain\": \"A\"});\n\tviewer_16473767275619926.zoomTo({\"resi\": [16.0, 16.0, 16.0, 175.0, 164.0], \"chain\": \"A\"});\nviewer_16473767275619926.render();\n})\n});\n</script>"
                },
                "metadata": {},
                "output_type": "display_data"
              }
            ]
          }
        },
        "875cd741cfb345a1b5c7375c364dcd93": {
          "model_module": "@jupyter-widgets/base",
          "model_module_version": "1.2.0",
          "model_name": "LayoutModel",
          "state": {
            "_model_module": "@jupyter-widgets/base",
            "_model_module_version": "1.2.0",
            "_model_name": "LayoutModel",
            "_view_count": null,
            "_view_module": "@jupyter-widgets/base",
            "_view_module_version": "1.2.0",
            "_view_name": "LayoutView",
            "align_content": null,
            "align_items": null,
            "align_self": null,
            "border": null,
            "bottom": null,
            "display": null,
            "flex": null,
            "flex_flow": null,
            "grid_area": null,
            "grid_auto_columns": null,
            "grid_auto_flow": null,
            "grid_auto_rows": null,
            "grid_column": null,
            "grid_gap": null,
            "grid_row": null,
            "grid_template_areas": null,
            "grid_template_columns": null,
            "grid_template_rows": null,
            "height": null,
            "justify_content": null,
            "justify_items": null,
            "left": null,
            "margin": null,
            "max_height": null,
            "max_width": null,
            "min_height": null,
            "min_width": null,
            "object_fit": null,
            "object_position": null,
            "order": null,
            "overflow": null,
            "overflow_x": null,
            "overflow_y": null,
            "padding": null,
            "right": null,
            "top": null,
            "visibility": null,
            "width": null
          }
        },
        "8dfe464893a0467da39354fe615d56df": {
          "model_module": "@jupyter-widgets/controls",
          "model_module_version": "1.5.0",
          "model_name": "CheckboxModel",
          "state": {
            "_dom_classes": [],
            "_model_module": "@jupyter-widgets/controls",
            "_model_module_version": "1.5.0",
            "_model_name": "CheckboxModel",
            "_view_count": null,
            "_view_module": "@jupyter-widgets/controls",
            "_view_module_version": "1.5.0",
            "_view_name": "CheckboxView",
            "description": "show_labels",
            "description_tooltip": null,
            "disabled": false,
            "indent": true,
            "layout": "IPY_MODEL_94a441844dbf4fb2b47e6013881ddeb8",
            "style": "IPY_MODEL_7d663cced7d54d10a9ba9c18673fb9d4",
            "value": false
          }
        },
        "94a441844dbf4fb2b47e6013881ddeb8": {
          "model_module": "@jupyter-widgets/base",
          "model_module_version": "1.2.0",
          "model_name": "LayoutModel",
          "state": {
            "_model_module": "@jupyter-widgets/base",
            "_model_module_version": "1.2.0",
            "_model_name": "LayoutModel",
            "_view_count": null,
            "_view_module": "@jupyter-widgets/base",
            "_view_module_version": "1.2.0",
            "_view_name": "LayoutView",
            "align_content": null,
            "align_items": null,
            "align_self": null,
            "border": null,
            "bottom": null,
            "display": null,
            "flex": null,
            "flex_flow": null,
            "grid_area": null,
            "grid_auto_columns": null,
            "grid_auto_flow": null,
            "grid_auto_rows": null,
            "grid_column": null,
            "grid_gap": null,
            "grid_row": null,
            "grid_template_areas": null,
            "grid_template_columns": null,
            "grid_template_rows": null,
            "height": null,
            "justify_content": null,
            "justify_items": null,
            "left": null,
            "margin": null,
            "max_height": null,
            "max_width": null,
            "min_height": null,
            "min_width": null,
            "object_fit": null,
            "object_position": null,
            "order": null,
            "overflow": null,
            "overflow_x": null,
            "overflow_y": null,
            "padding": null,
            "right": null,
            "top": null,
            "visibility": null,
            "width": null
          }
        },
        "961ef64f420c48229192cffee2233bd7": {
          "model_module": "@jupyter-widgets/base",
          "model_module_version": "1.2.0",
          "model_name": "LayoutModel",
          "state": {
            "_model_module": "@jupyter-widgets/base",
            "_model_module_version": "1.2.0",
            "_model_name": "LayoutModel",
            "_view_count": null,
            "_view_module": "@jupyter-widgets/base",
            "_view_module_version": "1.2.0",
            "_view_name": "LayoutView",
            "align_content": null,
            "align_items": null,
            "align_self": null,
            "border": null,
            "bottom": null,
            "display": null,
            "flex": null,
            "flex_flow": null,
            "grid_area": null,
            "grid_auto_columns": null,
            "grid_auto_flow": null,
            "grid_auto_rows": null,
            "grid_column": null,
            "grid_gap": null,
            "grid_row": null,
            "grid_template_areas": null,
            "grid_template_columns": null,
            "grid_template_rows": null,
            "height": null,
            "justify_content": null,
            "justify_items": null,
            "left": null,
            "margin": null,
            "max_height": null,
            "max_width": null,
            "min_height": null,
            "min_width": null,
            "object_fit": null,
            "object_position": null,
            "order": null,
            "overflow": null,
            "overflow_x": null,
            "overflow_y": null,
            "padding": null,
            "right": null,
            "top": null,
            "visibility": null,
            "width": null
          }
        },
        "96ad2fd2c2a4453c99c6eecb30e4f9f7": {
          "model_module": "@jupyter-widgets/base",
          "model_module_version": "1.2.0",
          "model_name": "LayoutModel",
          "state": {
            "_model_module": "@jupyter-widgets/base",
            "_model_module_version": "1.2.0",
            "_model_name": "LayoutModel",
            "_view_count": null,
            "_view_module": "@jupyter-widgets/base",
            "_view_module_version": "1.2.0",
            "_view_name": "LayoutView",
            "align_content": null,
            "align_items": null,
            "align_self": null,
            "border": null,
            "bottom": null,
            "display": null,
            "flex": null,
            "flex_flow": null,
            "grid_area": null,
            "grid_auto_columns": null,
            "grid_auto_flow": null,
            "grid_auto_rows": null,
            "grid_column": null,
            "grid_gap": null,
            "grid_row": null,
            "grid_template_areas": null,
            "grid_template_columns": null,
            "grid_template_rows": null,
            "height": null,
            "justify_content": null,
            "justify_items": null,
            "left": null,
            "margin": null,
            "max_height": null,
            "max_width": null,
            "min_height": null,
            "min_width": null,
            "object_fit": null,
            "object_position": null,
            "order": null,
            "overflow": null,
            "overflow_x": null,
            "overflow_y": null,
            "padding": null,
            "right": null,
            "top": null,
            "visibility": null,
            "width": null
          }
        },
        "c08db9c056d6463f8f7c284f99511a48": {
          "model_module": "@jupyter-widgets/base",
          "model_module_version": "1.2.0",
          "model_name": "LayoutModel",
          "state": {
            "_model_module": "@jupyter-widgets/base",
            "_model_module_version": "1.2.0",
            "_model_name": "LayoutModel",
            "_view_count": null,
            "_view_module": "@jupyter-widgets/base",
            "_view_module_version": "1.2.0",
            "_view_name": "LayoutView",
            "align_content": null,
            "align_items": null,
            "align_self": null,
            "border": null,
            "bottom": null,
            "display": null,
            "flex": null,
            "flex_flow": null,
            "grid_area": null,
            "grid_auto_columns": null,
            "grid_auto_flow": null,
            "grid_auto_rows": null,
            "grid_column": null,
            "grid_gap": null,
            "grid_row": null,
            "grid_template_areas": null,
            "grid_template_columns": null,
            "grid_template_rows": null,
            "height": null,
            "justify_content": null,
            "justify_items": null,
            "left": null,
            "margin": null,
            "max_height": null,
            "max_width": null,
            "min_height": null,
            "min_width": null,
            "object_fit": null,
            "object_position": null,
            "order": null,
            "overflow": null,
            "overflow_x": null,
            "overflow_y": null,
            "padding": null,
            "right": null,
            "top": null,
            "visibility": null,
            "width": null
          }
        },
        "d0e1545811f74658be55abf8a0672244": {
          "model_module": "@jupyter-widgets/controls",
          "model_module_version": "1.5.0",
          "model_name": "SliderStyleModel",
          "state": {
            "_model_module": "@jupyter-widgets/controls",
            "_model_module_version": "1.5.0",
            "_model_name": "SliderStyleModel",
            "_view_count": null,
            "_view_module": "@jupyter-widgets/base",
            "_view_module_version": "1.2.0",
            "_view_name": "StyleView",
            "description_width": "",
            "handle_color": null
          }
        },
        "d61c7892dc3b471287d695ea38728149": {
          "model_module": "@jupyter-widgets/controls",
          "model_module_version": "1.5.0",
          "model_name": "DescriptionStyleModel",
          "state": {
            "_model_module": "@jupyter-widgets/controls",
            "_model_module_version": "1.5.0",
            "_model_name": "DescriptionStyleModel",
            "_view_count": null,
            "_view_module": "@jupyter-widgets/base",
            "_view_module_version": "1.2.0",
            "_view_name": "StyleView",
            "description_width": ""
          }
        },
        "daa30ca7b6344aecbd6764c8b3c6851b": {
          "model_module": "@jupyter-widgets/base",
          "model_module_version": "1.2.0",
          "model_name": "LayoutModel",
          "state": {
            "_model_module": "@jupyter-widgets/base",
            "_model_module_version": "1.2.0",
            "_model_name": "LayoutModel",
            "_view_count": null,
            "_view_module": "@jupyter-widgets/base",
            "_view_module_version": "1.2.0",
            "_view_name": "LayoutView",
            "align_content": null,
            "align_items": null,
            "align_self": null,
            "border": null,
            "bottom": null,
            "display": null,
            "flex": null,
            "flex_flow": null,
            "grid_area": null,
            "grid_auto_columns": null,
            "grid_auto_flow": null,
            "grid_auto_rows": null,
            "grid_column": null,
            "grid_gap": null,
            "grid_row": null,
            "grid_template_areas": null,
            "grid_template_columns": null,
            "grid_template_rows": null,
            "height": null,
            "justify_content": null,
            "justify_items": null,
            "left": null,
            "margin": null,
            "max_height": null,
            "max_width": null,
            "min_height": null,
            "min_width": null,
            "object_fit": null,
            "object_position": null,
            "order": null,
            "overflow": null,
            "overflow_x": null,
            "overflow_y": null,
            "padding": null,
            "right": null,
            "top": null,
            "visibility": null,
            "width": null
          }
        },
        "dc0fed092bd0499a8a30b24a72357a7f": {
          "model_module": "@jupyter-widgets/controls",
          "model_module_version": "1.5.0",
          "model_name": "VBoxModel",
          "state": {
            "_dom_classes": [
              "widget-interact"
            ],
            "_model_module": "@jupyter-widgets/controls",
            "_model_module_version": "1.5.0",
            "_model_name": "VBoxModel",
            "_view_count": null,
            "_view_module": "@jupyter-widgets/controls",
            "_view_module_version": "1.5.0",
            "_view_name": "VBoxView",
            "box_style": "",
            "children": [
              "IPY_MODEL_3128744141ff41fc99efad48af83b58c",
              "IPY_MODEL_6fe0de7c2ebe4d53af1b782b4b81d69d",
              "IPY_MODEL_8dfe464893a0467da39354fe615d56df",
              "IPY_MODEL_5401e74cd51b4e58acc1609945a42a15",
              "IPY_MODEL_228ef6ad06fe407eb996e04807e3c4d2"
            ],
            "layout": "IPY_MODEL_3e96596ae35b4405802a2298286a4c70"
          }
        },
        "e46dd0ff0c964178913504bac5c44579": {
          "model_module": "@jupyter-widgets/controls",
          "model_module_version": "1.5.0",
          "model_name": "DescriptionStyleModel",
          "state": {
            "_model_module": "@jupyter-widgets/controls",
            "_model_module_version": "1.5.0",
            "_model_name": "DescriptionStyleModel",
            "_view_count": null,
            "_view_module": "@jupyter-widgets/base",
            "_view_module_version": "1.2.0",
            "_view_name": "StyleView",
            "description_width": ""
          }
        },
        "f2e97ad1564141b18f8f87641b8ad9bf": {
          "model_module": "@jupyter-widgets/base",
          "model_module_version": "1.2.0",
          "model_name": "LayoutModel",
          "state": {
            "_model_module": "@jupyter-widgets/base",
            "_model_module_version": "1.2.0",
            "_model_name": "LayoutModel",
            "_view_count": null,
            "_view_module": "@jupyter-widgets/base",
            "_view_module_version": "1.2.0",
            "_view_name": "LayoutView",
            "align_content": null,
            "align_items": null,
            "align_self": null,
            "border": null,
            "bottom": null,
            "display": null,
            "flex": null,
            "flex_flow": null,
            "grid_area": null,
            "grid_auto_columns": null,
            "grid_auto_flow": null,
            "grid_auto_rows": null,
            "grid_column": null,
            "grid_gap": null,
            "grid_row": null,
            "grid_template_areas": null,
            "grid_template_columns": null,
            "grid_template_rows": null,
            "height": null,
            "justify_content": null,
            "justify_items": null,
            "left": null,
            "margin": null,
            "max_height": null,
            "max_width": null,
            "min_height": null,
            "min_width": null,
            "object_fit": null,
            "object_position": null,
            "order": null,
            "overflow": null,
            "overflow_x": null,
            "overflow_y": null,
            "padding": null,
            "right": null,
            "top": null,
            "visibility": null,
            "width": null
          }
        },
        "f4ea2ec9a90a4ffc84e22a3dab67df8d": {
          "model_module": "@jupyter-widgets/controls",
          "model_module_version": "1.5.0",
          "model_name": "IntSliderModel",
          "state": {
            "_dom_classes": [],
            "_model_module": "@jupyter-widgets/controls",
            "_model_module_version": "1.5.0",
            "_model_name": "IntSliderModel",
            "_view_count": null,
            "_view_module": "@jupyter-widgets/controls",
            "_view_module_version": "1.5.0",
            "_view_name": "IntSliderView",
            "continuous_update": false,
            "description": "Structure",
            "description_tooltip": null,
            "disabled": false,
            "layout": "IPY_MODEL_875cd741cfb345a1b5c7375c364dcd93",
            "max": 11,
            "min": 0,
            "orientation": "horizontal",
            "readout": true,
            "readout_format": "d",
            "step": 1,
            "style": "IPY_MODEL_6ffd482a0ebd4053a67274f4f61f9f39",
            "value": 0
          }
        },
        "f678145ae7f244faa6f71f86e0d11c55": {
          "model_module": "@jupyter-widgets/controls",
          "model_module_version": "1.5.0",
          "model_name": "DescriptionStyleModel",
          "state": {
            "_model_module": "@jupyter-widgets/controls",
            "_model_module_version": "1.5.0",
            "_model_name": "DescriptionStyleModel",
            "_view_count": null,
            "_view_module": "@jupyter-widgets/base",
            "_view_module_version": "1.2.0",
            "_view_name": "StyleView",
            "description_width": ""
          }
        }
      }
    }
  },
  "nbformat": 4,
  "nbformat_minor": 0
}
